{
 "cells": [
  {
   "cell_type": "markdown",
   "id": "e31ebc1b",
   "metadata": {},
   "source": [
    "# <p style=\"background-color:#FF6961; font-family:newtimeroman;color:#FFF9ED;font-size:220%; text-align:center; border-radius: 15px 55px;\">🌡️ Health Expense Explorer 💸</p>\n"
   ]
  },
  {
   "cell_type": "markdown",
   "id": "d2fb99c0",
   "metadata": {},
   "source": [
    "<img src=\"https://img.freepik.com/premium-vector/hospital-medical-billing-services-illustration_2175-4532.jpg?w=2000\" width=\"700\" height=\"200\">\n",
    "\n",
    "[Image Credit](https://img.freepik.com/premium-vector/hospital-medical-billing-services-illustration_2175-4532.jpg?w=2000)\n"
   ]
  },
  {
   "cell_type": "markdown",
   "id": "c81d2aca",
   "metadata": {},
   "source": [
    "## About the Dataset\n",
    "\n",
    "**Context:**\n",
    "The dataset used for this exploratory data analysis (EDA) is sourced from Kaggle and is focused on insurance-related information.  The dataset, available on Kaggle under the title \"Insurance Dataset,\" provides insights into various aspects of insurance, including policyholders' attributes and insurance charges.\n",
    "\n",
    "**Aim:**\n",
    "The primary objective of this EDA is to explore and analyze the insurance dataset to gain a deeper understanding of the information it contains. We aim to uncover patterns, relationships, and valuable insights within the dataset. This analysis will help us make informed decisions and potentially create predictive models for insurance-related tasks.\n",
    "\n",
    "**Dataset Details:**\n",
    "- Number of Rows: 1338\n",
    "- Missing Values: None\n",
    "- Target Variable: Charges (we are attempting to predict charges)\n",
    "\n",
    "**Dataset Source:**\n",
    "The dataset is publicly available on Kaggle, and you can access it by following this link: [Insurance Dataset on Kaggle](https://www.kaggle.com/datasets/mirichoi0218/insurance?datasetId=13720&sortBy=voteCount).\n"
   ]
  },
  {
   "cell_type": "markdown",
   "id": "5ac69444",
   "metadata": {},
   "source": [
    "<h3 style=\"text-align:center;font-size:200%;\">Progress Bars</h3>\n",
    "<div class=\"progress\">\n",
    "  <div class=\"progress-bar bg-danger\" role=\"progressbar\" style=\"width: 0%;\" aria-valuenow=\"0\" aria-valuemin=\"0\" aria-valuemax=\"100\">0%</div>\n",
    "</div>\n",
    "\n"
   ]
  },
  {
   "cell_type": "markdown",
   "id": "f879f589",
   "metadata": {},
   "source": [
    "<h6><span class=\"label label-danger\">Attention</span>This study consists of six parts. You can access the entire study through the following links. Good luck with your work. </h6>"
   ]
  },
  {
   "cell_type": "markdown",
   "id": "8f481b35",
   "metadata": {},
   "source": [
    "<ul class=\"nav flex-column\">\n",
    "  <h3 class=\"list-group-item list-group-item-action active\" data-toggle=\"list\" role=\"tab\" aria-controls=\"home\" style=\"background-color:#FF6961; color:white\"><b> Health Expense Explorer </b></h3>\n",
    "  <li class=\"nav-item\">\n",
    "  <li class=\"nav-item\">\n",
    "    <a class=\"nav-link\" style=\"background-color:; color:red\" href=\"https://github.com/huseyincenik/data_science/tree/main/Projects/Health%20Expense%20Explorer\"><b>Github Notebook Link</b></a>\n",
    "  </li>\n",
    "    <li class=\"nav-item\">\n",
    "    <a class=\"nav-link\" style=\"background-color:; color:blue\" href=\"https://www.kaggle.com/huseyincenik\"><b>My Kaggle Account</b></a>\n",
    "  </li>  \n",
    "  <li class=\"nav-item\">\n",
    "    <a class=\"nav-link\" style=\"background-color:; color:green\" href=\"https://www.linkedin.com/in/huseyincenik/\"><b>My Linkedin Account</b></a>\n",
    "  </li>\n",
    "</ul>\n"
   ]
  },
  {
   "cell_type": "markdown",
   "id": "2dce25c7",
   "metadata": {},
   "source": [
    "<a id=\"toc\"></a>\n",
    "<div style=\"border-radius: 10px;\n",
    "            border: black solid;\n",
    "            background-color: lightblue;\n",
    "            font-size: 100%;\n",
    "            text-align: left;\n",
    "            box-shadow: 2px 2px 4px rgba(0, 0, 0, 0.5);\">\n",
    "<h2 style=\"border: 0; border-radius: 15px; font-weight: bold; font-size: 220%; color: white; background-color: red;\"><center> ✍✍ Content ✍✍</center></h2>  \n",
    "<div style=\"display: flex;\">\n",
    "    <hr style=\"border: none;\n",
    "               height: 2px;\n",
    "               width: 100%;\n",
    "               background-color: linear-gradient(to right, blue, white);\n",
    "               box-shadow: 0px 2px 4px rgba(0, 0, 0, 0.5);\n",
    "               margin-left: 0;\">\n",
    "</div>      \n",
    "<div>\n",
    "  <ul style=\"background-color: white;\">\n",
    "    <li><a href=\"#part_1\">PART - 1 IMPORTING REQUIRED LIBRARIES</a></li>\n",
    "    <li><a href=\"#part_2\">PART - 2 PERFORM AN EXPLORATORY DATA ANALYSIS</a></li>\n",
    "    <li><a href=\"#part_3\">PART - 3 DATA PREPROCESSING</a></li>\n",
    "    <li><a href=\"#part_4\">PART - 4 MODEL SELECTION</a></li>\n",
    "    <li><a href=\"#part_5\">PART - 5 HYPER-PARAMETERS OPTIMIZATION</a></li> \n",
    "    <li><a href=\"#part_6\">PART - 6 MODEL EVALUATION</a></li>  \n",
    "  </ul>\n",
    "</div>\n",
    "<div style=\"display: flex;\">\n",
    "    <hr style=\"border: none;\n",
    "               height: 2px;\n",
    "               width: 100%;\n",
    "               background-color: linear-gradient(to right, blue, white);\n",
    "               box-shadow: 0px 2px 4px rgba(0, 0, 0, 0.5);\n",
    "               margin-left: 0;\">\n",
    "</div>\n",
    "<div>\n",
    "  <ul style=\"background-color: white;\">\n",
    "    <li><a href=\"#the_end\">THE END </a></li>\n",
    "  </ul>\n",
    "</div>\n",
    "</div>"
   ]
  },
  {
   "cell_type": "markdown",
   "id": "80a11985",
   "metadata": {},
   "source": [
    "<a id=\"part_1\"></a>\n",
    "# <p style=\"background-color:#FF6961; font-family:newtimeroman;color:#FFF9ED; font-size:150%; text-align:center; border-radius: 15px 50px;\"> ✨ 1 - Importing Required Libraries ✨</p>\n",
    "\n"
   ]
  },
  {
   "cell_type": "markdown",
   "id": "28a1b8e7",
   "metadata": {},
   "source": [
    "<a href=\"#part_1\" class=\"btn btn-danger btn-lg active\" role=\"button\" aria-pressed=\"true\" style=\"color:white;\">Part - 1</a>\n",
    "<a href=\"#toc\" class=\"btn btn-warning btn-lg active\" role=\"button\" aria-pressed=\"true\" style=\"color:black;\">Content</a>"
   ]
  },
  {
   "cell_type": "markdown",
   "id": "7e80e01b",
   "metadata": {},
   "source": [
    "<div class=\"list-group\" id=\"list-tab\" role=\"tablist\">\n",
    "  <h3 class=\"list-group-item list-group-item-action active\" data-toggle=\"list\"  role=\"tab\" aria-controls=\"home\">\n",
    "    Content\n",
    "  </h3>\n",
    "  <a class=\"list-group-item list-group-item-action\" data-toggle=\"list\" href=\"#part_1_dataset\" role=\"tab\" aria-controls=\"profile\">\n",
    "    Dataset Explanation\n",
    "    <span class=\"badge badge-primary badge-pill\">1</span>\n",
    "  </a>\n",
    "  <a class=\"list-group-item list-group-item-action\" data-toggle=\"list\" href=\"#part_1_importing\" role=\"tab\" aria-controls=\"messages\">\n",
    "    Importing Libraries Needed in This Notebook\n",
    "    <span class=\"badge badge-primary badge-pill\">2</span>\n",
    "  </a>\n",
    "  <a class=\"list-group-item list-group-item-action\"  data-toggle=\"list\" href=\"#part_1_def\" role=\"tab\" aria-controls=\"settings\">\n",
    "    User Defined Functions (DEFs)\n",
    "    <span class=\"badge badge-primary badge-pill\">3</span>\n",
    "  </a>\n",
    "  <a class=\"list-group-item list-group-item-action\"  data-toggle=\"list\" href=\"#part_1_reading\" role=\"tab\" aria-controls=\"settings\">\n",
    "    Reading & Understanding Data\n",
    "    <span class=\"badge badge-primary badge-pill\">4</span>\n",
    "  </a>\n",
    "</div>\n"
   ]
  },
  {
   "cell_type": "markdown",
   "id": "c327d395",
   "metadata": {},
   "source": [
    "<a id=\"part_1_dataset\"></a>\n",
    "# <p style=\"background-color:#3498DB; font-family:newtimeroman;color:#FFF9ED; font-size:150%; text-align:center; border-radius: 15px 50px;\"> ✨ Dataset Explanation ✨</p>\n"
   ]
  },
  {
   "cell_type": "markdown",
   "id": "1c5471df",
   "metadata": {},
   "source": [
    "<a href=\"#part_1\" class=\"btn btn-danger btn-lg active\" role=\"button\" aria-pressed=\"true\" style=\"color:white;\">Part - 1</a>\n",
    "<a href=\"#toc\" class=\"btn btn-warning btn-lg active\" role=\"button\" aria-pressed=\"true\" style=\"color:black;\">Content</a>"
   ]
  },
  {
   "cell_type": "markdown",
   "id": "035de1f1",
   "metadata": {},
   "source": [
    "<div style=\"border-radius: 10px; border: 1px solid #1E90FF; background-color: #F0E68C; font-size: 100%; text-align: left; box-shadow: 2px 2px 4px rgba(0, 0, 0, 0.5); padding: 10px; margin-bottom: 20px;\">\n",
    "    <h2 style=\"border: 0; border-radius: 15px; font-weight: bold; font-size: 220%; color: #FF4500; background-color: #FFF8DC; padding: 10px; text-align: center; text-shadow: 2px 2px 4px rgba(0, 0, 0, 0.5);\">⚡️ Explanation of the Variables ⚡️</h2>\n",
    "    <ul style=\"list-style-type: none; padding-left: 0; color: #00008B;\">\n",
    "        <li><strong>age:</strong> Age of the primary beneficiary.</li>\n",
    "        <li><strong>sex:</strong> Gender of the insurance contractor (female, male).</li>\n",
    "        <li><strong>bmi:</strong> Body mass index, providing an understanding of body weight relative to height. It is an objective index of body weight (kg/m^2) using the ratio of height to weight, with an ideal range of 18.5 to 24.9.</li>\n",
    "        <li><strong>children:</strong> Number of children covered by health insurance or number of dependents.</li>\n",
    "        <li><strong>smoker:</strong> Smoking status.</li>\n",
    "        <li><strong>region:</strong> The beneficiary's residential area in the US (northeast, southeast, southwest, northwest).</li>\n",
    "        <li><strong>charges:</strong> Individual medical costs billed by health insurance.</li>\n",
    "    </ul>\n",
    "</div>\n"
   ]
  },
  {
   "cell_type": "code",
   "execution_count": 1,
   "id": "22a01a3b",
   "metadata": {},
   "outputs": [],
   "source": [
    "import pandas as pd\n",
    "import numpy as np\n",
    "import re\n",
    "import matplotlib.pyplot as plt\n",
    "import seaborn as sns\n",
    "import sklearn\n",
    "import scipy.stats as stats\n",
    "from scipy.stats import norm\n",
    "from skimpy import clean_columns\n",
    "from termcolor import colored\n",
    "from sklearn.model_selection import train_test_split\n",
    "from sklearn.linear_model import LinearRegression\n",
    "from sklearn.preprocessing import StandardScaler  # for StandartScaler \n",
    "from sklearn import metrics\n",
    "from lazypredict.Supervised import LazyRegressor\n",
    "from sklearn.linear_model import Ridge\n",
    "from sklearn.linear_model import Lasso\n",
    "from sklearn.ensemble import GradientBoostingRegressor\n",
    "from sklearn.metrics import mean_squared_error, r2_score\n",
    "from sklearn.model_selection import cross_val_score\n",
    "from sklearn.model_selection import GridSearchCV\n",
    "\n",
    "# from zipfile import ZipFile\n",
    "\n",
    "# with ZipFile(\"as24_cars.zip\", \"r\") as file:\n",
    "#     file.extractall()\n",
    "\n",
    "# pip install skimpy\n",
    "# !pip install termcolor\n",
    "\n",
    "# import colorama\n",
    "# from colorama import Fore, Style  # makes strings colored\n",
    "# from termcolor import colored\n",
    "# from termcolor import cprint\n",
    "\n",
    "# import warnings\n",
    "# warnings.filterwarnings(\"ignore\")\n",
    "# warnings.warn(\"this will not show\")\n",
    "\n",
    "# plt.rcParams[\"figure.figsize\"] = (8, 5)\n",
    "\n",
    "# sns.set_style(\"whitegrid\")\n",
    "# pd.set_option('display.float_format', lambda x: '%.3f' % x)\n",
    "\n",
    "# # Set it None to display all rows in the dataframe\n",
    "# # pd.set_option('display.max_rows', None)\n",
    "\n",
    "# # Set it to None to display all columns in the dataframe\n",
    "# pd.set_option('display.max_columns', None)"
   ]
  },
  {
   "cell_type": "code",
   "execution_count": 2,
   "id": "f2e6eddb",
   "metadata": {},
   "outputs": [
    {
     "name": "stdout",
     "output_type": "stream",
     "text": [
      "skimpy version: unknown\n",
      "pandas version: 1.5.3\n",
      "numpy version: 1.23.5\n",
      "matplotlib version: 3.7.0\n",
      "seaborn version: 0.12.2\n",
      "sklearn version: 1.2.1\n",
      "scipy version: 1.10.0\n",
      "lazypredict version: 0.2.12\n",
      "termcolor version: unknown\n",
      "re version: 2.2.1\n"
     ]
    }
   ],
   "source": [
    "libraries = ['skimpy', 'pandas', 'numpy', 'matplotlib', 'seaborn', 'sklearn', 'scipy', 'lazypredict', 'termcolor', 're']\n",
    "\n",
    "for lib in libraries:\n",
    "    module = __import__(lib)\n",
    "    version = getattr(module, '__version__', 'unknown')\n",
    "    print(f\"{lib} version: {version}\")\n"
   ]
  },
  {
   "cell_type": "markdown",
   "id": "d25f76ba",
   "metadata": {
    "scrolled": true
   },
   "source": [
    "<a id=\"part_1_def\"></a>\n",
    "# <p style=\"background-color:#3498DB; font-family:newtimeroman;color:#FFF9ED; font-size:150%; text-align:center; border-radius: 15px 50px;\"> ✨ User Defined Functions (DEFs) ✨</p>\n"
   ]
  },
  {
   "cell_type": "markdown",
   "id": "2ea3e096",
   "metadata": {},
   "source": [
    "<a href=\"#part_1\" class=\"btn btn-danger btn-lg active\" role=\"button\" aria-pressed=\"true\" style=\"color:white;\">Part - 1</a>\n",
    "<a href=\"#toc\" class=\"btn btn-warning btn-lg active\" role=\"button\" aria-pressed=\"true\" style=\"color:black;\">Content</a>"
   ]
  },
  {
   "cell_type": "code",
   "execution_count": 3,
   "id": "2f2fba2e",
   "metadata": {},
   "outputs": [],
   "source": [
    "## Some Useful User-Defined-Functions\n",
    "\n",
    "###############################################################################\n",
    "\n",
    "def missing_values(df):\n",
    "    missing_number = df.isnull().sum().sort_values(ascending=False)\n",
    "    missing_percent = (df.isnull().sum()/df.isnull().count()*100).sort_values(ascending=False)\n",
    "    missing_values = pd.concat([missing_number, missing_percent], axis=1, keys=['Missing_Number', 'Missing_Percent'])\n",
    "    return missing_values[missing_values['Missing_Number']>0]\n",
    "                    \n",
    "############################################################################### "
   ]
  },
  {
   "cell_type": "code",
   "execution_count": 4,
   "id": "bb4a8415",
   "metadata": {},
   "outputs": [],
   "source": [
    "def show_distribution(col):\n",
    "    \"\"\"\n",
    "    Plots a histogram and boxplot of a numeric column in a Pandas DataFrame,\n",
    "    and prints statistical calculations about the column.\n",
    "\n",
    "    Parameters:\n",
    "    -----------\n",
    "    col : Pandas Series\n",
    "        A numeric column in a Pandas DataFrame.\n",
    "\n",
    "    Returns:\n",
    "    --------\n",
    "    None.\n",
    "\n",
    "    Prints:\n",
    "    -------\n",
    "    Statistical calculations about the column, including minimum value, mean,\n",
    "    median, mode, and maximum value.\n",
    "\n",
    "    Plots:\n",
    "    ------\n",
    "    A histogram of the column's values, with lines indicating the minimum,\n",
    "    mean, median, mode, and maximum values.\n",
    "\n",
    "    A boxplot of the column's values, with a line indicating the median and\n",
    "    markers indicating the mean and outliers.\n",
    "    \"\"\"\n",
    "    \n",
    "    # Get statistics\n",
    "    from termcolor import colored\n",
    "\n",
    "    print(colored('Statistical Calculations :', 'red', attrs=['bold']))\n",
    "    print(colored('-'*26, 'red', attrs=['bold']))    \n",
    "    min_val = col.min()\n",
    "    max_val = col.max()\n",
    "    mean_val = col.mean()\n",
    "    med_val = col.median()\n",
    "    mod_val = col.mode()[0]\n",
    "\n",
    "    print(colored('Minimum:{:>7.2f}\\nMean:{:>10.2f}\\nMedian:{:>8.2f}\\nMode:{:>10.2f}\\nMaximum:{:>7.2f}\\n'.format(min_val,\n",
    "                                                                                             mean_val,\n",
    "                                                                                             med_val,\n",
    "                                                                                             mod_val,\n",
    "                                                                                             max_val), 'blue', attrs=['bold']))\n",
    "    \n",
    "    # Create a figure for 2 subplots (2 rows, 1 column)\n",
    "    fig, ax = plt.subplots(2, 1, figsize=(15, 15))\n",
    "\n",
    "    # Plot the histogram   \n",
    "    ax[0].hist(col, bins=30)\n",
    "    ax[0].set_ylabel('Frequency', fontsize=10)\n",
    "\n",
    "    # Add lines for the mean, median, and mode\n",
    "    ax[0].axvline(x=min_val,  color='orange',     linestyle='dashed', linewidth=2, label='Minimum')\n",
    "    ax[0].axvline(x=mean_val, color='lightgreen', linestyle='dashed', linewidth=2, label='Mean')\n",
    "    ax[0].axvline(x=med_val,  color='cyan',       linestyle='dashed', linewidth=2, label='Median')\n",
    "    ax[0].axvline(x=mod_val,  color='purple',     linestyle='dashed', linewidth=2, label='Mode')\n",
    "    ax[0].axvline(x=max_val,  color='red',        linestyle='dashed', linewidth=2, label='Maximum')\n",
    "    ax[0].legend(loc='upper right')\n",
    "\n",
    "    # Plot the boxplot   \n",
    "    medianprops = dict(linestyle='-', linewidth=3, color='m')\n",
    "    boxprops=dict(linestyle='-', linewidth=1.5)\n",
    "    meanprops={\"marker\":\"d\", \"markerfacecolor\":\"blue\", \"markeredgecolor\":\"black\", \"markersize\":\"10\"}\n",
    "    flierprops={'marker': 'o', 'markersize': 8, 'markerfacecolor': 'fuchsia'}\n",
    "    \n",
    "    ax[1].boxplot(col, \n",
    "                  vert=False,\n",
    "                  notch=True, \n",
    "                  patch_artist=False,\n",
    "                  medianprops=medianprops,\n",
    "                  flierprops=flierprops,\n",
    "                  showmeans=True,\n",
    "                  meanprops=meanprops)\n",
    "    \n",
    "    ax[1].set_xlabel('value', fontsize=10)\n",
    "    \n",
    "    # Add a title to the Figure\n",
    "    fig.suptitle('Data Distribution', fontsize=20)"
   ]
  },
  {
   "cell_type": "code",
   "execution_count": 5,
   "id": "734cd7b3",
   "metadata": {},
   "outputs": [],
   "source": [
    "def df_nans(df, limit):\n",
    "    missing = df.isnull().sum()*100 / df.shape[0]\n",
    "    missing = missing.loc[lambda x : x >= limit]\n",
    "    if missing.empty:\n",
    "        return \"No columns have missing values that exceed the given limit.\"\n",
    "    else:\n",
    "        return missing\n",
    "\n",
    "def show_missing_values(limit):\n",
    "    return df_nans(df, limit)\n",
    "\n",
    "def column_nans(serial):\n",
    "    # display percentage of nans in a Series\n",
    "    return serial.isnull().sum()*100 / serial.shape[0]"
   ]
  },
  {
   "cell_type": "markdown",
   "id": "9722e75a",
   "metadata": {},
   "source": [
    "<a id=\"part_1_reading\"></a>\n",
    "# <p style=\"background-color:#3498DB; font-family:newtimeroman;color:#FFF9ED; font-size:150%; text-align:center; border-radius: 15px 50px;\"> ✨ Reading & Understanding Data ✨</p>"
   ]
  },
  {
   "cell_type": "markdown",
   "id": "26931f5b",
   "metadata": {},
   "source": [
    "<a href=\"#part_1\" class=\"btn btn-danger btn-lg active\" role=\"button\" aria-pressed=\"true\" style=\"color:white;\">Part - 1</a>\n",
    "<a href=\"#toc\" class=\"btn btn-warning btn-lg active\" role=\"button\" aria-pressed=\"true\" style=\"color:black;\">Content</a>"
   ]
  },
  {
   "cell_type": "code",
   "execution_count": 6,
   "id": "e1beef68",
   "metadata": {},
   "outputs": [
    {
     "data": {
      "text/html": [
       "<div>\n",
       "<style scoped>\n",
       "    .dataframe tbody tr th:only-of-type {\n",
       "        vertical-align: middle;\n",
       "    }\n",
       "\n",
       "    .dataframe tbody tr th {\n",
       "        vertical-align: top;\n",
       "    }\n",
       "\n",
       "    .dataframe thead th {\n",
       "        text-align: right;\n",
       "    }\n",
       "</style>\n",
       "<table border=\"1\" class=\"dataframe\">\n",
       "  <thead>\n",
       "    <tr style=\"text-align: right;\">\n",
       "      <th></th>\n",
       "      <th>age</th>\n",
       "      <th>sex</th>\n",
       "      <th>bmi</th>\n",
       "      <th>children</th>\n",
       "      <th>smoker</th>\n",
       "      <th>region</th>\n",
       "      <th>charges</th>\n",
       "    </tr>\n",
       "  </thead>\n",
       "  <tbody>\n",
       "    <tr>\n",
       "      <th>0</th>\n",
       "      <td>19</td>\n",
       "      <td>female</td>\n",
       "      <td>27.90</td>\n",
       "      <td>0</td>\n",
       "      <td>yes</td>\n",
       "      <td>southwest</td>\n",
       "      <td>16884.92</td>\n",
       "    </tr>\n",
       "    <tr>\n",
       "      <th>1</th>\n",
       "      <td>18</td>\n",
       "      <td>male</td>\n",
       "      <td>33.77</td>\n",
       "      <td>1</td>\n",
       "      <td>no</td>\n",
       "      <td>southeast</td>\n",
       "      <td>1725.55</td>\n",
       "    </tr>\n",
       "    <tr>\n",
       "      <th>2</th>\n",
       "      <td>28</td>\n",
       "      <td>male</td>\n",
       "      <td>33.00</td>\n",
       "      <td>3</td>\n",
       "      <td>no</td>\n",
       "      <td>southeast</td>\n",
       "      <td>4449.46</td>\n",
       "    </tr>\n",
       "    <tr>\n",
       "      <th>3</th>\n",
       "      <td>33</td>\n",
       "      <td>male</td>\n",
       "      <td>22.70</td>\n",
       "      <td>0</td>\n",
       "      <td>no</td>\n",
       "      <td>northwest</td>\n",
       "      <td>21984.47</td>\n",
       "    </tr>\n",
       "    <tr>\n",
       "      <th>4</th>\n",
       "      <td>32</td>\n",
       "      <td>male</td>\n",
       "      <td>28.88</td>\n",
       "      <td>0</td>\n",
       "      <td>no</td>\n",
       "      <td>northwest</td>\n",
       "      <td>3866.86</td>\n",
       "    </tr>\n",
       "  </tbody>\n",
       "</table>\n",
       "</div>"
      ],
      "text/plain": [
       "   age     sex   bmi  children smoker     region  charges\n",
       "0   19  female 27.90         0    yes  southwest 16884.92\n",
       "1   18    male 33.77         1     no  southeast  1725.55\n",
       "2   28    male 33.00         3     no  southeast  4449.46\n",
       "3   33    male 22.70         0     no  northwest 21984.47\n",
       "4   32    male 28.88         0     no  northwest  3866.86"
      ]
     },
     "execution_count": 6,
     "metadata": {},
     "output_type": "execute_result"
    }
   ],
   "source": [
    "df0 = pd.read_csv(\"insurance.csv\")\n",
    "df = df0.copy()\n",
    "df.head()"
   ]
  },
  {
   "cell_type": "code",
   "execution_count": 7,
   "id": "2293a1c3",
   "metadata": {},
   "outputs": [
    {
     "name": "stdout",
     "output_type": "stream",
     "text": [
      "<class 'pandas.core.frame.DataFrame'>\n",
      "RangeIndex: 1338 entries, 0 to 1337\n",
      "Data columns (total 7 columns):\n",
      " #   Column    Non-Null Count  Dtype  \n",
      "---  ------    --------------  -----  \n",
      " 0   age       1338 non-null   int64  \n",
      " 1   sex       1338 non-null   object \n",
      " 2   bmi       1338 non-null   float64\n",
      " 3   children  1338 non-null   int64  \n",
      " 4   smoker    1338 non-null   object \n",
      " 5   region    1338 non-null   object \n",
      " 6   charges   1338 non-null   float64\n",
      "dtypes: float64(2), int64(2), object(3)\n",
      "memory usage: 73.3+ KB\n"
     ]
    }
   ],
   "source": [
    "df.info()"
   ]
  },
  {
   "cell_type": "code",
   "execution_count": 8,
   "id": "2704c946",
   "metadata": {},
   "outputs": [
    {
     "data": {
      "image/png": "[encoded data removed]",
      "text/plain": [
       "<Figure size 640x480 with 2 Axes>"
      ]
     },
     "metadata": {},
     "output_type": "display_data"
    }
   ],
   "source": [
    "# correlation plot\n",
    "corr = df.corr(numeric_only = True)\n",
    "sns.heatmap(corr, cmap = 'Reds', annot= True);"
   ]
  },
  {
   "cell_type": "markdown",
   "id": "435807c0",
   "metadata": {},
   "source": [
    "<div class=\"alert alert-block alert-warning\">\n",
    "<b>Result: </b>  I see that the relations are <span style=\"color:red\"> <b> weak</b> </span> \n",
    "</div>"
   ]
  },
  {
   "cell_type": "markdown",
   "id": "155429e4",
   "metadata": {},
   "source": [
    "<a href=\"#part_1\" class=\"btn btn-danger btn-lg active\" role=\"button\" aria-pressed=\"true\" style=\"color:white;\">Part - 1</a>\n",
    "<a href=\"#toc\" class=\"btn btn-warning btn-lg active\" role=\"button\" aria-pressed=\"true\" style=\"color:black;\">Content</a>"
   ]
  },
  {
   "cell_type": "markdown",
   "id": "1d00196d",
   "metadata": {},
   "source": [
    "<a id=\"part_2\"></a>\n",
    "# <p style=\"background-color:#FF6961; font-family:newtimeroman;color:#FFF9ED; font-size:150%; text-align:center; border-radius: 15px 50px;\"> ✨ 2 -Perform An Exploratory Data Analysis ✨</p>\n",
    "\n"
   ]
  },
  {
   "cell_type": "markdown",
   "id": "ffe1e9c3",
   "metadata": {},
   "source": [
    "<div class=\"list-group\" id=\"list-tab\" role=\"tablist\">\n",
    "  <h3 class=\"list-group-item list-group-item-action active\" data-toggle=\"list\"  role=\"tab\" aria-controls=\"home\">\n",
    "    Content\n",
    "  </h3>\n",
    "  <a class=\"list-group-item list-group-item-action\" data-toggle=\"list\" href=\"#part_2_dist_bmi\" role=\"tab\" aria-controls=\"profile\">\n",
    "    Distribution : Bmi ( Body Mass Index )\n",
    "    <span class=\"badge badge-primary badge-pill\">1</span>\n",
    "  </a>\n",
    "  <a class=\"list-group-item list-group-item-action\" data-toggle=\"list\" href=\"#part_2_smoker_charges\" role=\"tab\" aria-controls=\"messages\">\n",
    "    Relationship : Smoker and charges\n",
    "    <span class=\"badge badge-primary badge-pill\">2</span>\n",
    "  </a>\n",
    "  <a class=\"list-group-item list-group-item-action\"  data-toggle=\"list\" href=\"#part_2_smoker_region\" role=\"tab\" aria-controls=\"settings\">\n",
    "    Relationship : Smoker and region\n",
    "    <span class=\"badge badge-primary badge-pill\">3</span>\n",
    "  </a>\n",
    "  <a class=\"list-group-item list-group-item-action\"  data-toggle=\"list\" href=\"#part_2_bmi_sex\" role=\"tab\" aria-controls=\"settings\">\n",
    "    Relationship : Bmi and Sex\n",
    "    <span class=\"badge badge-primary badge-pill\">4</span>\n",
    "  </a>\n",
    "  <a class=\"list-group-item list-group-item-action\"  data-toggle=\"list\" href=\"#part_2_region_children\" role=\"tab\" aria-controls=\"settings\">\n",
    "    Relationship : Region and Children\n",
    "    <span class=\"badge badge-primary badge-pill\">5</span>\n",
    "  </a> \n",
    "   <a class=\"list-group-item list-group-item-action\"  data-toggle=\"list\" href=\"#part_2_age_bmi\" role=\"tab\" aria-controls=\"settings\">\n",
    "    Relationship : Age and Bmi\n",
    "    <span class=\"badge badge-primary badge-pill\">6</span>\n",
    "  </a>  \n",
    "     <a class=\"list-group-item list-group-item-action\"  data-toggle=\"list\" href=\"#part_2_children_bmi\" role=\"tab\" aria-controls=\"settings\">\n",
    "    Relationship : Children and Bmi\n",
    "    <span class=\"badge badge-primary badge-pill\">7</span>\n",
    "  </a>  \n",
    " <a class=\"list-group-item list-group-item-action\"  data-toggle=\"list\" href=\"#part_2_outlier_bmi\" role=\"tab\" aria-controls=\"settings\">\n",
    "    Outlier : Bmi\n",
    "    <span class=\"badge badge-primary badge-pill\">8</span>\n",
    "  </a>  \n",
    "  <a class=\"list-group-item list-group-item-action\"  data-toggle=\"list\" href=\"#part_2_charges_bmi\" role=\"tab\" aria-controls=\"settings\">\n",
    "    Relationship : Charges and Bmi\n",
    "    <span class=\"badge badge-primary badge-pill\">9</span>\n",
    "  </a>    \n",
    "    <a class=\"list-group-item list-group-item-action\"  data-toggle=\"list\" href=\"#part_2_charges_smoker_bmi\" role=\"tab\" aria-controls=\"settings\">\n",
    "    Relationship : Charges, Smoker and Bmi\n",
    "    <span class=\"badge badge-primary badge-pill\">10</span>\n",
    "  </a>  \n",
    "  \n",
    "    \n",
    "    \n",
    "</div>\n",
    "\n",
    "\n"
   ]
  },
  {
   "cell_type": "markdown",
   "id": "76f28219",
   "metadata": {},
   "source": [
    "<a id=\"part_2_dist_bmi\"></a>\n",
    "<div class=\"alert alert-info\" role=\"alert\">\n",
    "<h1>Distribution :<span style=\"color:red\"> Bmi ( Body Mass Index )</span></h1>\n",
    "</div>\n",
    "\n",
    "<div class=\"alert alert-block alert-warning\">\n",
    "<b>Result: </b>   We observe a distribution that is relatively close to a<span style=\"color:red\"> <b>normal distribution</b> </span> since the <span style=\"color:red\"> <b>mean, median, and mode values </b></span>  are close to each other.\n",
    "</div>\n",
    "\n",
    "  "
   ]
  },
  {
   "cell_type": "markdown",
   "id": "80e258d9",
   "metadata": {},
   "source": [
    "<a href=\"#part_2\" class=\"btn btn-danger btn-lg active\" role=\"button\" aria-pressed=\"true\" style=\"color:white;\">Part - 2</a>\n",
    "<a href=\"#toc\" class=\"btn btn-warning btn-lg active\" role=\"button\" aria-pressed=\"true\" style=\"color:black;\">Content</a>"
   ]
  },
  {
   "cell_type": "code",
   "execution_count": 9,
   "id": "039bd309",
   "metadata": {},
   "outputs": [
    {
     "name": "stdout",
     "output_type": "stream",
     "text": [
      "\u001b[1m\u001b[31mStatistical Calculations :\u001b[0m\n",
      "\u001b[1m\u001b[31m--------------------------\u001b[0m\n",
      "\u001b[1m\u001b[34mMinimum:  15.96\n",
      "Mean:     30.66\n",
      "Median:   30.40\n",
      "Mode:     32.30\n",
      "Maximum:  53.13\n",
      "\u001b[0m\n"
     ]
    },
    {
     "data": {
      "image/png": "[encoded data removed]",
      "text/plain": [
       "<Figure size 1500x1500 with 2 Axes>"
      ]
     },
     "metadata": {},
     "output_type": "display_data"
    }
   ],
   "source": [
    "show_distribution(df.bmi)"
   ]
  },
  {
   "cell_type": "markdown",
   "id": "9964c434",
   "metadata": {},
   "source": [
    "<a id=\"part_2_smoker_charges\"></a>\n",
    "<div class=\"alert alert-info\" role=\"alert\">\n",
    "<h1>Relationship :<span style=\"color:red\"> Smoker </span>and<span style=\"color:red\"> charges</span></h1>\n",
    "</div>\n",
    "\n",
    "<div class=\"alert alert-block alert-warning\">\n",
    "<b>Result: </b>   We observe that smokers have<span style=\"color:red\"> <b> higher medical</b> </span> expenses .\n",
    "</div>\n",
    "\n",
    "  "
   ]
  },
  {
   "cell_type": "markdown",
   "id": "0fc5f1fa",
   "metadata": {},
   "source": [
    "<a href=\"#part_2\" class=\"btn btn-danger btn-lg active\" role=\"button\" aria-pressed=\"true\" style=\"color:white;\">Part - 2</a>\n",
    "<a href=\"#toc\" class=\"btn btn-warning btn-lg active\" role=\"button\" aria-pressed=\"true\" style=\"color:black;\">Content</a>"
   ]
  },
  {
   "cell_type": "code",
   "execution_count": 10,
   "id": "d61299d9",
   "metadata": {
    "scrolled": false
   },
   "outputs": [
    {
     "data": {
      "image/png": "[encoded data removed]",
      "text/plain": [
       "<Figure size 640x480 with 1 Axes>"
      ]
     },
     "metadata": {},
     "output_type": "display_data"
    }
   ],
   "source": [
    "ax = sns.barplot(x = df.smoker , y = df.charges, errorbar = None, estimator = \"mean\")\n",
    "for i in ax.containers:\n",
    "    ax.bar_label(i);"
   ]
  },
  {
   "cell_type": "markdown",
   "id": "3641e3ea",
   "metadata": {},
   "source": [
    "<a id=\"part_2_smoker_region\"></a>\n",
    "<div class=\"alert alert-info\" role=\"alert\">\n",
    "<h1>Relationship :<span style=\"color:red\"> Smoker </span>and<span style=\"color:red\"> region</span></h1>\n",
    "</div>\n",
    "\n",
    "<div class=\"alert alert-block alert-warning\">\n",
    "<b>Result: </b> I observe that <span style=\"color:red;\">the highest smoking rate is in the southeast, and the lowest is in the southwest and northwest.</span>\n",
    "</div>\n",
    "\n",
    "\n",
    "  "
   ]
  },
  {
   "cell_type": "markdown",
   "id": "6130b87e",
   "metadata": {},
   "source": [
    "<a href=\"#part_2\" class=\"btn btn-danger btn-lg active\" role=\"button\" aria-pressed=\"true\" style=\"color:white;\">Part - 2</a>\n",
    "<a href=\"#toc\" class=\"btn btn-warning btn-lg active\" role=\"button\" aria-pressed=\"true\" style=\"color:black;\">Content</a>"
   ]
  },
  {
   "cell_type": "code",
   "execution_count": 11,
   "id": "30e46311",
   "metadata": {},
   "outputs": [
    {
     "data": {
      "image/png": "[encoded data removed]",
      "text/plain": [
       "<Figure size 1000x600 with 1 Axes>"
      ]
     },
     "metadata": {},
     "output_type": "display_data"
    }
   ],
   "source": [
    "plt.figure(figsize = (10,6))\n",
    "ax = sns.countplot(data = df, x = 'region', hue = 'smoker')\n",
    "plt.title('Count of Smokers and Non-Smokers by Region')\n",
    "plt.xlabel('Region')\n",
    "plt.ylabel('Count')\n",
    "plt.legend(title = 'Smoker', labels = ['Yes', 'No'])\n",
    "for i in ax.containers:\n",
    "    ax.bar_label(i)\n",
    "\n",
    "plt.show()"
   ]
  },
  {
   "cell_type": "code",
   "execution_count": 12,
   "id": "4cb08ba0",
   "metadata": {},
   "outputs": [
    {
     "data": {
      "text/html": [
       "<div>\n",
       "<style scoped>\n",
       "    .dataframe tbody tr th:only-of-type {\n",
       "        vertical-align: middle;\n",
       "    }\n",
       "\n",
       "    .dataframe tbody tr th {\n",
       "        vertical-align: top;\n",
       "    }\n",
       "\n",
       "    .dataframe thead th {\n",
       "        text-align: right;\n",
       "    }\n",
       "</style>\n",
       "<table border=\"1\" class=\"dataframe\">\n",
       "  <thead>\n",
       "    <tr style=\"text-align: right;\">\n",
       "      <th></th>\n",
       "      <th>Region</th>\n",
       "      <th>Percentage of Smokers</th>\n",
       "      <th>Percentage of Non-Smokers</th>\n",
       "    </tr>\n",
       "  </thead>\n",
       "  <tbody>\n",
       "    <tr>\n",
       "      <th>0</th>\n",
       "      <td>northeast</td>\n",
       "      <td>20.68</td>\n",
       "      <td>79.32</td>\n",
       "    </tr>\n",
       "    <tr>\n",
       "      <th>1</th>\n",
       "      <td>northwest</td>\n",
       "      <td>17.85</td>\n",
       "      <td>82.15</td>\n",
       "    </tr>\n",
       "    <tr>\n",
       "      <th>2</th>\n",
       "      <td>southeast</td>\n",
       "      <td>25.00</td>\n",
       "      <td>75.00</td>\n",
       "    </tr>\n",
       "    <tr>\n",
       "      <th>3</th>\n",
       "      <td>southwest</td>\n",
       "      <td>17.85</td>\n",
       "      <td>82.15</td>\n",
       "    </tr>\n",
       "  </tbody>\n",
       "</table>\n",
       "</div>"
      ],
      "text/plain": [
       "      Region  Percentage of Smokers  Percentage of Non-Smokers\n",
       "0  northeast                  20.68                      79.32\n",
       "1  northwest                  17.85                      82.15\n",
       "2  southeast                  25.00                      75.00\n",
       "3  southwest                  17.85                      82.15"
      ]
     },
     "execution_count": 12,
     "metadata": {},
     "output_type": "execute_result"
    }
   ],
   "source": [
    "# Calculate the number of smokers and non-smokers for each region\n",
    "region_counts = df.groupby(['region', 'smoker']).size().unstack(fill_value=0)\n",
    "\n",
    "# Calculate the total number of people within each region\n",
    "total_counts = region_counts.sum(axis=1)\n",
    "\n",
    "# Convert smokers and non-smokers into percentages\n",
    "percentage_smokers = (region_counts['yes'] / total_counts) * 100\n",
    "percentage_non_smokers = (region_counts['no'] / total_counts) * 100\n",
    "\n",
    "# Add the results to a new DataFrame\n",
    "result_df = pd.DataFrame({\n",
    "    'Region': percentage_smokers.index,\n",
    "    'Percentage of Smokers': percentage_smokers.values,\n",
    "    'Percentage of Non-Smokers': percentage_non_smokers.values\n",
    "})\n",
    "\n",
    "result_df"
   ]
  },
  {
   "cell_type": "markdown",
   "id": "3afaf113",
   "metadata": {},
   "source": [
    "<a id=\"part_2_bmi_sex\"></a>\n",
    "<div class=\"alert alert-info\" role=\"alert\">\n",
    "<h1>Relationship :<span style=\"color:red\"> Bmi </span>and<span style=\"color:red\"> Sex</span></h1>\n",
    "</div>\n",
    "\n",
    "<div class=\"alert alert-block alert-warning\">\n",
    "<b>Result: </b> I observe that <span style=\"color:red;\">the median BMI values for men are slightly higher than for women.</span> BMI values for men are slightly larger than for women. While both groups have almost the same first quartiles, their third quartiles are higher for men.\n",
    "</div>\n",
    "\n",
    "\n",
    "\n",
    "  "
   ]
  },
  {
   "cell_type": "markdown",
   "id": "8ff1eb7b",
   "metadata": {},
   "source": [
    "<a href=\"#part_2\" class=\"btn btn-danger btn-lg active\" role=\"button\" aria-pressed=\"true\" style=\"color:white;\">Part - 2</a>\n",
    "<a href=\"#toc\" class=\"btn btn-warning btn-lg active\" role=\"button\" aria-pressed=\"true\" style=\"color:black;\">Content</a>"
   ]
  },
  {
   "cell_type": "code",
   "execution_count": 13,
   "id": "ff51cbf6",
   "metadata": {},
   "outputs": [
    {
     "data": {
      "image/png": "[encoded data removed]",
      "text/plain": [
       "<Figure size 600x400 with 1 Axes>"
      ]
     },
     "metadata": {},
     "output_type": "display_data"
    }
   ],
   "source": [
    "plt.figure(figsize=(6,4))\n",
    "sns.boxplot(x=\"sex\", y=\"bmi\", data=df)\n",
    "plt.title(\"The Relationship Between Sex and BMI\")\n",
    "plt.xlabel(\"Sex\")\n",
    "plt.ylabel(\"BMI\")\n",
    "plt.show()"
   ]
  },
  {
   "cell_type": "markdown",
   "id": "bb8b75f2",
   "metadata": {},
   "source": [
    "<h3 style=\"text-align:center;font-size:200%;\">Progress Bars</h3>\n",
    "<div class=\"progress\">\n",
    "  <div class=\"progress-bar bg-danger\" role=\"progressbar\" style=\"width: 50%;\" aria-valuenow=\"50\" aria-valuemin=\"50\" aria-valuemax=\"100\">50%</div>\n",
    "</div>\n",
    "\n"
   ]
  },
  {
   "cell_type": "markdown",
   "id": "9cb34f79",
   "metadata": {},
   "source": [
    "<a id=\"part_2_region_children\"></a>\n",
    "<div class=\"alert alert-info\" role=\"alert\">\n",
    "<h1>Relationship :<span style=\"color:red\"> Region </span>and<span style=\"color:red\"> Children</span></h1>\n",
    "</div>\n",
    "\n",
    "<div class=\"alert alert-block alert-warning\">\n",
    "<b>Result: </b> The region with the most children is  southeast with  <span style=\"color:red;\">382 children.</span> \n",
    "</div>\n",
    "\n",
    "\n",
    "\n",
    "  "
   ]
  },
  {
   "cell_type": "markdown",
   "id": "470ea8e1",
   "metadata": {},
   "source": [
    "<a href=\"#part_2\" class=\"btn btn-danger btn-lg active\" role=\"button\" aria-pressed=\"true\" style=\"color:white;\">Part - 2</a>\n",
    "<a href=\"#toc\" class=\"btn btn-warning btn-lg active\" role=\"button\" aria-pressed=\"true\" style=\"color:black;\">Content</a>"
   ]
  },
  {
   "cell_type": "code",
   "execution_count": 14,
   "id": "69da6b54",
   "metadata": {},
   "outputs": [
    {
     "name": "stdout",
     "output_type": "stream",
     "text": [
      "The region with the most children is  southeast with 382 children.\n"
     ]
    }
   ],
   "source": [
    "region_children = df.groupby(\"region\")[\"children\"].sum()\n",
    "max_children = region_children.idxmax()\n",
    "max_children_count = region_children[max_children]\n",
    "print(\"The region with the most children is \", max_children ,\"with\", max_children_count,\"children.\")"
   ]
  },
  {
   "cell_type": "markdown",
   "id": "d6a06d2f",
   "metadata": {},
   "source": [
    "<a id=\"part_2_age_bmi\"></a>\n",
    "<div class=\"alert alert-info\" role=\"alert\">\n",
    "<h1>Relationship :<span style=\"color:red\"> Age </span>and<span style=\"color:red\"> Bmi</span></h1>\n",
    "</div>\n",
    "\n",
    "<div class=\"alert alert-block alert-warning\">\n",
    "<b>Result: </b> Age and BMI have <span style=\"color:red;\">a weak relationship.</span>\n",
    "</div>\n",
    "\n",
    "\n",
    "\n",
    "\n",
    "  "
   ]
  },
  {
   "cell_type": "markdown",
   "id": "fffe90b5",
   "metadata": {},
   "source": [
    "<a href=\"#part_2\" class=\"btn btn-danger btn-lg active\" role=\"button\" aria-pressed=\"true\" style=\"color:white;\">Part - 2</a>\n",
    "<a href=\"#toc\" class=\"btn btn-warning btn-lg active\" role=\"button\" aria-pressed=\"true\" style=\"color:black;\">Content</a>"
   ]
  },
  {
   "cell_type": "code",
   "execution_count": 15,
   "id": "a50b1069",
   "metadata": {},
   "outputs": [
    {
     "data": {
      "text/plain": [
       "0.1092718815485352"
      ]
     },
     "execution_count": 15,
     "metadata": {},
     "output_type": "execute_result"
    }
   ],
   "source": [
    "df[\"age\"].corr(df[\"bmi\"])"
   ]
  },
  {
   "cell_type": "code",
   "execution_count": 16,
   "id": "560a5e64",
   "metadata": {},
   "outputs": [
    {
     "data": {
      "image/png": "[encoded data removed]",
      "text/plain": [
       "<Figure size 640x480 with 1 Axes>"
      ]
     },
     "metadata": {},
     "output_type": "display_data"
    }
   ],
   "source": [
    "sns.scatterplot(x = df.age, y = df.bmi);"
   ]
  },
  {
   "cell_type": "markdown",
   "id": "1cbbb491",
   "metadata": {},
   "source": [
    "<a id=\"part_2_children_bmi\"></a>\n",
    "<div class=\"alert alert-info\" role=\"alert\">\n",
    "<h1>Relationship :<span style=\"color:red\"> Children </span>and<span style=\"color:red\"> Bmi</span></h1>\n",
    "</div>\n",
    "\n",
    "<div class=\"alert alert-block alert-warning\">\n",
    "<b>Result: </b> I observe that individuals with 0 children are the most common, while those with 5 children are the least common. We can also conclude that for any number of children, the mean and median BMI values are close to each other, indicating <span style=\"color:red; font-weight:bold;\">a homogeneous distribution of values around the mean.</span>\n",
    "</div>\n",
    "\n",
    "\n",
    "\n",
    "\n",
    "\n",
    "  "
   ]
  },
  {
   "cell_type": "markdown",
   "id": "b5ba78a8",
   "metadata": {},
   "source": [
    "<a href=\"#part_2\" class=\"btn btn-danger btn-lg active\" role=\"button\" aria-pressed=\"true\" style=\"color:white;\">Part - 2</a>\n",
    "<a href=\"#toc\" class=\"btn btn-warning btn-lg active\" role=\"button\" aria-pressed=\"true\" style=\"color:black;\">Content</a>"
   ]
  },
  {
   "cell_type": "code",
   "execution_count": 17,
   "id": "423fcc01",
   "metadata": {},
   "outputs": [
    {
     "data": {
      "image/png": "[encoded data removed]",
      "text/plain": [
       "<Figure size 600x400 with 1 Axes>"
      ]
     },
     "metadata": {},
     "output_type": "display_data"
    }
   ],
   "source": [
    "plt.figure(figsize=(6,4))\n",
    "sns.boxplot(x=\"children\", y=\"bmi\", data=df)\n",
    "plt.title(\"The Relationship Between Children and BMI\")\n",
    "plt.xlabel(\"Children\")\n",
    "plt.ylabel(\"BMI\")\n",
    "plt.show()"
   ]
  },
  {
   "cell_type": "code",
   "execution_count": 18,
   "id": "1abdc32a",
   "metadata": {},
   "outputs": [
    {
     "data": {
      "text/html": [
       "<div>\n",
       "<style scoped>\n",
       "    .dataframe tbody tr th:only-of-type {\n",
       "        vertical-align: middle;\n",
       "    }\n",
       "\n",
       "    .dataframe tbody tr th {\n",
       "        vertical-align: top;\n",
       "    }\n",
       "\n",
       "    .dataframe thead th {\n",
       "        text-align: right;\n",
       "    }\n",
       "</style>\n",
       "<table border=\"1\" class=\"dataframe\">\n",
       "  <thead>\n",
       "    <tr style=\"text-align: right;\">\n",
       "      <th></th>\n",
       "      <th>count</th>\n",
       "      <th>mean</th>\n",
       "      <th>std</th>\n",
       "      <th>min</th>\n",
       "      <th>25%</th>\n",
       "      <th>50%</th>\n",
       "      <th>75%</th>\n",
       "      <th>max</th>\n",
       "    </tr>\n",
       "    <tr>\n",
       "      <th>children</th>\n",
       "      <th></th>\n",
       "      <th></th>\n",
       "      <th></th>\n",
       "      <th></th>\n",
       "      <th></th>\n",
       "      <th></th>\n",
       "      <th></th>\n",
       "      <th></th>\n",
       "    </tr>\n",
       "  </thead>\n",
       "  <tbody>\n",
       "    <tr>\n",
       "      <th>0</th>\n",
       "      <td>574.00</td>\n",
       "      <td>30.55</td>\n",
       "      <td>6.04</td>\n",
       "      <td>15.96</td>\n",
       "      <td>26.14</td>\n",
       "      <td>30.30</td>\n",
       "      <td>34.75</td>\n",
       "      <td>53.13</td>\n",
       "    </tr>\n",
       "    <tr>\n",
       "      <th>1</th>\n",
       "      <td>324.00</td>\n",
       "      <td>30.62</td>\n",
       "      <td>6.10</td>\n",
       "      <td>16.82</td>\n",
       "      <td>26.62</td>\n",
       "      <td>30.02</td>\n",
       "      <td>34.24</td>\n",
       "      <td>52.58</td>\n",
       "    </tr>\n",
       "    <tr>\n",
       "      <th>2</th>\n",
       "      <td>240.00</td>\n",
       "      <td>30.98</td>\n",
       "      <td>6.51</td>\n",
       "      <td>16.82</td>\n",
       "      <td>25.79</td>\n",
       "      <td>31.64</td>\n",
       "      <td>35.36</td>\n",
       "      <td>48.07</td>\n",
       "    </tr>\n",
       "    <tr>\n",
       "      <th>3</th>\n",
       "      <td>157.00</td>\n",
       "      <td>30.68</td>\n",
       "      <td>5.79</td>\n",
       "      <td>18.91</td>\n",
       "      <td>27.27</td>\n",
       "      <td>30.50</td>\n",
       "      <td>34.32</td>\n",
       "      <td>46.53</td>\n",
       "    </tr>\n",
       "    <tr>\n",
       "      <th>4</th>\n",
       "      <td>25.00</td>\n",
       "      <td>31.39</td>\n",
       "      <td>4.63</td>\n",
       "      <td>24.41</td>\n",
       "      <td>28.21</td>\n",
       "      <td>29.64</td>\n",
       "      <td>33.66</td>\n",
       "      <td>41.47</td>\n",
       "    </tr>\n",
       "    <tr>\n",
       "      <th>5</th>\n",
       "      <td>18.00</td>\n",
       "      <td>29.61</td>\n",
       "      <td>7.14</td>\n",
       "      <td>18.30</td>\n",
       "      <td>24.30</td>\n",
       "      <td>28.55</td>\n",
       "      <td>33.05</td>\n",
       "      <td>46.75</td>\n",
       "    </tr>\n",
       "  </tbody>\n",
       "</table>\n",
       "</div>"
      ],
      "text/plain": [
       "          count  mean  std   min   25%   50%   75%   max\n",
       "children                                                \n",
       "0        574.00 30.55 6.04 15.96 26.14 30.30 34.75 53.13\n",
       "1        324.00 30.62 6.10 16.82 26.62 30.02 34.24 52.58\n",
       "2        240.00 30.98 6.51 16.82 25.79 31.64 35.36 48.07\n",
       "3        157.00 30.68 5.79 18.91 27.27 30.50 34.32 46.53\n",
       "4         25.00 31.39 4.63 24.41 28.21 29.64 33.66 41.47\n",
       "5         18.00 29.61 7.14 18.30 24.30 28.55 33.05 46.75"
      ]
     },
     "execution_count": 18,
     "metadata": {},
     "output_type": "execute_result"
    }
   ],
   "source": [
    "# Create a DataFrame grouped by the number of each child\n",
    "child_groups = df.groupby('children')\n",
    "\n",
    "# Perform bmi.describe() for each group and combine the results\n",
    "child_bmi_descriptions = child_groups['bmi'].describe()\n",
    "\n",
    "# Print the DataFrame\n",
    "child_bmi_descriptions\n"
   ]
  },
  {
   "cell_type": "markdown",
   "id": "9d312c21",
   "metadata": {},
   "source": [
    "<a id=\"part_2_outlier_bmi\"></a>\n",
    "<div class=\"alert alert-info\" role=\"alert\">\n",
    "<h1>Outlier :<span style=\"color:red\"> Bmi </span></h1>\n",
    "</div>\n",
    "\n",
    "<div class=\"alert alert-block alert-warning\">\n",
    "<b>Result: </b> When examining the QQ plot of BMI values, it appears to be very close to the <span style=\"color:red;\">normal distribution line</span>. Additionally, if the whisker value in the boxplot is taken as <span style=\"font-weight:bold;\">2.5 times the IQR</span> instead of 1.5 times, extreme values do not appear.\n",
    "</div>\n"
   ]
  },
  {
   "cell_type": "markdown",
   "id": "c71a9760",
   "metadata": {},
   "source": [
    "<a href=\"#part_2\" class=\"btn btn-danger btn-lg active\" role=\"button\" aria-pressed=\"true\" style=\"color:white;\">Part - 2</a>\n",
    "<a href=\"#toc\" class=\"btn btn-warning btn-lg active\" role=\"button\" aria-pressed=\"true\" style=\"color:black;\">Content</a>"
   ]
  },
  {
   "cell_type": "code",
   "execution_count": 19,
   "id": "f7e84d84",
   "metadata": {
    "scrolled": false
   },
   "outputs": [
    {
     "data": {
      "image/png": "[encoded data removed]",
      "text/plain": [
       "<Figure size 640x480 with 1 Axes>"
      ]
     },
     "metadata": {},
     "output_type": "display_data"
    }
   ],
   "source": [
    "sns.boxplot(x = df.bmi, whis = 2.5);"
   ]
  },
  {
   "cell_type": "code",
   "execution_count": 20,
   "id": "69cef995",
   "metadata": {},
   "outputs": [
    {
     "data": {
      "text/plain": [
       "<Figure size 1600x600 with 0 Axes>"
      ]
     },
     "metadata": {},
     "output_type": "display_data"
    },
    {
     "data": {
      "image/png": "[encoded data removed]",
      "text/plain": [
       "<Figure size 640x480 with 1 Axes>"
      ]
     },
     "metadata": {},
     "output_type": "display_data"
    }
   ],
   "source": [
    "# import numpy as np\n",
    "# import pandas as pd\n",
    "# import matplotlib.pyplot as plt\n",
    "# import scipy.stats as stats\n",
    "# from scipy.stats import norm\n",
    "\n",
    "plt.figure(figsize=(16, 6))\n",
    "\n",
    "# Sample 100 observations from the 'price' column\n",
    "my_data = df['bmi'].sample(100)\n",
    "\n",
    "# Calculate the mean and standard deviation of the sample\n",
    "mu = np.mean(my_data)\n",
    "sigma = np.std(my_data)\n",
    "\n",
    "# Generate a normal distribution with the same mean and standard deviation as the sample\n",
    "x = np.linspace(mu - 3*sigma, mu + 3*sigma, 100)\n",
    "y = norm.pdf(x, mu, sigma)\n",
    "\n",
    "# Plot the normal distribution as a dotted red line on the Q-Q plot\n",
    "# plt.plot(x, y, 'r--', linewidth=2)\n",
    "\n",
    "# Create the Q-Q plot\n",
    "fig, ax = plt.subplots()\n",
    "stats.probplot(my_data, dist=\"norm\", plot=ax)\n",
    "\n",
    "# Show the plot\n",
    "plt.show();"
   ]
  },
  {
   "cell_type": "code",
   "execution_count": 21,
   "id": "9e7b75d6",
   "metadata": {},
   "outputs": [],
   "source": [
    "# Examine the first lowest 20 observation in \"bmi\" to see if there have been some extreme values away from others\n",
    "\n",
    "# df.sort_values(by=[\"bmi\"], ascending=False)[\"bmi\"].head(20)\n",
    "\n",
    "# df.bmi.sort_values().head(20)"
   ]
  },
  {
   "cell_type": "code",
   "execution_count": 22,
   "id": "c6fe358a",
   "metadata": {},
   "outputs": [],
   "source": [
    "# df.bmi.sort_values().tail(20)"
   ]
  },
  {
   "cell_type": "markdown",
   "id": "2f09aae7",
   "metadata": {},
   "source": [
    "<a id=\"part_2_charges_bmi\"></a>\n",
    "<div class=\"alert alert-info\" role=\"alert\">\n",
    "<h1>Relationship :<span style=\"color:red\"> Charges </span>and<span style=\"color:red\"> Bmi</span></h1>\n",
    "</div>\n",
    "\n",
    "<div class=\"alert alert-block alert-warning\">\n",
    "<b>Result: </b> The correlation coefficient between Charges and BMI is 0.19. I observe that the relationship between these two columns is <span style=\"color:red; font-weight:bold;\">weak</span>.\n",
    "</div>\n",
    "\n",
    "\n",
    "\n",
    "\n",
    "\n",
    "\n",
    "  "
   ]
  },
  {
   "cell_type": "markdown",
   "id": "7cda5704",
   "metadata": {},
   "source": [
    "<a href=\"#part_2\" class=\"btn btn-danger btn-lg active\" role=\"button\" aria-pressed=\"true\" style=\"color:white;\">Part - 2</a>\n",
    "<a href=\"#toc\" class=\"btn btn-warning btn-lg active\" role=\"button\" aria-pressed=\"true\" style=\"color:black;\">Content</a>"
   ]
  },
  {
   "cell_type": "code",
   "execution_count": 23,
   "id": "091b0157",
   "metadata": {},
   "outputs": [
    {
     "data": {
      "image/png": "[encoded data removed]",
      "text/plain": [
       "<Figure size 640x480 with 1 Axes>"
      ]
     },
     "metadata": {},
     "output_type": "display_data"
    }
   ],
   "source": [
    "sns.scatterplot(x = df.bmi , y = df.charges);"
   ]
  },
  {
   "cell_type": "code",
   "execution_count": 24,
   "id": "134ef5b1",
   "metadata": {},
   "outputs": [
    {
     "data": {
      "text/plain": [
       "0.19834096883362892"
      ]
     },
     "execution_count": 24,
     "metadata": {},
     "output_type": "execute_result"
    }
   ],
   "source": [
    "df[\"charges\"].corr(df[\"bmi\"])"
   ]
  },
  {
   "cell_type": "markdown",
   "id": "0736b7c1",
   "metadata": {},
   "source": [
    "<a id=\"part_2_charges_smoker_bmi\"></a>\n",
    "<div class=\"alert alert-info\" role=\"alert\">\n",
    "<h1>Relationship :<span style=\"color:red\"> Charges, Smoker </span>and<span style=\"color:red\"> Bmi</span></h1>\n",
    "</div>\n",
    "\n",
    "<div class=\"alert alert-block alert-warning\">\n",
    "<b>Result: </b> When looking at <span style=\"color:red;\">smokers and non-smokers by region</span>, it appears that their averages are very close to each other. Therefore, it is difficult to conclude that there is a significant relationship between region, BMI, and smoker.\n",
    "</div>\n",
    "\n",
    "\n",
    "\n",
    "\n",
    "\n",
    "\n",
    "\n",
    "\n",
    "  "
   ]
  },
  {
   "cell_type": "markdown",
   "id": "aee2ef9c",
   "metadata": {},
   "source": [
    "<a href=\"#part_2\" class=\"btn btn-danger btn-lg active\" role=\"button\" aria-pressed=\"true\" style=\"color:white;\">Part - 2</a>\n",
    "<a href=\"#toc\" class=\"btn btn-warning btn-lg active\" role=\"button\" aria-pressed=\"true\" style=\"color:black;\">Content</a>"
   ]
  },
  {
   "cell_type": "code",
   "execution_count": 25,
   "id": "b6924b47",
   "metadata": {},
   "outputs": [
    {
     "data": {
      "image/png": "[encoded data removed]",
      "text/plain": [
       "<Figure size 640x480 with 1 Axes>"
      ]
     },
     "metadata": {},
     "output_type": "display_data"
    }
   ],
   "source": [
    "ax = sns.barplot(x = df.region, y = df.bmi , hue = df.smoker, errorbar = None)\n"
   ]
  },
  {
   "cell_type": "markdown",
   "id": "a7580d2a",
   "metadata": {},
   "source": [
    "<a id=\"part_3\"></a>\n",
    "# <p style=\"background-color:#FF6961; font-family:newtimeroman;color:#FFF9ED; font-size:150%; text-align:center; border-radius: 15px 50px;\"> ✨ 3 -Data Preprocessing ✨</p>\n"
   ]
  },
  {
   "cell_type": "markdown",
   "id": "16d3e20a",
   "metadata": {},
   "source": [
    "<a href=\"#toc\" class=\"btn btn-warning btn-lg active\" role=\"button\" aria-pressed=\"true\" style=\"color:black;\">Content</a>"
   ]
  },
  {
   "cell_type": "markdown",
   "id": "4937f5d8",
   "metadata": {},
   "source": [
    "<a id=\"41\"></a>\n",
    "<button type=\"button\" class=\"btn btn-lg btn-danger\" data-toggle=\"popover\" title=\"Popover title\" > Label Encode</button>"
   ]
  },
  {
   "cell_type": "code",
   "execution_count": 26,
   "id": "852000da",
   "metadata": {},
   "outputs": [
    {
     "data": {
      "text/plain": [
       "Index(['sex', 'smoker', 'region'], dtype='object')"
      ]
     },
     "metadata": {},
     "output_type": "display_data"
    }
   ],
   "source": [
    "categoric_col = df.select_dtypes(include=\"object\")\n",
    "display(categoric_col.columns)"
   ]
  },
  {
   "cell_type": "code",
   "execution_count": 27,
   "id": "496f58c7",
   "metadata": {},
   "outputs": [
    {
     "name": "stdout",
     "output_type": "stream",
     "text": [
      "\u001b[1m\u001b[34mNumber of Uniques:\n",
      "\u001b[0m \u001b[32m****************************************\u001b[0m \n",
      " sex       2\n",
      "smoker    2\n",
      "region    4\n",
      "dtype: int64\n"
     ]
    }
   ],
   "source": [
    "# from termcolor import colored\n",
    "\n",
    "print(colored(\"Number of Uniques:\\n\", 'blue', attrs=['bold']),\n",
    "      colored(\"****\"*10, \"green\"),'\\n',\n",
    "      categoric_col.nunique())"
   ]
  },
  {
   "cell_type": "code",
   "execution_count": 28,
   "id": "3507e307",
   "metadata": {},
   "outputs": [
    {
     "data": {
      "text/plain": [
       "7"
      ]
     },
     "execution_count": 28,
     "metadata": {},
     "output_type": "execute_result"
    }
   ],
   "source": [
    "len(df.columns)"
   ]
  },
  {
   "cell_type": "code",
   "execution_count": 29,
   "id": "55bad866",
   "metadata": {},
   "outputs": [
    {
     "data": {
      "text/html": [
       "<div>\n",
       "<style scoped>\n",
       "    .dataframe tbody tr th:only-of-type {\n",
       "        vertical-align: middle;\n",
       "    }\n",
       "\n",
       "    .dataframe tbody tr th {\n",
       "        vertical-align: top;\n",
       "    }\n",
       "\n",
       "    .dataframe thead th {\n",
       "        text-align: right;\n",
       "    }\n",
       "</style>\n",
       "<table border=\"1\" class=\"dataframe\">\n",
       "  <thead>\n",
       "    <tr style=\"text-align: right;\">\n",
       "      <th></th>\n",
       "      <th>age</th>\n",
       "      <th>sex</th>\n",
       "      <th>bmi</th>\n",
       "      <th>children</th>\n",
       "      <th>smoker</th>\n",
       "      <th>region</th>\n",
       "      <th>charges</th>\n",
       "    </tr>\n",
       "  </thead>\n",
       "  <tbody>\n",
       "    <tr>\n",
       "      <th>0</th>\n",
       "      <td>19</td>\n",
       "      <td>0</td>\n",
       "      <td>27.90</td>\n",
       "      <td>0</td>\n",
       "      <td>0</td>\n",
       "      <td>0</td>\n",
       "      <td>16884.92</td>\n",
       "    </tr>\n",
       "    <tr>\n",
       "      <th>1</th>\n",
       "      <td>18</td>\n",
       "      <td>1</td>\n",
       "      <td>33.77</td>\n",
       "      <td>1</td>\n",
       "      <td>1</td>\n",
       "      <td>1</td>\n",
       "      <td>1725.55</td>\n",
       "    </tr>\n",
       "    <tr>\n",
       "      <th>2</th>\n",
       "      <td>28</td>\n",
       "      <td>1</td>\n",
       "      <td>33.00</td>\n",
       "      <td>3</td>\n",
       "      <td>1</td>\n",
       "      <td>1</td>\n",
       "      <td>4449.46</td>\n",
       "    </tr>\n",
       "    <tr>\n",
       "      <th>3</th>\n",
       "      <td>33</td>\n",
       "      <td>1</td>\n",
       "      <td>22.70</td>\n",
       "      <td>0</td>\n",
       "      <td>1</td>\n",
       "      <td>2</td>\n",
       "      <td>21984.47</td>\n",
       "    </tr>\n",
       "    <tr>\n",
       "      <th>4</th>\n",
       "      <td>32</td>\n",
       "      <td>1</td>\n",
       "      <td>28.88</td>\n",
       "      <td>0</td>\n",
       "      <td>1</td>\n",
       "      <td>2</td>\n",
       "      <td>3866.86</td>\n",
       "    </tr>\n",
       "  </tbody>\n",
       "</table>\n",
       "</div>"
      ],
      "text/plain": [
       "   age  sex   bmi  children  smoker  region  charges\n",
       "0   19    0 27.90         0       0       0 16884.92\n",
       "1   18    1 33.77         1       1       1  1725.55\n",
       "2   28    1 33.00         3       1       1  4449.46\n",
       "3   33    1 22.70         0       1       2 21984.47\n",
       "4   32    1 28.88         0       1       2  3866.86"
      ]
     },
     "execution_count": 29,
     "metadata": {},
     "output_type": "execute_result"
    }
   ],
   "source": [
    "# Encoding all categorical variable in my DataFrame.\n",
    "\n",
    "df[[\"sex\", \"smoker\", \"region\"]] = df[[\"sex\", \"smoker\", \"region\"]].apply(lambda x: pd.factorize(x)[0])\n",
    "df.head()"
   ]
  },
  {
   "cell_type": "markdown",
   "id": "b5a05167",
   "metadata": {},
   "source": [
    "<a href=\"#part_3\" class=\"btn btn-danger btn-lg active\" role=\"button\" aria-pressed=\"true\" style=\"color:white;\">Part - 3</a>\n",
    "<a href=\"#toc\" class=\"btn btn-warning btn-lg active\" role=\"button\" aria-pressed=\"true\" style=\"color:black;\">Content</a>"
   ]
  },
  {
   "cell_type": "markdown",
   "id": "046d653c",
   "metadata": {},
   "source": [
    "<a id=\"part_4\"></a>\n",
    "# <p style=\"background-color:#FF6961; font-family:newtimeroman;color:#FFF9ED; font-size:150%; text-align:center; border-radius: 15px 50px;\"> ✨ 4 - Model Selection ✨</p>\n",
    "\n"
   ]
  },
  {
   "cell_type": "markdown",
   "id": "4d6dacbf",
   "metadata": {},
   "source": [
    "<div class=\"list-group\" id=\"list-tab\" role=\"tablist\">\n",
    "  <h3 class=\"list-group-item list-group-item-action active\" data-toggle=\"list\"  role=\"tab\" aria-controls=\"home\">\n",
    "    Content\n",
    "  </h3>\n",
    "  <a class=\"list-group-item list-group-item-action\" data-toggle=\"list\" href=\"#part_4_1\" role=\"tab\" aria-controls=\"profile\">\n",
    "    Compare Models with LazyPredict Library\n",
    "    <span class=\"badge badge-primary badge-pill\">1</span>\n",
    "  </a>\n",
    "  <a class=\"list-group-item list-group-item-action\" data-toggle=\"list\" href=\"#part_4_2\" role=\"tab\" aria-controls=\"messages\">\n",
    "    Linear Regression\n",
    "    <span class=\"badge badge-primary badge-pill\">2</span>\n",
    "  </a>\n",
    "  <a class=\"list-group-item list-group-item-action\"  data-toggle=\"list\" href=\"#part_4_3\" role=\"tab\" aria-controls=\"settings\">\n",
    "    Ridge Regression\n",
    "    <span class=\"badge badge-primary badge-pill\">3</span>\n",
    "  </a>\n",
    "  <a class=\"list-group-item list-group-item-action\"  data-toggle=\"list\" href=\"#part_4_4\" role=\"tab\" aria-controls=\"settings\">\n",
    "    Lasso Regression\n",
    "    <span class=\"badge badge-primary badge-pill\">4</span>\n",
    "  </a>\n",
    "    <a class=\"list-group-item list-group-item-action\"  data-toggle=\"list\" href=\"#part_4_5\" role=\"tab\" aria-controls=\"settings\">\n",
    "    Gradient Boosting Regressor\n",
    "    <span class=\"badge badge-primary badge-pill\">5</span>\n",
    "  </a>\n",
    "  <a class=\"list-group-item list-group-item-action\"  data-toggle=\"list\" href=\"#part_4_6\" role=\"tab\" aria-controls=\"settings\">\n",
    "    Cross Validation\n",
    "    <span class=\"badge badge-primary badge-pill\">6</span>\n",
    "  </a>\n",
    "</div>\n"
   ]
  },
  {
   "cell_type": "markdown",
   "id": "8484d6d5",
   "metadata": {},
   "source": [
    "<a href=\"#toc\" class=\"btn btn-warning btn-lg active\" role=\"button\" aria-pressed=\"true\" style=\"color:black;\">Content</a>"
   ]
  },
  {
   "cell_type": "code",
   "execution_count": 30,
   "id": "051843c1",
   "metadata": {},
   "outputs": [],
   "source": [
    "# pip install lazypredict"
   ]
  },
  {
   "cell_type": "code",
   "execution_count": 31,
   "id": "56f5d481",
   "metadata": {},
   "outputs": [],
   "source": [
    "# from sklearn.preprocessing import StandardScaler\n",
    "\n",
    "# scaler = StandardScaler()\n",
    "# X_scaled = scaler.fit_transform(df.drop(\"charges\", axis=1))\n",
    "# df = pd.DataFrame(X_scaled, columns=df.drop(\"charges\", axis=1).columns)\n"
   ]
  },
  {
   "cell_type": "code",
   "execution_count": 32,
   "id": "8ca7aa4c",
   "metadata": {},
   "outputs": [],
   "source": [
    "# from sklearn.model_selection import train_test_split\n",
    "# from sklearn.linear_model import LinearRegression\n",
    "# from sklearn.preprocessing import StandardScaler  # for StandartScaler \n",
    "# from sklearn import metrics\n",
    "\n",
    "x = df.drop(['charges'], axis=1)\n",
    "y = df['charges']\n",
    "\n",
    "X_train, X_test, y_train, y_test = train_test_split(x, y, test_size=0.2, random_state=0)\n",
    "\n",
    "# Scale data using StandardScaler\n",
    "scaler = StandardScaler()\n",
    "X_train = scaler.fit_transform(X_train)\n",
    "X_test = scaler.transform(X_test)\n"
   ]
  },
  {
   "cell_type": "markdown",
   "id": "907b0872",
   "metadata": {},
   "source": [
    "<a href=\"#part_4\" class=\"btn btn-danger btn-lg active\" role=\"button\" aria-pressed=\"true\" style=\"color:white;\">Part - 4</a>\n",
    "<a href=\"#toc\" class=\"btn btn-warning btn-lg active\" role=\"button\" aria-pressed=\"true\" style=\"color:black;\">Content</a>"
   ]
  },
  {
   "cell_type": "markdown",
   "id": "903c79dc",
   "metadata": {},
   "source": [
    "<a id=\"part_4_1\"></a>\n",
    "<button type=\"button\" class=\"btn btn-lg btn-danger\" data-toggle=\"popover\" title=\"Popover title\" > Compare Models with LazyPredict Library</button>"
   ]
  },
  {
   "cell_type": "code",
   "execution_count": 33,
   "id": "857f18b7",
   "metadata": {},
   "outputs": [
    {
     "name": "stderr",
     "output_type": "stream",
     "text": [
      " 95%|█████████▌| 40/42 [01:09<00:04,  2.42s/it]"
     ]
    },
    {
     "name": "stdout",
     "output_type": "stream",
     "text": [
      "[LightGBM] [Warning] Auto-choosing row-wise multi-threading, the overhead of testing was 0.003024 seconds.\n",
      "You can set `force_row_wise=true` to remove the overhead.\n",
      "And if memory is not enough, you can set `force_col_wise=true`.\n",
      "[LightGBM] [Info] Total Bins 321\n",
      "[LightGBM] [Info] Number of data points in the train set: 1070, number of used features: 6\n",
      "[LightGBM] [Info] Start training from score 13201.182046\n"
     ]
    },
    {
     "name": "stderr",
     "output_type": "stream",
     "text": [
      "100%|██████████| 42/42 [01:12<00:00,  1.72s/it]\n"
     ]
    },
    {
     "data": {
      "text/html": [
       "<div>\n",
       "<style scoped>\n",
       "    .dataframe tbody tr th:only-of-type {\n",
       "        vertical-align: middle;\n",
       "    }\n",
       "\n",
       "    .dataframe tbody tr th {\n",
       "        vertical-align: top;\n",
       "    }\n",
       "\n",
       "    .dataframe thead th {\n",
       "        text-align: right;\n",
       "    }\n",
       "</style>\n",
       "<table border=\"1\" class=\"dataframe\">\n",
       "  <thead>\n",
       "    <tr style=\"text-align: right;\">\n",
       "      <th></th>\n",
       "      <th>Adjusted R-Squared</th>\n",
       "      <th>R-Squared</th>\n",
       "      <th>RMSE</th>\n",
       "      <th>Time Taken</th>\n",
       "    </tr>\n",
       "    <tr>\n",
       "      <th>Model</th>\n",
       "      <th></th>\n",
       "      <th></th>\n",
       "      <th></th>\n",
       "      <th></th>\n",
       "    </tr>\n",
       "  </thead>\n",
       "  <tbody>\n",
       "    <tr>\n",
       "      <th>GradientBoostingRegressor</th>\n",
       "      <td>0.90</td>\n",
       "      <td>0.90</td>\n",
       "      <td>4024.32</td>\n",
       "      <td>0.24</td>\n",
       "    </tr>\n",
       "    <tr>\n",
       "      <th>ExtraTreesRegressor</th>\n",
       "      <td>0.88</td>\n",
       "      <td>0.88</td>\n",
       "      <td>4378.61</td>\n",
       "      <td>0.52</td>\n",
       "    </tr>\n",
       "    <tr>\n",
       "      <th>HistGradientBoostingRegressor</th>\n",
       "      <td>0.88</td>\n",
       "      <td>0.88</td>\n",
       "      <td>4401.49</td>\n",
       "      <td>1.33</td>\n",
       "    </tr>\n",
       "    <tr>\n",
       "      <th>LGBMRegressor</th>\n",
       "      <td>0.87</td>\n",
       "      <td>0.88</td>\n",
       "      <td>4415.72</td>\n",
       "      <td>2.23</td>\n",
       "    </tr>\n",
       "    <tr>\n",
       "      <th>RandomForestRegressor</th>\n",
       "      <td>0.87</td>\n",
       "      <td>0.87</td>\n",
       "      <td>4503.58</td>\n",
       "      <td>1.48</td>\n",
       "    </tr>\n",
       "    <tr>\n",
       "      <th>BaggingRegressor</th>\n",
       "      <td>0.86</td>\n",
       "      <td>0.86</td>\n",
       "      <td>4720.25</td>\n",
       "      <td>0.10</td>\n",
       "    </tr>\n",
       "    <tr>\n",
       "      <th>XGBRegressor</th>\n",
       "      <td>0.85</td>\n",
       "      <td>0.86</td>\n",
       "      <td>4794.41</td>\n",
       "      <td>0.91</td>\n",
       "    </tr>\n",
       "    <tr>\n",
       "      <th>KNeighborsRegressor</th>\n",
       "      <td>0.85</td>\n",
       "      <td>0.85</td>\n",
       "      <td>4879.68</td>\n",
       "      <td>0.03</td>\n",
       "    </tr>\n",
       "    <tr>\n",
       "      <th>AdaBoostRegressor</th>\n",
       "      <td>0.83</td>\n",
       "      <td>0.83</td>\n",
       "      <td>5170.20</td>\n",
       "      <td>0.08</td>\n",
       "    </tr>\n",
       "    <tr>\n",
       "      <th>PoissonRegressor</th>\n",
       "      <td>0.80</td>\n",
       "      <td>0.80</td>\n",
       "      <td>5625.03</td>\n",
       "      <td>0.04</td>\n",
       "    </tr>\n",
       "    <tr>\n",
       "      <th>SGDRegressor</th>\n",
       "      <td>0.80</td>\n",
       "      <td>0.80</td>\n",
       "      <td>5642.07</td>\n",
       "      <td>0.07</td>\n",
       "    </tr>\n",
       "    <tr>\n",
       "      <th>Lars</th>\n",
       "      <td>0.80</td>\n",
       "      <td>0.80</td>\n",
       "      <td>5643.22</td>\n",
       "      <td>0.02</td>\n",
       "    </tr>\n",
       "    <tr>\n",
       "      <th>TransformedTargetRegressor</th>\n",
       "      <td>0.80</td>\n",
       "      <td>0.80</td>\n",
       "      <td>5643.22</td>\n",
       "      <td>0.06</td>\n",
       "    </tr>\n",
       "    <tr>\n",
       "      <th>LinearRegression</th>\n",
       "      <td>0.80</td>\n",
       "      <td>0.80</td>\n",
       "      <td>5643.22</td>\n",
       "      <td>0.11</td>\n",
       "    </tr>\n",
       "    <tr>\n",
       "      <th>Lasso</th>\n",
       "      <td>0.80</td>\n",
       "      <td>0.80</td>\n",
       "      <td>5643.52</td>\n",
       "      <td>0.01</td>\n",
       "    </tr>\n",
       "    <tr>\n",
       "      <th>LassoLars</th>\n",
       "      <td>0.80</td>\n",
       "      <td>0.80</td>\n",
       "      <td>5643.52</td>\n",
       "      <td>0.08</td>\n",
       "    </tr>\n",
       "    <tr>\n",
       "      <th>OrthogonalMatchingPursuitCV</th>\n",
       "      <td>0.80</td>\n",
       "      <td>0.80</td>\n",
       "      <td>5643.77</td>\n",
       "      <td>0.06</td>\n",
       "    </tr>\n",
       "    <tr>\n",
       "      <th>RidgeCV</th>\n",
       "      <td>0.80</td>\n",
       "      <td>0.80</td>\n",
       "      <td>5644.23</td>\n",
       "      <td>0.06</td>\n",
       "    </tr>\n",
       "    <tr>\n",
       "      <th>Ridge</th>\n",
       "      <td>0.80</td>\n",
       "      <td>0.80</td>\n",
       "      <td>5644.23</td>\n",
       "      <td>0.08</td>\n",
       "    </tr>\n",
       "    <tr>\n",
       "      <th>BayesianRidge</th>\n",
       "      <td>0.80</td>\n",
       "      <td>0.80</td>\n",
       "      <td>5645.38</td>\n",
       "      <td>0.05</td>\n",
       "    </tr>\n",
       "    <tr>\n",
       "      <th>LassoLarsIC</th>\n",
       "      <td>0.80</td>\n",
       "      <td>0.80</td>\n",
       "      <td>5646.56</td>\n",
       "      <td>0.13</td>\n",
       "    </tr>\n",
       "    <tr>\n",
       "      <th>LassoLarsCV</th>\n",
       "      <td>0.79</td>\n",
       "      <td>0.80</td>\n",
       "      <td>5652.26</td>\n",
       "      <td>0.10</td>\n",
       "    </tr>\n",
       "    <tr>\n",
       "      <th>LarsCV</th>\n",
       "      <td>0.79</td>\n",
       "      <td>0.80</td>\n",
       "      <td>5652.26</td>\n",
       "      <td>0.03</td>\n",
       "    </tr>\n",
       "    <tr>\n",
       "      <th>LassoCV</th>\n",
       "      <td>0.79</td>\n",
       "      <td>0.80</td>\n",
       "      <td>5652.31</td>\n",
       "      <td>0.17</td>\n",
       "    </tr>\n",
       "    <tr>\n",
       "      <th>HuberRegressor</th>\n",
       "      <td>0.75</td>\n",
       "      <td>0.75</td>\n",
       "      <td>6268.32</td>\n",
       "      <td>0.04</td>\n",
       "    </tr>\n",
       "    <tr>\n",
       "      <th>PassiveAggressiveRegressor</th>\n",
       "      <td>0.74</td>\n",
       "      <td>0.75</td>\n",
       "      <td>6315.84</td>\n",
       "      <td>0.10</td>\n",
       "    </tr>\n",
       "    <tr>\n",
       "      <th>ExtraTreeRegressor</th>\n",
       "      <td>0.72</td>\n",
       "      <td>0.72</td>\n",
       "      <td>6647.07</td>\n",
       "      <td>0.02</td>\n",
       "    </tr>\n",
       "    <tr>\n",
       "      <th>ElasticNet</th>\n",
       "      <td>0.68</td>\n",
       "      <td>0.69</td>\n",
       "      <td>7002.96</td>\n",
       "      <td>0.03</td>\n",
       "    </tr>\n",
       "    <tr>\n",
       "      <th>OrthogonalMatchingPursuit</th>\n",
       "      <td>0.67</td>\n",
       "      <td>0.67</td>\n",
       "      <td>7208.83</td>\n",
       "      <td>0.05</td>\n",
       "    </tr>\n",
       "    <tr>\n",
       "      <th>DecisionTreeRegressor</th>\n",
       "      <td>0.63</td>\n",
       "      <td>0.64</td>\n",
       "      <td>7553.78</td>\n",
       "      <td>0.02</td>\n",
       "    </tr>\n",
       "    <tr>\n",
       "      <th>TweedieRegressor</th>\n",
       "      <td>0.57</td>\n",
       "      <td>0.58</td>\n",
       "      <td>8201.30</td>\n",
       "      <td>0.06</td>\n",
       "    </tr>\n",
       "    <tr>\n",
       "      <th>RANSACRegressor</th>\n",
       "      <td>0.56</td>\n",
       "      <td>0.57</td>\n",
       "      <td>8262.12</td>\n",
       "      <td>0.09</td>\n",
       "    </tr>\n",
       "    <tr>\n",
       "      <th>GammaRegressor</th>\n",
       "      <td>0.54</td>\n",
       "      <td>0.55</td>\n",
       "      <td>8446.06</td>\n",
       "      <td>0.03</td>\n",
       "    </tr>\n",
       "    <tr>\n",
       "      <th>ElasticNetCV</th>\n",
       "      <td>0.12</td>\n",
       "      <td>0.14</td>\n",
       "      <td>11708.67</td>\n",
       "      <td>0.17</td>\n",
       "    </tr>\n",
       "    <tr>\n",
       "      <th>DummyRegressor</th>\n",
       "      <td>-0.02</td>\n",
       "      <td>-0.00</td>\n",
       "      <td>12619.41</td>\n",
       "      <td>0.01</td>\n",
       "    </tr>\n",
       "    <tr>\n",
       "      <th>NuSVR</th>\n",
       "      <td>-0.07</td>\n",
       "      <td>-0.05</td>\n",
       "      <td>12903.29</td>\n",
       "      <td>0.36</td>\n",
       "    </tr>\n",
       "    <tr>\n",
       "      <th>SVR</th>\n",
       "      <td>-0.13</td>\n",
       "      <td>-0.10</td>\n",
       "      <td>13234.04</td>\n",
       "      <td>0.62</td>\n",
       "    </tr>\n",
       "    <tr>\n",
       "      <th>QuantileRegressor</th>\n",
       "      <td>-0.13</td>\n",
       "      <td>-0.11</td>\n",
       "      <td>13265.27</td>\n",
       "      <td>58.86</td>\n",
       "    </tr>\n",
       "    <tr>\n",
       "      <th>KernelRidge</th>\n",
       "      <td>-0.36</td>\n",
       "      <td>-0.33</td>\n",
       "      <td>14546.14</td>\n",
       "      <td>0.07</td>\n",
       "    </tr>\n",
       "    <tr>\n",
       "      <th>LinearSVR</th>\n",
       "      <td>-1.02</td>\n",
       "      <td>-0.98</td>\n",
       "      <td>17742.66</td>\n",
       "      <td>0.11</td>\n",
       "    </tr>\n",
       "    <tr>\n",
       "      <th>MLPRegressor</th>\n",
       "      <td>-1.09</td>\n",
       "      <td>-1.04</td>\n",
       "      <td>18009.58</td>\n",
       "      <td>3.55</td>\n",
       "    </tr>\n",
       "    <tr>\n",
       "      <th>GaussianProcessRegressor</th>\n",
       "      <td>-21384.81</td>\n",
       "      <td>-20904.23</td>\n",
       "      <td>1823910.04</td>\n",
       "      <td>0.18</td>\n",
       "    </tr>\n",
       "  </tbody>\n",
       "</table>\n",
       "</div>"
      ],
      "text/plain": [
       "                               Adjusted R-Squared  R-Squared       RMSE  \\\n",
       "Model                                                                     \n",
       "GradientBoostingRegressor                    0.90       0.90    4024.32   \n",
       "ExtraTreesRegressor                          0.88       0.88    4378.61   \n",
       "HistGradientBoostingRegressor                0.88       0.88    4401.49   \n",
       "LGBMRegressor                                0.87       0.88    4415.72   \n",
       "RandomForestRegressor                        0.87       0.87    4503.58   \n",
       "BaggingRegressor                             0.86       0.86    4720.25   \n",
       "XGBRegressor                                 0.85       0.86    4794.41   \n",
       "KNeighborsRegressor                          0.85       0.85    4879.68   \n",
       "AdaBoostRegressor                            0.83       0.83    5170.20   \n",
       "PoissonRegressor                             0.80       0.80    5625.03   \n",
       "SGDRegressor                                 0.80       0.80    5642.07   \n",
       "Lars                                         0.80       0.80    5643.22   \n",
       "TransformedTargetRegressor                   0.80       0.80    5643.22   \n",
       "LinearRegression                             0.80       0.80    5643.22   \n",
       "Lasso                                        0.80       0.80    5643.52   \n",
       "LassoLars                                    0.80       0.80    5643.52   \n",
       "OrthogonalMatchingPursuitCV                  0.80       0.80    5643.77   \n",
       "RidgeCV                                      0.80       0.80    5644.23   \n",
       "Ridge                                        0.80       0.80    5644.23   \n",
       "BayesianRidge                                0.80       0.80    5645.38   \n",
       "LassoLarsIC                                  0.80       0.80    5646.56   \n",
       "LassoLarsCV                                  0.79       0.80    5652.26   \n",
       "LarsCV                                       0.79       0.80    5652.26   \n",
       "LassoCV                                      0.79       0.80    5652.31   \n",
       "HuberRegressor                               0.75       0.75    6268.32   \n",
       "PassiveAggressiveRegressor                   0.74       0.75    6315.84   \n",
       "ExtraTreeRegressor                           0.72       0.72    6647.07   \n",
       "ElasticNet                                   0.68       0.69    7002.96   \n",
       "OrthogonalMatchingPursuit                    0.67       0.67    7208.83   \n",
       "DecisionTreeRegressor                        0.63       0.64    7553.78   \n",
       "TweedieRegressor                             0.57       0.58    8201.30   \n",
       "RANSACRegressor                              0.56       0.57    8262.12   \n",
       "GammaRegressor                               0.54       0.55    8446.06   \n",
       "ElasticNetCV                                 0.12       0.14   11708.67   \n",
       "DummyRegressor                              -0.02      -0.00   12619.41   \n",
       "NuSVR                                       -0.07      -0.05   12903.29   \n",
       "SVR                                         -0.13      -0.10   13234.04   \n",
       "QuantileRegressor                           -0.13      -0.11   13265.27   \n",
       "KernelRidge                                 -0.36      -0.33   14546.14   \n",
       "LinearSVR                                   -1.02      -0.98   17742.66   \n",
       "MLPRegressor                                -1.09      -1.04   18009.58   \n",
       "GaussianProcessRegressor                -21384.81  -20904.23 1823910.04   \n",
       "\n",
       "                               Time Taken  \n",
       "Model                                      \n",
       "GradientBoostingRegressor            0.24  \n",
       "ExtraTreesRegressor                  0.52  \n",
       "HistGradientBoostingRegressor        1.33  \n",
       "LGBMRegressor                        2.23  \n",
       "RandomForestRegressor                1.48  \n",
       "BaggingRegressor                     0.10  \n",
       "XGBRegressor                         0.91  \n",
       "KNeighborsRegressor                  0.03  \n",
       "AdaBoostRegressor                    0.08  \n",
       "PoissonRegressor                     0.04  \n",
       "SGDRegressor                         0.07  \n",
       "Lars                                 0.02  \n",
       "TransformedTargetRegressor           0.06  \n",
       "LinearRegression                     0.11  \n",
       "Lasso                                0.01  \n",
       "LassoLars                            0.08  \n",
       "OrthogonalMatchingPursuitCV          0.06  \n",
       "RidgeCV                              0.06  \n",
       "Ridge                                0.08  \n",
       "BayesianRidge                        0.05  \n",
       "LassoLarsIC                          0.13  \n",
       "LassoLarsCV                          0.10  \n",
       "LarsCV                               0.03  \n",
       "LassoCV                              0.17  \n",
       "HuberRegressor                       0.04  \n",
       "PassiveAggressiveRegressor           0.10  \n",
       "ExtraTreeRegressor                   0.02  \n",
       "ElasticNet                           0.03  \n",
       "OrthogonalMatchingPursuit            0.05  \n",
       "DecisionTreeRegressor                0.02  \n",
       "TweedieRegressor                     0.06  \n",
       "RANSACRegressor                      0.09  \n",
       "GammaRegressor                       0.03  \n",
       "ElasticNetCV                         0.17  \n",
       "DummyRegressor                       0.01  \n",
       "NuSVR                                0.36  \n",
       "SVR                                  0.62  \n",
       "QuantileRegressor                   58.86  \n",
       "KernelRidge                          0.07  \n",
       "LinearSVR                            0.11  \n",
       "MLPRegressor                         3.55  \n",
       "GaussianProcessRegressor             0.18  "
      ]
     },
     "execution_count": 33,
     "metadata": {},
     "output_type": "execute_result"
    }
   ],
   "source": [
    "# from lazypredict.Supervised import LazyRegressor\n",
    "# from sklearn.model_selection import train_test_split\n",
    "\n",
    "# Split the dataset into training and test sets\n",
    "X = df.drop(['charges'], axis=1)\n",
    "y = df['charges']\n",
    "X_train, X_test, y_train, y_test = train_test_split(X, y, test_size=0.2, random_state=0)\n",
    "\n",
    "# Evaluate models using LazyRegressor\n",
    "reg = LazyRegressor(predictions=True)\n",
    "models, predictions = reg.fit(X_train, X_test, y_train, y_test)\n",
    "\n",
    "models\n"
   ]
  },
  {
   "cell_type": "markdown",
   "id": "f83d5c8b",
   "metadata": {},
   "source": [
    "<a id=\"22\"></a>\n",
    "\n",
    "<div class=\"alert alert-info\" role=\"alert\">\n",
    "<h1><span style=\"color:red\"> Result </span></h1>\n",
    "</div>\n",
    "\n",
    "<div class=\"alert alert-block alert-warning\">\n",
    "<b style=\"color:red;\">Result:</b> When comparing the models, we observe that the fastest-performing model is <span style=\"font-weight:bold;\">ElasticNet</span>, and the model with the lowest RMSE is the <span style=\"font-weight:bold;\">GradientBoostingRegressor</span>. Therefore, after trying out several models, we will focus on the <span style=\"font-weight:bold; color:red;\">GradientBoostingRegressor</span> model.\n",
    "</div>\n"
   ]
  },
  {
   "cell_type": "markdown",
   "id": "71f885e9",
   "metadata": {},
   "source": [
    "<a href=\"#part_4\" class=\"btn btn-danger btn-lg active\" role=\"button\" aria-pressed=\"true\" style=\"color:white;\">Part - 4</a>\n",
    "<a href=\"#toc\" class=\"btn btn-warning btn-lg active\" role=\"button\" aria-pressed=\"true\" style=\"color:black;\">Content</a>"
   ]
  },
  {
   "cell_type": "code",
   "execution_count": 34,
   "id": "555937c8",
   "metadata": {},
   "outputs": [],
   "source": [
    "# models.sort_values(\"RMSE\")"
   ]
  },
  {
   "cell_type": "markdown",
   "id": "c5dc8a03",
   "metadata": {},
   "source": [
    "<a id=\"part_4_2\"></a>\n",
    "<button type=\"button\" class=\"btn btn-lg btn-danger\" data-toggle=\"popover\" title=\"Popover title\" > Linear Regression</button>"
   ]
  },
  {
   "cell_type": "code",
   "execution_count": 35,
   "id": "5b7c2502",
   "metadata": {},
   "outputs": [
    {
     "name": "stdout",
     "output_type": "stream",
     "text": [
      "11041.369857357335\n",
      "[   253.99185244    -24.32455098    328.40261701    443.72929547\n",
      " -23568.87948381    288.50857254]\n",
      "0.7998747145449959\n"
     ]
    }
   ],
   "source": [
    "# from sklearn.model_selection import train_test_split \n",
    "# from sklearn.linear_model import LinearRegression\n",
    "# from sklearn import metrics\n",
    "\n",
    "\n",
    "lin_regression = LinearRegression()\n",
    "lin_regression.fit(X_train, y_train)\n",
    "print(lin_regression.intercept_)\n",
    "print(lin_regression.coef_)\n",
    "print(lin_regression.score(X_test, y_test))"
   ]
  },
  {
   "cell_type": "markdown",
   "id": "f1776632",
   "metadata": {},
   "source": [
    "<a id=\"part_4_3\"></a>\n",
    "<button type=\"button\" class=\"btn btn-lg btn-danger\" data-toggle=\"popover\" title=\"Popover title\" > Ridge Regression</button>"
   ]
  },
  {
   "cell_type": "markdown",
   "id": "fd986102",
   "metadata": {},
   "source": [
    "<a href=\"#part_4\" class=\"btn btn-danger btn-lg active\" role=\"button\" aria-pressed=\"true\" style=\"color:white;\">Part - 4</a>\n",
    "<a href=\"#toc\" class=\"btn btn-warning btn-lg active\" role=\"button\" aria-pressed=\"true\" style=\"color:black;\">Content</a>"
   ]
  },
  {
   "cell_type": "code",
   "execution_count": 36,
   "id": "8949e296",
   "metadata": {},
   "outputs": [
    {
     "name": "stdout",
     "output_type": "stream",
     "text": [
      "10990.442891069883\n",
      "[ 2.53893751e+02 -2.15112284e+01  3.28339566e+02  4.44238477e+02\n",
      " -2.35009674e+04  2.89027871e+02]\n",
      "0.799698963206314\n"
     ]
    }
   ],
   "source": [
    "# from sklearn.linear_model import Ridge\n",
    "Ridge = Ridge(alpha = 0.5)\n",
    "Ridge.fit(X_train, y_train)\n",
    "print(Ridge.intercept_)\n",
    "print(Ridge.coef_)\n",
    "print(Ridge.score(X_test, y_test))"
   ]
  },
  {
   "cell_type": "markdown",
   "id": "31eb23b2",
   "metadata": {},
   "source": [
    "<a id=\"part_4_4\"></a>\n",
    "<button type=\"button\" class=\"btn btn-lg btn-danger\" data-toggle=\"popover\" title=\"Popover title\" > Lasso Regression</button>"
   ]
  },
  {
   "cell_type": "markdown",
   "id": "b10a471d",
   "metadata": {},
   "source": [
    "<a href=\"#part_4\" class=\"btn btn-danger btn-lg active\" role=\"button\" aria-pressed=\"true\" style=\"color:white;\">Part - 4</a>\n",
    "<a href=\"#toc\" class=\"btn btn-warning btn-lg active\" role=\"button\" aria-pressed=\"true\" style=\"color:black;\">Content</a>"
   ]
  },
  {
   "cell_type": "code",
   "execution_count": 37,
   "id": "0488146f",
   "metadata": {},
   "outputs": [
    {
     "name": "stdout",
     "output_type": "stream",
     "text": [
      "11040.753734387503\n",
      "[ 2.53991436e+02 -2.34569821e+01  3.28389438e+02  4.43587436e+02\n",
      " -2.35676136e+04  2.88340296e+02]\n",
      "0.7998690236224705\n"
     ]
    }
   ],
   "source": [
    "# from sklearn.linear_model import Lasso\n",
    "lasso_reg = Lasso(alpha = 0.2, fit_intercept = True,  precompute = False, \\\n",
    "                  max_iter = 1000, tol = 0.0001, warm_start = False,\\\n",
    "                  positive = False, random_state = None, selection = 'cyclic')\n",
    "\n",
    "lasso_reg.fit(X_train, y_train)\n",
    "print(lasso_reg.intercept_)\n",
    "print(lasso_reg.coef_)\n",
    "print(lasso_reg.score(X_test, y_test))"
   ]
  },
  {
   "cell_type": "markdown",
   "id": "2ee4b5ba",
   "metadata": {},
   "source": [
    "<a id=\"part_4_5\"></a>\n",
    "<button type=\"button\" class=\"btn btn-lg btn-danger\" data-toggle=\"popover\" title=\"Popover title\" > Gradient Boosting Regressor</button>"
   ]
  },
  {
   "cell_type": "markdown",
   "id": "f007ca13",
   "metadata": {},
   "source": [
    "<a href=\"#part_4\" class=\"btn btn-danger btn-lg active\" role=\"button\" aria-pressed=\"true\" style=\"color:white;\">Part - 4</a>\n",
    "<a href=\"#toc\" class=\"btn btn-warning btn-lg active\" role=\"button\" aria-pressed=\"true\" style=\"color:black;\">Content</a>"
   ]
  },
  {
   "cell_type": "code",
   "execution_count": 38,
   "id": "8ce7ee72",
   "metadata": {
    "scrolled": true
   },
   "outputs": [
    {
     "name": "stdout",
     "output_type": "stream",
     "text": [
      "Mean Squared Error (MSE): 16199500.535304368\n",
      "R-squared (R^2): 0.898199557777109\n"
     ]
    }
   ],
   "source": [
    "# from sklearn.ensemble import GradientBoostingRegressor\n",
    "# from sklearn.model_selection import train_test_split\n",
    "# from sklearn.metrics import mean_squared_error, r2_score\n",
    "\n",
    "model_gradient = GradientBoostingRegressor(n_estimators=100, learning_rate=0.1, max_depth=3, random_state=42)\n",
    "\n",
    "model_gradient.fit(X_train, y_train)\n",
    "\n",
    "y_pred = model_gradient.predict(X_test)\n",
    "\n",
    "mse = mean_squared_error(y_test, y_pred)\n",
    "r2 = r2_score(y_test, y_pred)\n",
    "\n",
    "print(\"Mean Squared Error (MSE):\", mse)\n",
    "print(\"R-squared (R^2):\", r2)"
   ]
  },
  {
   "cell_type": "markdown",
   "id": "312ab43b",
   "metadata": {},
   "source": [
    "<a id=\"part_4_6\"></a>\n",
    "<button type=\"button\" class=\"btn btn-lg btn-danger\" data-toggle=\"popover\" title=\"Popover title\" > Cross Validation</button>"
   ]
  },
  {
   "cell_type": "code",
   "execution_count": 39,
   "id": "6c7c6b2e",
   "metadata": {},
   "outputs": [
    {
     "name": "stdout",
     "output_type": "stream",
     "text": [
      "Cross Validate Score: [0.87518361 0.79159011 0.89414338 0.84919251 0.85971592]\n",
      "Mean R-squared Value: 0.8539651062675502\n"
     ]
    }
   ],
   "source": [
    "# from sklearn.model_selection import cross_val_score\n",
    "# from sklearn.linear_model import LinearRegression\n",
    "model_cross = model_gradient\n",
    "\n",
    "# X = df.drop(['charges'], axis=1)\n",
    "# y = df['charges']\n",
    "\n",
    "cv_scores = cross_val_score(model_cross, X, y, cv=5) \n",
    "\n",
    "print(\"Cross Validate Score:\", cv_scores)\n",
    "print(\"Mean R-squared Value:\", cv_scores.mean())\n"
   ]
  },
  {
   "cell_type": "markdown",
   "id": "3394b55b",
   "metadata": {},
   "source": [
    "<a href=\"#part_4\" class=\"btn btn-danger btn-lg active\" role=\"button\" aria-pressed=\"true\" style=\"color:white;\">Part - 4</a>\n",
    "<a href=\"#toc\" class=\"btn btn-warning btn-lg active\" role=\"button\" aria-pressed=\"true\" style=\"color:black;\">Content</a>"
   ]
  },
  {
   "cell_type": "markdown",
   "id": "fc082ce6",
   "metadata": {},
   "source": [
    "<a id=\"part_5\"></a>\n",
    "# <p style=\"background-color:#FF6961; font-family:newtimeroman;color:#FFF9ED; font-size:150%; text-align:center; border-radius: 15px 50px;\"> ✨ 5 - Hyper-Parameters Optimization ✨</p>\n",
    "\n"
   ]
  },
  {
   "cell_type": "markdown",
   "id": "0c932fd3",
   "metadata": {},
   "source": [
    "<a href=\"#toc\" class=\"btn btn-warning btn-lg active\" role=\"button\" aria-pressed=\"true\" style=\"color:black;\">Content</a>"
   ]
  },
  {
   "cell_type": "markdown",
   "id": "1acd0495",
   "metadata": {},
   "source": [
    "<a id=\"22\"></a>\n",
    "\n",
    "<div class=\"alert alert-info\" role=\"alert\">\n",
    "<h1><span style=\"color:red\"> Hyperparameters </span></h1>\n",
    "</div>\n",
    "\n",
    "<div class=\"alert alert-block alert-warning\">\n",
    "<b style=\"color:red;\">Result:</b> Upon evaluating the models, we have determined that the most optimal model's hyperparameters are {'learning_rate': 0.01, 'max_depth': 3, 'n_estimators': 300}. The model's Mean Squared Error (MSE) is <span style=\"font-weight:bold;color:red;\">16424331.736991273</span>, and its R-squared (R^2) value is <span style=\"font-weight:bold;color:red;\">0.8967866799104519</span>.\n",
    "</div>\n"
   ]
  },
  {
   "cell_type": "markdown",
   "id": "dfaa8bd4",
   "metadata": {},
   "source": [
    "<a href=\"#part_5\" class=\"btn btn-danger btn-lg active\" role=\"button\" aria-pressed=\"true\" style=\"color:white;\">Part - 5</a>\n",
    "<a href=\"#toc\" class=\"btn btn-warning btn-lg active\" role=\"button\" aria-pressed=\"true\" style=\"color:black;\">Content</a>"
   ]
  },
  {
   "cell_type": "code",
   "execution_count": 40,
   "id": "4569e21a",
   "metadata": {},
   "outputs": [
    {
     "name": "stdout",
     "output_type": "stream",
     "text": [
      "Best Hyperparameters: {'learning_rate': 0.01, 'max_depth': 3, 'n_estimators': 300}\n",
      "Mean Squared Error (MSE): 16424331.736991273\n",
      "R-squared (R^2): 0.8967866799104519\n"
     ]
    }
   ],
   "source": [
    "# from sklearn.ensemble import GradientBoostingRegressor\n",
    "# from sklearn.model_selection import GridSearchCV\n",
    "# from sklearn.model_selection import train_test_split\n",
    "# from sklearn.metrics import mean_squared_error, r2_score\n",
    "\n",
    "\n",
    "param_grid = {\n",
    "    'n_estimators': [100, 200, 300],\n",
    "    'learning_rate': [0.01, 0.1, 0.2],\n",
    "    'max_depth': [3, 4, 5]\n",
    "}\n",
    "\n",
    "# Define hyperparameter combinations to set\n",
    "model = GradientBoostingRegressor(random_state=42)\n",
    "\n",
    "# Find the best combination of hyperparameters using Grid Search\n",
    "grid_search = GridSearchCV(model, param_grid, cv=5, scoring='neg_mean_squared_error')\n",
    "grid_search.fit(X_train, y_train)\n",
    "\n",
    "# Choose the best model\n",
    "best_model = grid_search.best_estimator_\n",
    "\n",
    "# Make predictions on the test set\n",
    "y_pred = best_model.predict(X_test)\n",
    "\n",
    "# Evaluate model performance\n",
    "mse = mean_squared_error(y_test, y_pred)\n",
    "r2 = r2_score(y_test, y_pred)\n",
    "\n",
    "print(\"Best Hyperparameters:\", grid_search.best_params_)\n",
    "print(\"Mean Squared Error (MSE):\", mse)\n",
    "print(\"R-squared (R^2):\", r2)"
   ]
  },
  {
   "cell_type": "markdown",
   "id": "4ec4720f",
   "metadata": {},
   "source": [
    "<a href=\"#part_5\" class=\"btn btn-danger btn-lg active\" role=\"button\" aria-pressed=\"true\" style=\"color:white;\">Part - 5</a>\n",
    "<a href=\"#toc\" class=\"btn btn-warning btn-lg active\" role=\"button\" aria-pressed=\"true\" style=\"color:black;\">Content</a>"
   ]
  },
  {
   "cell_type": "markdown",
   "id": "fa0f42a8",
   "metadata": {},
   "source": [
    "<a id=\"part_6\"></a>\n",
    "# <p style=\"background-color:#FF6961; font-family:newtimeroman;color:#FFF9ED; font-size:150%; text-align:center; border-radius: 15px 50px;\"> ✨ 6 - Model Evaluation ✨</p>\n",
    "\n",
    "\n",
    "<a href=\"#toc\" class=\"btn btn-warning btn-lg active\" role=\"button\" aria-pressed=\"true\" style=\"color:black;\">Content</a>"
   ]
  },
  {
   "cell_type": "code",
   "execution_count": 41,
   "id": "ad9ed8ac",
   "metadata": {},
   "outputs": [
    {
     "name": "stdout",
     "output_type": "stream",
     "text": [
      "Mean Squared Error (MSE): 16424331.736991273\n",
      "R-squared (R^2): 0.8967866799104519\n"
     ]
    }
   ],
   "source": [
    "# from sklearn.ensemble import GradientBoostingRegressor\n",
    "\n",
    "\n",
    "best_params = {'learning_rate': 0.01, 'max_depth': 3, 'n_estimators': 300}\n",
    "\n",
    "# Define the best parameters\n",
    "model_gradient = GradientBoostingRegressor(**best_params, random_state=42)\n",
    "\n",
    "# Apply the data to the model and retrain the model\n",
    "model_gradient.fit(X_train, y_train)\n",
    "\n",
    "# Evaluate the results\n",
    "y_pred = model_gradient.predict(X_test)\n",
    "mse = mean_squared_error(y_test, y_pred)\n",
    "r2 = r2_score(y_test, y_pred)\n",
    "print(\"Mean Squared Error (MSE):\", mse)\n",
    "print(\"R-squared (R^2):\", r2)\n"
   ]
  },
  {
   "cell_type": "markdown",
   "id": "ecb6fded",
   "metadata": {},
   "source": [
    "<div class=\"alert alert-block alert-warning\">\n",
    "<b style=\"color:red;\">Result:</b> <hr>\n",
    "  In the model evaluation, we can conclude that the <span style=\"font-weight:bold;\">GradientBoostingRegressor</span> model, with hyperparameters <span style=\"font-weight:bold;\">{'learning_rate': 0.01, 'max_depth': 3, 'n_estimators': 300}</span>, exhibits a <span style=\"color:red;\">Mean Squared Error (MSE)</span> of approximately <span style=\"color:red;\">16,424,331.74</span> and an <span style=\"color:red;\">R-squared (R^2)</span> value of about <span style=\"color:red;\">0.897</span>. \n",
    "\n",
    "The relatively low MSE indicates that the model's predictions are close to the actual values, and the high R-squared value implies that a substantial portion of the variance in the target variable is explained by the model. This suggests that the <span style=\"font-weight:bold;\">GradientBoostingRegressor</span> model is performing well in capturing the underlying patterns in the data and is a promising candidate for making accurate predictions.\n",
    "\n",
    "However, further <span style=\"color:red;\">fine-tuning and optimization</span> may be considered to potentially enhance the model's performance even more, depending on the specific requirements of the task or application.\n",
    "</div>\n"
   ]
  },
  {
   "cell_type": "markdown",
   "id": "5bee9814",
   "metadata": {},
   "source": [
    "<a id=\"the_end\"></a>\n",
    "# <p style=\"background-color:#FF6961; font-family:newtimeroman;color:#FFF9ED; font-size:150%; text-align:center; border-radius: 15px 50px;\"> ✨ THE END ✨</p>\n",
    "\n"
   ]
  },
  {
   "cell_type": "markdown",
   "id": "fb9ef180",
   "metadata": {},
   "source": [
    "<a href=\"#part_1\" class=\"btn btn-danger btn-lg active\" role=\"button\" aria-pressed=\"true\" style=\"color:white;\">Part - 1</a>\n",
    "<a href=\"#part_2\" class=\"btn btn-danger btn-lg active\" role=\"button\" aria-pressed=\"true\" style=\"color:white;\">Part - 2</a>\n",
    "<a href=\"#part_3\" class=\"btn btn-danger btn-lg active\" role=\"button\" aria-pressed=\"true\" style=\"color:white;\">Part - 3</a>\n",
    "<a href=\"#part_4\" class=\"btn btn-danger btn-lg active\" role=\"button\" aria-pressed=\"true\" style=\"color:white;\">Part - 4</a>\n",
    "<a href=\"#part_5\" class=\"btn btn-danger btn-lg active\" role=\"button\" aria-pressed=\"true\" style=\"color:white;\">Part - 5</a>\n",
    "<a href=\"#part_6\" class=\"btn btn-danger btn-lg active\" role=\"button\" aria-pressed=\"true\" style=\"color:white;\">Part - 6</a>\n",
    "<a href=\"#toc\" class=\"btn btn-warning btn-lg active\" role=\"button\" aria-pressed=\"true\" style=\"color:black;\">Content</a>"
   ]
  },
  {
   "cell_type": "markdown",
   "id": "ebd7f904",
   "metadata": {},
   "source": [
    "<h3 style=\"text-align:center;font-size:200%;\">Progress Bars</h3>\n",
    "<div class=\"progress\">\n",
    "  <div class=\"progress-bar bg-danger\" role=\"progressbar\" style=\"width: 100%;\" aria-valuenow=\"100\" aria-valuemin=\"100\" aria-valuemax=\"100\">100%</div>\n",
    "</div>\n",
    "\n"
   ]
  },
  {
   "cell_type": "markdown",
   "id": "b23843a5",
   "metadata": {},
   "source": [
    "<h6><span class=\"label label-danger\">Attention</span>This study consists of six parts. You can access the entire study through the following links. Good luck with your work. </h6>"
   ]
  },
  {
   "cell_type": "markdown",
   "id": "f7f254cd",
   "metadata": {},
   "source": [
    "<ul class=\"nav flex-column\">\n",
    "  <h3 class=\"list-group-item list-group-item-action active\" data-toggle=\"list\" role=\"tab\" aria-controls=\"home\" style=\"background-color:#FF6961; color:white\"><b> Health Expense Explorer </b></h3>\n",
    "  <li class=\"nav-item\">\n",
    "  <li class=\"nav-item\">\n",
    "    <a class=\"nav-link\" style=\"background-color:; color:red\" href=\"https://github.com/huseyincenik/data_science/tree/main/Projects/Health%20Expense%20Explorer\"><b>Github Notebook Link</b></a>\n",
    "  </li>\n",
    "    <li class=\"nav-item\">\n",
    "    <a class=\"nav-link\" style=\"background-color:; color:blue\" href=\"https://www.kaggle.com/huseyincenik\"><b>My Kaggle Account</b></a>\n",
    "  </li>  \n",
    "  <li class=\"nav-item\">\n",
    "    <a class=\"nav-link\" style=\"background-color:; color:green\" href=\"https://www.linkedin.com/in/huseyincenik/\"><b>My Linkedin Account</b></a>\n",
    "  </li>\n",
    "</ul>\n"
   ]
  }
 ],
 "metadata": {
  "kernelspec": {
   "display_name": "Python 3 (ipykernel)",
   "language": "python",
   "name": "python3"
  },
  "language_info": {
   "codemirror_mode": {
    "name": "ipython",
    "version": 3
   },
   "file_extension": ".py",
   "mimetype": "text/x-python",
   "name": "python",
   "nbconvert_exporter": "python",
   "pygments_lexer": "ipython3",
   "version": "3.10.9"
  }
 },
 "nbformat": 4,
 "nbformat_minor": 5
}
