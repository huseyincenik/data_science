{
 "cells": [
  {
   "cell_type": "markdown",
   "id": "d49adea6",
   "metadata": {
    "id": "gEdvdaatMSmK"
   },
   "source": [
    "# <p style=\"background-color:#FF6961; font-family:newtimeroman;color:#FFF9ED;font-size:220%; text-align:center; border-radius: 15px 55px;\">📈 Data Preprocessing in Time Series Analysis - 1 📉</p>\n"
   ]
  },
  {
   "cell_type": "markdown",
   "id": "999a5414",
   "metadata": {},
   "source": [
    "<img src=\"https://i.ibb.co/p3cqmmp/Analysis-Brainstorm-Presentation.png\" alt=\"Melbourne\" width=\"1000\" height=\"1000\">\n"
   ]
  },
  {
   "cell_type": "markdown",
   "id": "2ffc4fd6",
   "metadata": {
    "id": "eF9tS6Y7RvDK"
   },
   "source": [
    "<h3 style=\"text-align:center;font-size:200%;\">Progress Bars</h3>\n",
    "<div class=\"progress\">\n",
    "  <div class=\"progress-bar bg-danger\" role=\"progressbar\" style=\"width: 0%;\" aria-valuenow=\"0\" aria-valuemin=\"0\" aria-valuemax=\"100\">0%</div>\n",
    "</div>\n",
    "\n"
   ]
  },
  {
   "cell_type": "markdown",
   "id": "a8c0deea",
   "metadata": {
    "id": "M-0g5b4bTppZ"
   },
   "source": [
    "<ul class=\"nav flex-column\">\n",
    "  <h3 class=\"list-group-item list-group-item-action active\" data-toggle=\"list\" role=\"tab\" aria-controls=\"home\" style=\"background-color:#FF6961; color:white\"><b> Data Preprocessing in Time Series Analysis - 1\n",
    " </b></h3>\n",
    "  <li class=\"nav-item\">\n",
    "    <a class=\"nav-link\" style=\"background-color:; color:red\" href=\"https://github.com/huseyincenik/data_science/tree/main/time_series_analysis/data_preprocessing_1\"><b>Github Notebook Link</b></a>\n",
    "  </li>\n",
    "    <li class=\"nav-item\">\n",
    "    <a class=\"nav-link\" style=\"background-color:; color:blue\" href=\"https://www.kaggle.com/code/huseyincenik/data-preprocessing-in-time-series-analysis-1\"><b>Kaggle Notebook Link</b></a>\n",
    "  </li>  \n",
    "  <li class=\"nav-item\">\n",
    "    <a class=\"nav-link\" style=\"background-color:; color:green\" href=\"https://www.linkedin.com/in/huseyincenik/\"><b>My Linkedin Account</b></a>\n",
    "  </li>\n",
    "</ul>\n"
   ]
  },
  {
   "cell_type": "markdown",
   "id": "fdf09589",
   "metadata": {},
   "source": [
    "<a id=\"toc\"></a>\n",
    "<div style=\"border-radius: 10px;\n",
    "            border: black solid;\n",
    "            background-color: lightblue;\n",
    "            font-size: 100%;\n",
    "            text-align: left;\n",
    "            box-shadow: 2px 2px 4px rgba(0, 0, 0, 0.5);\">\n",
    "<h2 style=\"border: 0; border-radius: 15px; font-weight: bold; font-size: 220%; color: white; background-color: red;\"><center> ✍✍ Content ✍✍</center></h2>  \n",
    "<div style=\"display: flex;\">\n",
    "    <hr style=\"border: none;\n",
    "               height: 2px;\n",
    "               width: 100%;\n",
    "               background-color: linear-gradient(to right, blue, white);\n",
    "               box-shadow: 0px 2px 4px rgba(0, 0, 0, 0.5);\n",
    "               margin-left: 0;\">\n",
    "</div>      \n",
    "<div>\n",
    "  <ul style=\"background-color: white;\">\n",
    "    <li><a href=\"#part_1\">PART - 1 READING & UNDERSTANDING DATA</a></li>\n",
    "    <ul>\n",
    "        <li><a href=\"#part_1_1\">Importing Libraries Needed in This Notebook</a></li> \n",
    "        <li><a href=\"#part_1_2\">Importing Data</a></li>\n",
    "    </ul>\n",
    "    <li><a href=\"#part_2\">PART - 2 DATA PREPROCESSING</a></li>\n",
    "    <ul>\n",
    "        <li><a href=\"#part_2_1\">Data Type Conversion</a></li>\n",
    "        <li><a href=\"#part_2_2\">Sorting Date Data Type</a></li>\n",
    "    </ul>\n",
    "    </ul>\n",
    "</div>\n",
    "<div style=\"display: flex;\">\n",
    "    <hr style=\"border: none;\n",
    "               height: 2px;\n",
    "               width: 100%;\n",
    "               background-color: linear-gradient(to right, blue, white);\n",
    "               box-shadow: 0px 2px 4px rgba(0, 0, 0, 0.5);\n",
    "               margin-left: 0;\">\n",
    "</div>\n",
    "<div>\n",
    "  <ul style=\"background-color: white;\"> \n",
    "    <li><a href=\"#summary\">SUMMARY</a></li>\n",
    "    <li><a href=\"#the_end\">THE END </a></li>\n",
    "  </ul>\n",
    "</div>\n",
    "</div>"
   ]
  },
  {
   "cell_type": "markdown",
   "id": "d6968a55",
   "metadata": {},
   "source": [
    "<a id=\"part_1\"></a>\n",
    "# <p style=\"background-color:#FF6961; font-family:newtimeroman;color:#FFF9ED; font-size:150%; text-align:center; border-radius: 15px 50px;\"> ✨ PART - 1 Reading & Understanding Data ✨</p>\n",
    "\n"
   ]
  },
  {
   "cell_type": "markdown",
   "id": "c028dc30",
   "metadata": {},
   "source": [
    "<a id=\"part_1_dataset\"></a>\n",
    "<div style=\"border-radius: 10px; border: 1px solid black; background-color:#87CEFA ; font-size: 100%; text-align: left; box-shadow: 2px 2px 4px rgba(0, 0, 0, 0.5); padding: 10px; margin-bottom: 20px;\">\n",
    "    <h2 style=\"border: 0; border-radius: 15px; font-weight: bold; font-size: 220%; color: #FF5733; background-color: white; padding: 10px; text-align: center; text-shadow: 2px 2px 4px rgba(0, 0, 0, 0.5);\">💰 USD Exchange Rate Dataset 💰</h2>\n",
    "    <p>\n",
    "        <strong style=\"color: white;\">Dataset Source:</strong>\n",
    "        The USD Exchange Rate dataset is available in the file <code>usd_exchange_rate.xlsx</code>. You can access it using the following link:\n",
    "    </p>\n",
    "    <ul>\n",
    "        <li><a href=\"https://www.kaggle.com/datasets/huseyincenik/usd-exchange-rate-dataset\" style=\"color: white; text-decoration: underline;\">USD Exchange Rate Dataset on Kaggle</a></li>\n",
    "    </ul>\n",
    "    <p>\n",
    "    <p>\n",
    "        <strong style=\"color: white;\">Columns:</strong>\n",
    "        The dataset includes the following columns:\n",
    "    </p>\n",
    "    <ul>\n",
    "        <li><strong>Date</strong>: The date of the exchange rate data entry (e.g., 02-01-2020)</li>\n",
    "        <li><strong>USD</strong>: USD exchange rate values for the corresponding date</li>\n",
    "    </ul>\n",
    "</div>\n"
   ]
  },
  {
   "cell_type": "markdown",
   "id": "2c5242d4",
   "metadata": {
    "id": "0Z0Z0zmZVJfS"
   },
   "source": [
    "<a href=\"#part_1\" class=\"btn btn-danger btn-lg active\" role=\"button\" aria-pressed=\"true\" style=\"color:white;\">Part - 1</a>\n",
    "<a href=\"#toc\" class=\"btn btn-warning btn-lg active\" role=\"button\" aria-pressed=\"true\" style=\"color:black;\">Content</a>"
   ]
  },
  {
   "cell_type": "markdown",
   "id": "ddf96bbf",
   "metadata": {
    "id": "lq-UbgmWUHkh"
   },
   "source": [
    "<a id=\"part_1_1\"></a>\n",
    "# <p style=\"background-color:#3498DB; font-family:newtimeroman;color:#FFF9ED; font-size:150%; text-align:center; border-radius: 15px 50px;\"> ✨ Importing Libraries Needed in This Notebook ✨</p>"
   ]
  },
  {
   "cell_type": "code",
   "execution_count": 39,
   "id": "04554b4e",
   "metadata": {},
   "outputs": [],
   "source": [
    "import pandas as pd\n",
    "from datetime import datetime"
   ]
  },
  {
   "cell_type": "code",
   "execution_count": 43,
   "id": "f5442a61",
   "metadata": {
    "scrolled": true
   },
   "outputs": [
    {
     "name": "stdout",
     "output_type": "stream",
     "text": [
      "Pandas Version:  2.2.2\n",
      "Python Version:  3.10.8 | packaged by conda-forge | (main, Nov 22 2022, 08:16:53) [MSC v.1929 64 bit (AMD64)]\n"
     ]
    }
   ],
   "source": [
    "# version control\n",
    "import pandas as pd\n",
    "import sys\n",
    "\n",
    "print(\"Pandas Version: \", pd.__version__)\n",
    "print(\"Python Version: \", sys.version)"
   ]
  },
  {
   "cell_type": "markdown",
   "id": "bbe8421f",
   "metadata": {},
   "source": [
    "<a id=\"part_1_2\"></a>\n",
    "# <p style=\"background-color:#3498DB; font-family:newtimeroman;color:#FFF9ED; font-size:150%; text-align:center; border-radius: 15px 50px;\"> ✨ Importing Data ✨</p>"
   ]
  },
  {
   "cell_type": "markdown",
   "id": "e575e7b3",
   "metadata": {
    "id": "0Z0Z0zmZVJfS"
   },
   "source": [
    "<a href=\"#part_1\" class=\"btn btn-danger btn-lg active\" role=\"button\" aria-pressed=\"true\" style=\"color:white;\">Part - 1</a>\n",
    "<a href=\"#toc\" class=\"btn btn-warning btn-lg active\" role=\"button\" aria-pressed=\"true\" style=\"color:black;\">Content</a>"
   ]
  },
  {
   "cell_type": "code",
   "execution_count": 27,
   "id": "4c472d54",
   "metadata": {},
   "outputs": [],
   "source": [
    "df = pd.read_excel('changing_frequence.xlsx')"
   ]
  },
  {
   "cell_type": "code",
   "execution_count": 28,
   "id": "1261b8cd",
   "metadata": {},
   "outputs": [
    {
     "data": {
      "text/html": [
       "<div>\n",
       "<style scoped>\n",
       "    .dataframe tbody tr th:only-of-type {\n",
       "        vertical-align: middle;\n",
       "    }\n",
       "\n",
       "    .dataframe tbody tr th {\n",
       "        vertical-align: top;\n",
       "    }\n",
       "\n",
       "    .dataframe thead th {\n",
       "        text-align: right;\n",
       "    }\n",
       "</style>\n",
       "<table border=\"1\" class=\"dataframe\">\n",
       "  <thead>\n",
       "    <tr style=\"text-align: right;\">\n",
       "      <th></th>\n",
       "      <th>Date</th>\n",
       "      <th>USD</th>\n",
       "    </tr>\n",
       "  </thead>\n",
       "  <tbody>\n",
       "    <tr>\n",
       "      <th>0</th>\n",
       "      <td>02-01-2020</td>\n",
       "      <td>5.9507</td>\n",
       "    </tr>\n",
       "    <tr>\n",
       "      <th>1</th>\n",
       "      <td>03-01-2020</td>\n",
       "      <td>5.9585</td>\n",
       "    </tr>\n",
       "    <tr>\n",
       "      <th>2</th>\n",
       "      <td>06-01-2020</td>\n",
       "      <td>5.9734</td>\n",
       "    </tr>\n",
       "    <tr>\n",
       "      <th>3</th>\n",
       "      <td>07-01-2020</td>\n",
       "      <td>5.9766</td>\n",
       "    </tr>\n",
       "    <tr>\n",
       "      <th>4</th>\n",
       "      <td>08-01-2020</td>\n",
       "      <td>5.9701</td>\n",
       "    </tr>\n",
       "    <tr>\n",
       "      <th>...</th>\n",
       "      <td>...</td>\n",
       "      <td>...</td>\n",
       "    </tr>\n",
       "    <tr>\n",
       "      <th>861</th>\n",
       "      <td>06-06-2023</td>\n",
       "      <td>21.1846</td>\n",
       "    </tr>\n",
       "    <tr>\n",
       "      <th>862</th>\n",
       "      <td>07-06-2023</td>\n",
       "      <td>21.4952</td>\n",
       "    </tr>\n",
       "    <tr>\n",
       "      <th>863</th>\n",
       "      <td>08-06-2023</td>\n",
       "      <td>23.0625</td>\n",
       "    </tr>\n",
       "    <tr>\n",
       "      <th>864</th>\n",
       "      <td>09-06-2023</td>\n",
       "      <td>23.3632</td>\n",
       "    </tr>\n",
       "    <tr>\n",
       "      <th>865</th>\n",
       "      <td>12-06-2023</td>\n",
       "      <td>23.4736</td>\n",
       "    </tr>\n",
       "  </tbody>\n",
       "</table>\n",
       "<p>866 rows × 2 columns</p>\n",
       "</div>"
      ],
      "text/plain": [
       "           Date      USD\n",
       "0    02-01-2020   5.9507\n",
       "1    03-01-2020   5.9585\n",
       "2    06-01-2020   5.9734\n",
       "3    07-01-2020   5.9766\n",
       "4    08-01-2020   5.9701\n",
       "..          ...      ...\n",
       "861  06-06-2023  21.1846\n",
       "862  07-06-2023  21.4952\n",
       "863  08-06-2023  23.0625\n",
       "864  09-06-2023  23.3632\n",
       "865  12-06-2023  23.4736\n",
       "\n",
       "[866 rows x 2 columns]"
      ]
     },
     "execution_count": 28,
     "metadata": {},
     "output_type": "execute_result"
    }
   ],
   "source": [
    "df"
   ]
  },
  {
   "cell_type": "markdown",
   "id": "78c4adad",
   "metadata": {},
   "source": [
    "<a id=\"part_2\"></a>\n",
    "# <p style=\"background-color:#FF6961; font-family:newtimeroman;color:#FFF9ED; font-size:150%; text-align:center; border-radius: 15px 50px;\"> ✨ PART - 2 Data Preprocessing ✨</p>\n",
    "\n"
   ]
  },
  {
   "cell_type": "markdown",
   "id": "df18fc8c",
   "metadata": {},
   "source": [
    "<a id=\"part_2_1\"></a>\n",
    "# <p style=\"background-color:#3498DB; font-family:newtimeroman;color:#FFF9ED; font-size:150%; text-align:center; border-radius: 15px 50px;\"> ✨ Data Type Conversion ✨</p>"
   ]
  },
  {
   "cell_type": "markdown",
   "id": "d812b745",
   "metadata": {
    "id": "0Z0Z0zmZVJfS"
   },
   "source": [
    "<a href=\"#part_2\" class=\"btn btn-danger btn-lg active\" role=\"button\" aria-pressed=\"true\" style=\"color:white;\">Part - 2</a>\n",
    "<a href=\"#toc\" class=\"btn btn-warning btn-lg active\" role=\"button\" aria-pressed=\"true\" style=\"color:black;\">Content</a>"
   ]
  },
  {
   "cell_type": "code",
   "execution_count": 29,
   "id": "796e20d3",
   "metadata": {},
   "outputs": [
    {
     "name": "stdout",
     "output_type": "stream",
     "text": [
      "Date     object\n",
      "USD     float64\n",
      "dtype: object\n"
     ]
    }
   ],
   "source": [
    "print(df.dtypes)"
   ]
  },
  {
   "cell_type": "code",
   "execution_count": 30,
   "id": "761d13d5",
   "metadata": {},
   "outputs": [],
   "source": [
    "dates = []\n",
    "\n",
    "for i in df[\"Date\"]:\n",
    "    dates.append(datetime.strptime(i, \"%d-%m-%Y\"))"
   ]
  },
  {
   "cell_type": "code",
   "execution_count": 31,
   "id": "6dc57618",
   "metadata": {},
   "outputs": [],
   "source": [
    "df[\"Date\"] = dates"
   ]
  },
  {
   "cell_type": "code",
   "execution_count": 32,
   "id": "429dd9fc",
   "metadata": {},
   "outputs": [
    {
     "data": {
      "text/plain": [
       "0     2020-01-02\n",
       "1     2020-01-03\n",
       "2     2020-01-06\n",
       "3     2020-01-07\n",
       "4     2020-01-08\n",
       "         ...    \n",
       "861   2023-06-06\n",
       "862   2023-06-07\n",
       "863   2023-06-08\n",
       "864   2023-06-09\n",
       "865   2023-06-12\n",
       "Name: Date, Length: 866, dtype: datetime64[ns]"
      ]
     },
     "execution_count": 32,
     "metadata": {},
     "output_type": "execute_result"
    }
   ],
   "source": [
    "df[\"Date\"]"
   ]
  },
  {
   "cell_type": "code",
   "execution_count": 33,
   "id": "c683b973",
   "metadata": {},
   "outputs": [
    {
     "name": "stdout",
     "output_type": "stream",
     "text": [
      "Date    datetime64[ns]\n",
      "USD            float64\n",
      "dtype: object\n"
     ]
    }
   ],
   "source": [
    "print(df.dtypes)"
   ]
  },
  {
   "cell_type": "code",
   "execution_count": 35,
   "id": "b56d1595",
   "metadata": {},
   "outputs": [],
   "source": [
    "df.set_index(\"Date\", inplace = True)"
   ]
  },
  {
   "cell_type": "markdown",
   "id": "fac02e57",
   "metadata": {},
   "source": [
    "<a id=\"part_2_2\"></a>\n",
    "# <p style=\"background-color:#3498DB; font-family:newtimeroman;color:#FFF9ED; font-size:150%; text-align:center; border-radius: 15px 50px;\"> ✨ Sorting Date Data Type ✨</p>"
   ]
  },
  {
   "cell_type": "markdown",
   "id": "8062d4d3",
   "metadata": {
    "id": "0Z0Z0zmZVJfS"
   },
   "source": [
    "<a href=\"#part_2\" class=\"btn btn-danger btn-lg active\" role=\"button\" aria-pressed=\"true\" style=\"color:white;\">Part - 2</a>\n",
    "<a href=\"#toc\" class=\"btn btn-warning btn-lg active\" role=\"button\" aria-pressed=\"true\" style=\"color:black;\">Content</a>"
   ]
  },
  {
   "cell_type": "markdown",
   "id": "3741dd1b",
   "metadata": {},
   "source": [
    "<div style=\"background-color:#3498DB; padding:10px; border-radius: 10px; box-shadow: 2px 2px 4px rgba(0, 0, 0, 0.5);\">\n",
    "    <p style=\"font-weight: bold; color: white;\">Time series data is a sequence of data points collected or recorded at successive, evenly spaced points in time. However, the date column in the data may not always be ordered sequentially, and it is necessary to organize it properly.</p>\n",
    "</div>\n"
   ]
  },
  {
   "cell_type": "code",
   "execution_count": 36,
   "id": "b9b14010",
   "metadata": {},
   "outputs": [],
   "source": [
    "df.sort_index(inplace = True)"
   ]
  },
  {
   "cell_type": "code",
   "execution_count": 37,
   "id": "aac4b07e",
   "metadata": {},
   "outputs": [
    {
     "data": {
      "text/html": [
       "<div>\n",
       "<style scoped>\n",
       "    .dataframe tbody tr th:only-of-type {\n",
       "        vertical-align: middle;\n",
       "    }\n",
       "\n",
       "    .dataframe tbody tr th {\n",
       "        vertical-align: top;\n",
       "    }\n",
       "\n",
       "    .dataframe thead th {\n",
       "        text-align: right;\n",
       "    }\n",
       "</style>\n",
       "<table border=\"1\" class=\"dataframe\">\n",
       "  <thead>\n",
       "    <tr style=\"text-align: right;\">\n",
       "      <th></th>\n",
       "      <th>USD</th>\n",
       "    </tr>\n",
       "    <tr>\n",
       "      <th>Date</th>\n",
       "      <th></th>\n",
       "    </tr>\n",
       "  </thead>\n",
       "  <tbody>\n",
       "    <tr>\n",
       "      <th>2020-01-02</th>\n",
       "      <td>5.9507</td>\n",
       "    </tr>\n",
       "    <tr>\n",
       "      <th>2020-01-03</th>\n",
       "      <td>5.9585</td>\n",
       "    </tr>\n",
       "    <tr>\n",
       "      <th>2020-01-06</th>\n",
       "      <td>5.9734</td>\n",
       "    </tr>\n",
       "    <tr>\n",
       "      <th>2020-01-07</th>\n",
       "      <td>5.9766</td>\n",
       "    </tr>\n",
       "    <tr>\n",
       "      <th>2020-01-08</th>\n",
       "      <td>5.9701</td>\n",
       "    </tr>\n",
       "    <tr>\n",
       "      <th>...</th>\n",
       "      <td>...</td>\n",
       "    </tr>\n",
       "    <tr>\n",
       "      <th>2023-06-06</th>\n",
       "      <td>21.1846</td>\n",
       "    </tr>\n",
       "    <tr>\n",
       "      <th>2023-06-07</th>\n",
       "      <td>21.4952</td>\n",
       "    </tr>\n",
       "    <tr>\n",
       "      <th>2023-06-08</th>\n",
       "      <td>23.0625</td>\n",
       "    </tr>\n",
       "    <tr>\n",
       "      <th>2023-06-09</th>\n",
       "      <td>23.3632</td>\n",
       "    </tr>\n",
       "    <tr>\n",
       "      <th>2023-06-12</th>\n",
       "      <td>23.4736</td>\n",
       "    </tr>\n",
       "  </tbody>\n",
       "</table>\n",
       "<p>866 rows × 1 columns</p>\n",
       "</div>"
      ],
      "text/plain": [
       "                USD\n",
       "Date               \n",
       "2020-01-02   5.9507\n",
       "2020-01-03   5.9585\n",
       "2020-01-06   5.9734\n",
       "2020-01-07   5.9766\n",
       "2020-01-08   5.9701\n",
       "...             ...\n",
       "2023-06-06  21.1846\n",
       "2023-06-07  21.4952\n",
       "2023-06-08  23.0625\n",
       "2023-06-09  23.3632\n",
       "2023-06-12  23.4736\n",
       "\n",
       "[866 rows x 1 columns]"
      ]
     },
     "execution_count": 37,
     "metadata": {},
     "output_type": "execute_result"
    }
   ],
   "source": [
    "df"
   ]
  },
  {
   "cell_type": "markdown",
   "id": "bc7eb4dc",
   "metadata": {
    "id": "lq-UbgmWUHkh"
   },
   "source": [
    "<a id=\"summary\"></a>\n",
    "# <p style=\"background-color:#3498DB; font-family:newtimeroman;color:#FFF9ED; font-size:150%; text-align:center; border-radius: 15px 50px;\"> ✨ Summary ✨</p>"
   ]
  },
  {
   "cell_type": "markdown",
   "id": "b932661d",
   "metadata": {
    "id": "0Z0Z0zmZVJfS"
   },
   "source": [
    "<a href=\"#part_2\" class=\"btn btn-danger btn-lg active\" role=\"button\" aria-pressed=\"true\" style=\"color:white;\">Part - 2</a>\n",
    "<a href=\"#toc\" class=\"btn btn-warning btn-lg active\" role=\"button\" aria-pressed=\"true\" style=\"color:black;\">Content</a>"
   ]
  },
  {
   "cell_type": "markdown",
   "id": "53446327",
   "metadata": {},
   "source": [
    "<div style=\"background-color:#3498DB; padding:10px; border-radius: 10px; box-shadow: 2px 2px 4px rgba(0, 0, 0, 0.5);\">\n",
    "    <p style=\"font-weight: bold; color: white;\">This document contains two sections covering essential aspects of data preprocessing:</p>\n",
    "</div>\n",
    "\n",
    "#### [Part 1: Reading & Understanding Data](#part_1)\n",
    "This section covers the basics of importing libraries and data. Key topics include:\n",
    "- Importing Libraries Needed in This Notebook\n",
    "- Importing Data\n",
    "\n",
    "#### [Part 2: Data Preprocessing](#part_2)\n",
    "This section delves into data preprocessing techniques. Key topics include:\n",
    "- Data Type Conversion\n",
    "- Sorting Date Data Type\n",
    "\n",
    "\n",
    "<div style=\"background-color:#3498DB; padding:10px; border-radius: 10px; box-shadow: 2px 2px 4px rgba(0, 0, 0, 0.5);\">\n",
    "    <p style=\"color: white;\">Time series data is a sequence of data points collected or recorded at successive, evenly spaced points in time. However, the date column in the data may not always be ordered sequentially, and it is necessary to organize it properly.</p>\n",
    "</div>\n"
   ]
  },
  {
   "cell_type": "markdown",
   "id": "bea548f3",
   "metadata": {
    "id": "eF9tS6Y7RvDK"
   },
   "source": [
    "<h3 style=\"text-align:center;font-size:200%;\">Progress Bars</h3>\n",
    "<div class=\"progress\">\n",
    "  <div class=\"progress-bar bg-danger\" role=\"progressbar\" style=\"width: 100%;\" aria-valuenow=\"100\" aria-valuemin=\"100\" aria-valuemax=\"100\">100%</div>\n",
    "</div>\n",
    "\n"
   ]
  },
  {
   "cell_type": "markdown",
   "id": "5bee9814",
   "metadata": {},
   "source": [
    "<a id=\"the_end\"></a>\n",
    "# <p style=\"background-color:#FF6961; font-family:newtimeroman;color:#FFF9ED; font-size:150%; text-align:center; border-radius: 15px 50px;\"> ✨ THE END ✨</p>\n",
    "\n"
   ]
  },
  {
   "cell_type": "markdown",
   "id": "98c76a7c",
   "metadata": {},
   "source": [
    "<a href=\"#part_1\" class=\"btn btn-danger btn-lg active\" role=\"button\" aria-pressed=\"true\" style=\"color:white;\">Part - 1</a>\n",
    "<a href=\"#part_12\" class=\"btn btn-danger btn-lg active\" role=\"button\" aria-pressed=\"true\" style=\"color:white;\">Part - 2</a>\n",
    "<a href=\"#toc\" class=\"btn btn-warning btn-lg active\" role=\"button\" aria-pressed=\"true\" style=\"color:black;\">Content</a>"
   ]
  },
  {
   "cell_type": "markdown",
   "id": "cfcf3c2c",
   "metadata": {},
   "source": [
    "<h6><span class=\"label label-danger\">Attention</span>You can access the entire study through the following links. Good luck with your work. </h6>"
   ]
  },
  {
   "cell_type": "markdown",
   "id": "25cef6f5",
   "metadata": {
    "id": "M-0g5b4bTppZ"
   },
   "source": [
    "<ul class=\"nav flex-column\">\n",
    "  <h3 class=\"list-group-item list-group-item-action active\" data-toggle=\"list\" role=\"tab\" aria-controls=\"home\" style=\"background-color:#FF6961; color:white\"><b> Data Preprocessing in Time Series Analysis - 1\n",
    " </b></h3>\n",
    "  <li class=\"nav-item\">\n",
    "    <a class=\"nav-link\" style=\"background-color:; color:red\" href=\"https://github.com/huseyincenik/data_science/tree/main/time_series_analysis/data_preprocessing_1\"><b>Github Notebook Link</b></a>\n",
    "  </li>\n",
    "    <li class=\"nav-item\">\n",
    "    <a class=\"nav-link\" style=\"background-color:; color:blue\" href=\"https://www.kaggle.com/code/huseyincenik/data-preprocessing-in-time-series-analysis-1\"><b>Kaggle Notebook Link</b></a>\n",
    "  </li>  \n",
    "  <li class=\"nav-item\">\n",
    "    <a class=\"nav-link\" style=\"background-color:; color:green\" href=\"https://www.linkedin.com/in/huseyincenik/\"><b>My Linkedin Account</b></a>\n",
    "  </li>\n",
    "</ul>\n"
   ]
  }
 ],
 "metadata": {
  "kernelspec": {
   "display_name": "Python 3 (ipykernel)",
   "language": "python",
   "name": "python3"
  },
  "language_info": {
   "codemirror_mode": {
    "name": "ipython",
    "version": 3
   },
   "file_extension": ".py",
   "mimetype": "text/x-python",
   "name": "python",
   "nbconvert_exporter": "python",
   "pygments_lexer": "ipython3",
   "version": "3.10.8"
  }
 },
 "nbformat": 4,
 "nbformat_minor": 5
}
