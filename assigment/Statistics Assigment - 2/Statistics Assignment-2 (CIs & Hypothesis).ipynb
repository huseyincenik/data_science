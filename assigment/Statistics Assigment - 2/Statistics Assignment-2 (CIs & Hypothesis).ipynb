{
 "cells": [
  {
   "cell_type": "markdown",
   "id": "0bfed95e",
   "metadata": {},
   "source": [
    "<ul class=\"nav flex-column\">\n",
    "<div style=\"background-image: linear-gradient(to right, red, green); padding: 10px; border-radius: 5px;\">\n",
    "    <p style=\"color: white;\"><b>Statistics ( CIs & Hypothesis )</b></p>\n",
    "</div>\n",
    "  <li class=\"nav-item\">\n",
    "    <a class=\"nav-link active\" style=\"background-color:; color:Blue\" href=\"https://github.com/huseyincenik/data_science/tree/main/assigment/Statistics%20Assigment%20-%202\" role=\"tab\"><b>Github Notebook Link</b></a>\n",
    "  </li>\n",
    "    <li class=\"nav-item\">\n",
    "    <a class=\"nav-link\" style=\"background-color:; color:orange\" href=\"https://www.kaggle.com/huseyincenik\"><b>My Kaggle Account</b></a>\n",
    "  </li>  \n",
    "  <li class=\"nav-item\">\n",
    "    <a class=\"nav-link\" style=\"background-color:; color:green\" href=\"https://www.linkedin.com/in/huseyincenik/\"><b>My Linkedin Account</b></a>\n",
    "  </li>\n",
    "</ul>\n"
   ]
  },
  {
   "cell_type": "code",
   "execution_count": 1,
   "id": "2faad589",
   "metadata": {},
   "outputs": [],
   "source": [
    "import numpy as np\n",
    "import pandas as pd\n",
    "from scipy import stats\n",
    "import matplotlib.pyplot as plt\n",
    "import seaborn as sns\n",
    "# import scipy.stats as stats\n",
    "from math import sqrt"
   ]
  },
  {
   "cell_type": "markdown",
   "id": "64981cc7",
   "metadata": {},
   "source": [
    "<a id=\"toc\"></a>\n",
    "\n",
    "<div class=\"list-group\" id=\"list-tab\" role=\"tablist\">\n",
    "    \n",
    "  <h3 class=\"list-group-item list-group-item-action active\" data-toggle=\"list\" role=\"tab\" aria-controls=\"home\" style=\"background-color: #FF6961; color: #fff; font-weight: bold; padding: 10px; border-radius: 5px; box-shadow: 0 2px 4px rgba(0, 0, 0, 0.1);\"><span style=\"font-size: 20px;\">Confidence Intervals Using the Normal Distribution</span></h3>\n",
    "    \n",
    "  <a class=\"list-group-item list-group-item-action\" data-toggle=\"list\" href=\"#exercise1\" role=\"tab\" aria-controls=\"profile\" style=\"border: 1px solid #ddd; border-radius: 5px; padding: 10px;\"><span style=\"font-weight: bold; font-style: italic; font-size: 16px; color: orange;\">Exercise 1</span><span style=\"float: right; border: 1px solid #ddd; border-radius: 50%; padding: 5px; background-color: #FF6961; color: #fff; font-weight: bold; font-size: 12px; margin-left: 10px;\">1</span></a>\n",
    "  <a class=\"list-group-item list-group-item-action\" data-toggle=\"list\" href=\"#exercise2\" role=\"tab\" aria-controls=\"messages\" style=\"border: 1px solid #ddd; border-radius: 5px; padding: 10px;\"><span style=\"font-weight: bold; font-style: italic; font-size: 16px; color: orange;\">Exercise 2</span><span style=\"float: right; border: 1px solid #ddd; border-radius: 50%; padding: 5px; background-color: #FF6961; color: #fff; font-weight: bold; font-size: 12px; margin-left: 10px;\">2</span></a>\n",
    "  <h3 class=\"list-group-item list-group-item-action\" data-toggle=\"list\"  role=\"tab\" aria-controls=\"home\" style=\"background-color: #5cb85c; color: #fff; font-weight: bold; padding: 10px; border-radius: 5px; box-shadow: 0 2px 4px rgba(0, 0, 0, 0.1);\"><span style=\"font-size: 20px;\">HYPOTHESIS TESTING</span></h3>\n",
    "  <a class=\"list-group-item list-group-item-action\" data-toggle=\"list\" href=\"#exercise3\" role=\"tab\" aria-controls=\"settings\" style=\"border: 1px solid #ddd; border-radius: 5px; padding: 10px;\"><span style=\"font-weight: bold; font-style: italic; font-size: 16px; color:blue;\">Exercise 3</span><span style=\"float: right; border: 1px solid #ddd; border-radius: 50%; padding: 5px; background-color: #5cb85c; color: #fff; font-weight: bold; font-size: 12px; margin-left: 10px;\">3</span></a>\n",
    "  <a class=\"list-group-item list-group-item-action\" data-toggle=\"list\" href=\"#exercise4\" role=\"tab\" aria-controls=\"settings\" style=\"border: 1px solid #ddd; border-radius: 5px; padding: 10px;\"><span style=\"font-weight: bold; font-style: italic; font-size: 16px; color:blue;\">Exercise 4</span><span style=\"float: right; border: 1px solid #ddd; border-radius: 50%; padding: 5px; background-color: #5cb85c; color: #fff; font-weight: bold; font-size: 12px; margin-left: 10px;\">4</span></a>\n",
    "  <a class=\"list-group-item list-group-item-action\" data-toggle=\"list\" href=\"#exercise5\" role=\"tab\" aria-controls=\"settings\" style=\"border: 1px solid #ddd; border-radius: 5px; padding: 10px;\"><span style=\"font-weight: bold; font-style: italic; font-size: 16px; color:blue;\">Exercise 5</span><span style=\"float: right; border: 1px solid #ddd; border-radius: 50%; padding: 5px; background-color: #5cb85c; color: #fff; font-weight: bold; font-size: 12px; margin-left: 10px;\">5</span></a>\n",
    "</div>\n"
   ]
  },
  {
   "cell_type": "code",
   "execution_count": 2,
   "id": "4ff08e7a",
   "metadata": {
    "scrolled": true
   },
   "outputs": [
    {
     "name": "stdout",
     "output_type": "stream",
     "text": [
      "numpy version: 1.23.5\n",
      "pandas version: 1.5.3\n",
      "scipy version: 1.10.0\n",
      "matplotlib version: 3.7.1\n",
      "seaborn version: 0.12.2\n"
     ]
    }
   ],
   "source": [
    "import numpy as np\n",
    "import pandas as pd\n",
    "import scipy\n",
    "import matplotlib\n",
    "import seaborn as sns\n",
    "print(\"numpy version:\", np.__version__)\n",
    "print(\"pandas version:\", pd.__version__)\n",
    "print(\"scipy version:\", scipy.__version__)\n",
    "print(\"matplotlib version:\", matplotlib.__version__)\n",
    "print(\"seaborn version:\", sns.__version__)\n"
   ]
  },
  {
   "cell_type": "markdown",
   "id": "5fefddcf",
   "metadata": {},
   "source": [
    "<a id=\"confidence_interval\"></a>\n",
    "<h3 class=\"list-group-item list-group-item-action active\" data-toggle=\"list\" role=\"tab\" aria-controls=\"home\" style=\"background-color: #FF6961; color: #fff; font-weight: bold; padding: 10px; border-radius: 5px; box-shadow: 0 2px 4px rgba(0, 0, 0, 0.1);\">\n",
    "  <span style=\"font-size: 20px;\">Confidence Intervals Using the Normal Distribution</span>\n",
    "</h3>\n"
   ]
  },
  {
   "cell_type": "markdown",
   "id": "7f5d24cd",
   "metadata": {},
   "source": [
    "<a id=\"exercise1\"></a>\n",
    "<h3 class=\"list-group-item list-group-item-action\" data-toggle=\"list\" href=\"#exercise1\" role=\"tab\" aria-controls=\"profile\" style=\"background-color: #FFA500; color: #fff; font-weight: bold; padding: 10px; border: 1px solid #ddd; border-radius: 5px;\">\n",
    "  <span style=\"font-weight: bold; font-style: italic; font-size: 16px;\">Exercise 1</span>\n",
    "</h3>\n"
   ]
  },
  {
   "cell_type": "markdown",
   "id": "7fddf7c1",
   "metadata": {},
   "source": [
    "<a href=\"#toc\" class=\"btn btn-warning btn-lg active\" role=\"button\" aria-pressed=\"true\" style=\"background-color: black; color: white;\">Content</a>\n"
   ]
  },
  {
   "cell_type": "markdown",
   "id": "b026acb8",
   "metadata": {},
   "source": [
    "<font color=\"blue\">What is the normal body temperature for healthy humans? A random sample of 130 healthy human body temperatures provided by Allen Shoemaker yielded 98.25 degrees and standard deviation 0.73 degrees. </font>\n",
    "\n",
    "<font color=\"green\">Give a <b>99%</b> confidence interval for the average body temperature of healthy people.</font>\n"
   ]
  },
  {
   "cell_type": "markdown",
   "id": "7a04f4dd",
   "metadata": {
    "id": "It_UKddsNpvp"
   },
   "source": [
    "<span style=\"background-color:white; color: red; font-weight: bold; padding: 5px;\">Calculate mean and std</span>"
   ]
  },
  {
   "cell_type": "code",
   "execution_count": 3,
   "id": "022a1127",
   "metadata": {},
   "outputs": [],
   "source": [
    "sample_size = 130\n",
    "sample_mean = 98.25\n",
    "sample_std = 0.73"
   ]
  },
  {
   "cell_type": "markdown",
   "id": "00b5de9d",
   "metadata": {},
   "source": [
    "<img src=\"https://www.questionpro.com/blog/wp-content/uploads/2022/08/confidence-interval-formula.jpg\" alt=\"Confidence Interval\">\n"
   ]
  },
  {
   "cell_type": "markdown",
   "id": "c852c343",
   "metadata": {
    "id": "EVXqfpUCNpvq"
   },
   "source": [
    "<span style=\"background-color:white; color: red; font-weight: bold; padding: 5px;\">Calculate standard error of the mean (sem)</span>\n",
    "\n",
    "**[What Is the Standard Error of the Mean (SEM)?](https://www.indeed.com/career-advice/career-development/standard-error-mean)**\n",
    "\n",
    "**[Standard Error of the Mean (SEM)](https://statisticsbyjim.com/hypothesis-testing/standard-error-mean/)**\n",
    "\n",
    "<img src=https://i.ibb.co/WgqgQmh/sd.png width=\"350\" height=\"200\">"
   ]
  },
  {
   "cell_type": "code",
   "execution_count": 4,
   "id": "c4c32447",
   "metadata": {},
   "outputs": [
    {
     "data": {
      "text/plain": [
       "0.06402523540941313"
      ]
     },
     "execution_count": 4,
     "metadata": {},
     "output_type": "execute_result"
    }
   ],
   "source": [
    "sem = sample_std / np.sqrt(sample_size)\n",
    "sem"
   ]
  },
  {
   "cell_type": "markdown",
   "id": "5e6f409c",
   "metadata": {
    "id": "aoHcknuvNpvr"
   },
   "source": [
    "\n",
    "<span style=\"background-color:white; color: red; font-weight: bold; padding: 5px;\">Calculate the margin of error (99%)</span>"
   ]
  },
  {
   "cell_type": "code",
   "execution_count": 5,
   "id": "a66576fd",
   "metadata": {
    "scrolled": true
   },
   "outputs": [
    {
     "data": {
      "text/plain": [
       "0.1648649811792388"
      ]
     },
     "execution_count": 5,
     "metadata": {},
     "output_type": "execute_result"
    }
   ],
   "source": [
    "# z - score : 2.575 for 99% confidence level\n",
    "\n",
    "moe = 2.575 * sem\n",
    "moe"
   ]
  },
  {
   "cell_type": "markdown",
   "id": "ad5a7585",
   "metadata": {
    "id": "DuDelLV0Npvr"
   },
   "source": [
    "<span style=\"background-color:white; color: red; font-weight: bold; padding: 5px;\">Calculate the upper confidence limit</span>\n",
    "\n",
    "<img src=https://i.ibb.co/rpzg7MM/ci.png width=\"450\" height=\"200\">\n",
    "\n",
    "<img src=https://i.ibb.co/tpfSzrY/ci1.png width=\"450\" height=\"200\">"
   ]
  },
  {
   "cell_type": "code",
   "execution_count": 6,
   "id": "28f40c23",
   "metadata": {},
   "outputs": [
    {
     "data": {
      "text/plain": [
       "98.41486498117924"
      ]
     },
     "execution_count": 6,
     "metadata": {},
     "output_type": "execute_result"
    }
   ],
   "source": [
    "upper_lim = sample_mean + moe\n",
    "upper_lim"
   ]
  },
  {
   "cell_type": "markdown",
   "id": "0e75be1e",
   "metadata": {
    "id": "MskhlyA7Npvr"
   },
   "source": [
    "<span style=\"background-color:white; color: red; font-weight: bold; padding: 5px;\">Calculate the lower confidence limit</span>"
   ]
  },
  {
   "cell_type": "code",
   "execution_count": 7,
   "id": "3301a9ad",
   "metadata": {},
   "outputs": [
    {
     "data": {
      "text/plain": [
       "98.08513501882076"
      ]
     },
     "execution_count": 7,
     "metadata": {},
     "output_type": "execute_result"
    }
   ],
   "source": [
    "lower_lim = sample_mean - moe\n",
    "lower_lim"
   ]
  },
  {
   "cell_type": "markdown",
   "id": "5f8df3fc",
   "metadata": {
    "id": "FrtFK_sANpvs"
   },
   "source": [
    "<span style=\"background-color:white; color: red; font-weight: bold; padding: 5px;\">Calculate 99% Confidence Interval around the mean by using scipy.stats.</span>"
   ]
  },
  {
   "cell_type": "markdown",
   "id": "206e62f6",
   "metadata": {
    "id": "dNZVOT4aNpvn"
   },
   "source": [
    "If we’re working with larger samples (n≥30), we can assume that the sampling distribution of the sample mean is normally distributed (thanks to the Central Limit Theorem) and we can use the **``norm.interval()``** function from the scipy.stats library.\n",
    "\n",
    "**[Statistical Tests in Scipy Library](https://docs.scipy.org/doc/scipy/reference/stats.html#statistical-tests)**"
   ]
  },
  {
   "cell_type": "code",
   "execution_count": 8,
   "id": "61afb133",
   "metadata": {
    "id": "55E536JI4N3z"
   },
   "outputs": [],
   "source": [
    "#help(stats.norm.interval)"
   ]
  },
  {
   "cell_type": "code",
   "execution_count": 9,
   "id": "9db32b7a",
   "metadata": {
    "colab": {
     "base_uri": "https://localhost:8080/"
    },
    "executionInfo": {
     "elapsed": 5,
     "status": "ok",
     "timestamp": 1687511781074,
     "user": {
      "displayName": "Richard Thames",
      "userId": "00258987493291873022"
     },
     "user_tz": -180
    },
    "id": "F9ZXK8V5Npvs",
    "outputId": "46ada6e2-0177-4e5f-da47-71119856be1b"
   },
   "outputs": [
    {
     "data": {
      "text/plain": [
       "(98.08508192246582, 98.41491807753418)"
      ]
     },
     "execution_count": 9,
     "metadata": {},
     "output_type": "execute_result"
    }
   ],
   "source": [
    "ci_z = stats.norm.interval(0.99, sample_mean, sem)\n",
    "ci_z"
   ]
  },
  {
   "cell_type": "markdown",
   "id": "a0da716c",
   "metadata": {},
   "source": [
    "<a id=\"exercise2\"></a>\n",
    "<h3 class=\"list-group-item list-group-item-action\" data-toggle=\"list\" href=\"#exercise1\" role=\"tab\" aria-controls=\"profile\" style=\"background-color: #FFA500; color: #fff; font-weight: bold; padding: 10px; border: 1px solid #ddd; border-radius: 5px;\">\n",
    "  <span style=\"font-weight: bold; font-style: italic; font-size: 16px;\">Exercise 2</span>\n",
    "</h3>\n"
   ]
  },
  {
   "cell_type": "markdown",
   "id": "87c0e122",
   "metadata": {},
   "source": [
    "<a href=\"#toc\" class=\"btn btn-warning btn-lg active\" role=\"button\" aria-pressed=\"true\" style=\"background-color: black; color: white;\">Content</a>\n"
   ]
  },
  {
   "cell_type": "markdown",
   "id": "be6b042f",
   "metadata": {},
   "source": [
    "<font color=\"blue\">The administrators for a hospital wished to estimate the average number of days required for inpatient treatment of patients between the ages of 25 and 34. A random sample of 500 hospital patients between these ages produced a mean and standard deviation equal to 5.4 and 3.1 days, respectively.</font>\n",
    "\n",
    "<font color=\"green\"><b>Construct a 95% confidence interval</b> for the mean length of stay for the population of patients from which the sample was drawn.</font>"
   ]
  },
  {
   "cell_type": "markdown",
   "id": "13020c39",
   "metadata": {},
   "source": [
    "<span style=\"background-color:white; color: red; font-weight: bold; padding: 5px;\">Calculate mean and std</span>"
   ]
  },
  {
   "cell_type": "code",
   "execution_count": 10,
   "id": "232fa625",
   "metadata": {},
   "outputs": [],
   "source": [
    "sample_size = 500\n",
    "sample_mean = 5.4\n",
    "sample_std = 3.1"
   ]
  },
  {
   "cell_type": "markdown",
   "id": "6949a7e4",
   "metadata": {},
   "source": [
    "<img src=\"https://www.questionpro.com/blog/wp-content/uploads/2022/08/confidence-interval-formula.jpg\" alt=\"Confidence Interval\">\n"
   ]
  },
  {
   "cell_type": "markdown",
   "id": "c331ee96",
   "metadata": {
    "id": "EVXqfpUCNpvq"
   },
   "source": [
    "<span style=\"background-color:white; color: red; font-weight: bold; padding: 5px;\">Calculate standard error of the mean (sem)</span>\n",
    "\n",
    "**[What Is the Standard Error of the Mean (SEM)?](https://www.indeed.com/career-advice/career-development/standard-error-mean)**\n",
    "\n",
    "**[Standard Error of the Mean (SEM)](https://statisticsbyjim.com/hypothesis-testing/standard-error-mean/)**\n",
    "\n",
    "<img src=https://i.ibb.co/WgqgQmh/sd.png width=\"350\" height=\"200\">"
   ]
  },
  {
   "cell_type": "code",
   "execution_count": 11,
   "id": "9ff5eec7",
   "metadata": {},
   "outputs": [
    {
     "data": {
      "text/plain": [
       "0.13863621460498696"
      ]
     },
     "execution_count": 11,
     "metadata": {},
     "output_type": "execute_result"
    }
   ],
   "source": [
    "sem = sample_std / np.sqrt(sample_size)\n",
    "sem"
   ]
  },
  {
   "cell_type": "markdown",
   "id": "399aa0b7",
   "metadata": {
    "id": "aoHcknuvNpvr"
   },
   "source": [
    "<span style=\"background-color:white; color: red; font-weight: bold; padding: 5px;\">Calculate the margin of error (95%)</span>"
   ]
  },
  {
   "cell_type": "code",
   "execution_count": 12,
   "id": "d5aeef35",
   "metadata": {
    "scrolled": true
   },
   "outputs": [
    {
     "data": {
      "text/plain": [
       "0.27172698062577444"
      ]
     },
     "execution_count": 12,
     "metadata": {},
     "output_type": "execute_result"
    }
   ],
   "source": [
    "# z - score : 1.96 for 95% confidence level\n",
    "\n",
    "moe = 1.96 * sem\n",
    "moe"
   ]
  },
  {
   "cell_type": "markdown",
   "id": "e3303ee9",
   "metadata": {
    "id": "DuDelLV0Npvr"
   },
   "source": [
    "<span style=\"background-color:white; color: red; font-weight: bold; padding: 5px;\">Calculate the upper confidence limit</span>\n",
    "<img src=https://i.ibb.co/rpzg7MM/ci.png width=\"450\" height=\"200\">\n",
    "\n",
    "<img src=https://i.ibb.co/tpfSzrY/ci1.png width=\"450\" height=\"200\">"
   ]
  },
  {
   "cell_type": "code",
   "execution_count": 13,
   "id": "324c99d2",
   "metadata": {},
   "outputs": [
    {
     "data": {
      "text/plain": [
       "5.671726980625775"
      ]
     },
     "execution_count": 13,
     "metadata": {},
     "output_type": "execute_result"
    }
   ],
   "source": [
    "upper_lim = sample_mean + moe\n",
    "upper_lim"
   ]
  },
  {
   "cell_type": "markdown",
   "id": "b7bb1fbd",
   "metadata": {
    "id": "MskhlyA7Npvr"
   },
   "source": [
    "<span style=\"background-color:white; color: red; font-weight: bold; padding: 5px;\">Calculate the lower confidence limit</span>"
   ]
  },
  {
   "cell_type": "code",
   "execution_count": 14,
   "id": "ce56dc60",
   "metadata": {},
   "outputs": [
    {
     "data": {
      "text/plain": [
       "5.128273019374226"
      ]
     },
     "execution_count": 14,
     "metadata": {},
     "output_type": "execute_result"
    }
   ],
   "source": [
    "lower_lim = sample_mean - moe\n",
    "lower_lim"
   ]
  },
  {
   "cell_type": "markdown",
   "id": "34dd7d27",
   "metadata": {
    "id": "FrtFK_sANpvs"
   },
   "source": [
    "<span style=\"background-color:white; color: red; font-weight: bold; padding: 5px;\">Calculate 95% Confidence Interval around the mean by using scipy.stats.</span>"
   ]
  },
  {
   "cell_type": "markdown",
   "id": "1a354768",
   "metadata": {
    "id": "dNZVOT4aNpvn"
   },
   "source": [
    "If we’re working with larger samples (n≥30), we can assume that the sampling distribution of the sample mean is normally distributed (thanks to the Central Limit Theorem) and we can use the **``norm.interval()``** function from the scipy.stats library.\n",
    "\n",
    "**[Statistical Tests in Scipy Library](https://docs.scipy.org/doc/scipy/reference/stats.html#statistical-tests)**"
   ]
  },
  {
   "cell_type": "code",
   "execution_count": 15,
   "id": "3e11141f",
   "metadata": {
    "id": "55E536JI4N3z"
   },
   "outputs": [],
   "source": [
    "#help(stats.norm.interval)"
   ]
  },
  {
   "cell_type": "code",
   "execution_count": 16,
   "id": "5497da68",
   "metadata": {
    "colab": {
     "base_uri": "https://localhost:8080/"
    },
    "executionInfo": {
     "elapsed": 5,
     "status": "ok",
     "timestamp": 1687511781074,
     "user": {
      "displayName": "Richard Thames",
      "userId": "00258987493291873022"
     },
     "user_tz": -180
    },
    "id": "F9ZXK8V5Npvs",
    "outputId": "46ada6e2-0177-4e5f-da47-71119856be1b"
   },
   "outputs": [
    {
     "data": {
      "text/plain": [
       "(5.12827801242126, 5.67172198757874)"
      ]
     },
     "execution_count": 16,
     "metadata": {},
     "output_type": "execute_result"
    }
   ],
   "source": [
    "ci_z = stats.norm.interval(0.95, sample_mean, sem)\n",
    "ci_z"
   ]
  },
  {
   "cell_type": "markdown",
   "id": "3587c73e",
   "metadata": {
    "id": "Fq44qMhMNpvn"
   },
   "source": [
    "  <h3 class=\"list-group-item list-group-item-action\" data-toggle=\"list\"  role=\"tab\" aria-controls=\"home\" style=\"background-color: #5cb85c; color: #fff; font-weight: bold; padding: 10px; border-radius: 5px; box-shadow: 0 2px 4px rgba(0, 0, 0, 0.1);\"><span style=\"font-size: 20px;\">HYPOTHESIS TESTING</span></h3>"
   ]
  },
  {
   "cell_type": "markdown",
   "id": "bc9d42e7",
   "metadata": {},
   "source": [
    "<a href=\"#toc\" class=\"btn btn-warning btn-lg active\" role=\"button\" aria-pressed=\"true\" style=\"background-color: black; color: white;\">Content</a>\n"
   ]
  },
  {
   "cell_type": "markdown",
   "id": "daa47f83",
   "metadata": {},
   "source": [
    "<a id=\"exercise3\"></a>\n",
    "<h3 class=\"list-group-item list-group-item-action\" data-toggle=\"list\" href=\"#exercise1\" role=\"tab\" aria-controls=\"profile\" style=\"background-color: blue; color: #fff; font-weight: bold; padding: 10px; border: 1px solid #ddd; border-radius: 5px;\">\n",
    "  <span style=\"font-weight: bold; font-style: italic; font-size: 16px;\">Exercise 3</span>\n",
    "</h3>"
   ]
  },
  {
   "cell_type": "markdown",
   "id": "9fa00205",
   "metadata": {},
   "source": [
    "<span style=\"color:blue;font-weight:bold\">The hourly wages</span> in a particular industry are normally distributed with mean <strong>&#36;13.20</strong> and standard deviation <strong>&#36;2.50</strong>. A company in this industry employs <strong>40 workers</strong>, paying them an average of <strong>&#36;12.20 per hour</strong>. Can this company be accused of paying substandard wages? Use an α = <strong>.01 level</strong> test. (Wackerly, Ex.10.18)\n",
    "<p style=\"color:green\">CHECK: statistic: -2.5298221281347035, pvalue= 0.005706018193000826</p>"
   ]
  },
  {
   "cell_type": "code",
   "execution_count": 17,
   "id": "07f32ea6",
   "metadata": {},
   "outputs": [],
   "source": [
    "x_bar = 12.20 # sample mean\n",
    "n = 40 # number of samples\n",
    "sigma = 2.50 # std of population\n",
    "mu = 13.20 # Population mean"
   ]
  },
  {
   "cell_type": "code",
   "execution_count": 18,
   "id": "8d6a764e",
   "metadata": {},
   "outputs": [],
   "source": [
    "# Ho : mu = 13.20\n",
    "# Ha : mu < 13.20"
   ]
  },
  {
   "cell_type": "markdown",
   "id": "ac0f7fb4",
   "metadata": {
    "id": "l62qBl7N2lmU"
   },
   "source": [
    "<span style=\"background-color: white; color: #5cb85c; font-weight: bold; padding: 5px;\">Calculate the test statistic</span>"
   ]
  },
  {
   "cell_type": "code",
   "execution_count": 19,
   "id": "9994ff7a",
   "metadata": {},
   "outputs": [
    {
     "data": {
      "text/plain": [
       "-2.5298221281347035"
      ]
     },
     "execution_count": 19,
     "metadata": {},
     "output_type": "execute_result"
    }
   ],
   "source": [
    "z = (x_bar - mu) / (sigma/sqrt(n))\n",
    "z"
   ]
  },
  {
   "cell_type": "markdown",
   "id": "af6cb949",
   "metadata": {
    "id": "WepdGOFB2lmV"
   },
   "source": [
    "<span style=\"background-color: white; color: #5cb85c; font-weight: bold; padding: 5px;\">Calculate the p-value</span>"
   ]
  },
  {
   "cell_type": "code",
   "execution_count": 20,
   "id": "c1928029",
   "metadata": {},
   "outputs": [
    {
     "data": {
      "text/plain": [
       "0.005706018193000872"
      ]
     },
     "execution_count": 20,
     "metadata": {},
     "output_type": "execute_result"
    }
   ],
   "source": [
    "p_value = 1 - stats.norm.cdf(-z)\n",
    "p_value"
   ]
  },
  {
   "cell_type": "code",
   "execution_count": 21,
   "id": "3029503e",
   "metadata": {},
   "outputs": [
    {
     "name": "stdout",
     "output_type": "stream",
     "text": [
      "At 0.01 level of significance, we can reject the null hypothesis in favor of alternative hypothesis.\n"
     ]
    }
   ],
   "source": [
    "alpha = 0.01\n",
    "\n",
    "if p_value<alpha:\n",
    "    print('At {} level of significance, we can reject the null hypothesis in favor of alternative hypothesis.'.format(alpha))\n",
    "else:\n",
    "    print('At {} level of significance, we fail to reject the null hypothesis.'.format(alpha))"
   ]
  },
  {
   "cell_type": "markdown",
   "id": "a64a5ab8",
   "metadata": {},
   "source": [
    "<a id=\"exercise4\"></a>\n",
    "<h3 class=\"list-group-item list-group-item-action\" data-toggle=\"list\" href=\"#exercise1\" role=\"tab\" aria-controls=\"profile\" style=\"background-color: blue; color: #fff; font-weight: bold; padding: 10px; border: 1px solid #ddd; border-radius: 5px;\">\n",
    "  <span style=\"font-weight: bold; font-style: italic; font-size: 16px;\">Exercise 4</span>\n",
    "</h3>"
   ]
  },
  {
   "cell_type": "markdown",
   "id": "336ec56f",
   "metadata": {},
   "source": [
    "<a href=\"#toc\" class=\"btn btn-warning btn-lg active\" role=\"button\" aria-pressed=\"true\" style=\"background-color: black; color: white;\">Content</a>\n"
   ]
  },
  {
   "cell_type": "markdown",
   "id": "2b5b0894",
   "metadata": {},
   "source": [
    "<span style=\"color:blue;font-weight:bold\">Shear strength measurements</span> derived from unconfined compression tests for two types of soils gave the results shown in the following document (measurements in tons per square foot). Do the soils appear to differ with respect to average shear strength, at the <strong>1%</strong> significance level?\n",
    "\n",
    "<a href=\"https://docs.google.com/spreadsheets/d/1f2odmgDboIVuSV-A5gmuC25ppqQ5g1OIIF4h5EOqUcI/edit#gid=0\">Results for two types of soils</a>\n",
    "\n",
    "CHECK: statistic: <strong>5.1681473319343345</strong>, pvalue= <strong>2.593228732352821e-06</strong>"
   ]
  },
  {
   "cell_type": "code",
   "execution_count": 22,
   "id": "a4be9bbb",
   "metadata": {},
   "outputs": [
    {
     "data": {
      "text/html": [
       "<div>\n",
       "<style scoped>\n",
       "    .dataframe tbody tr th:only-of-type {\n",
       "        vertical-align: middle;\n",
       "    }\n",
       "\n",
       "    .dataframe tbody tr th {\n",
       "        vertical-align: top;\n",
       "    }\n",
       "\n",
       "    .dataframe thead th {\n",
       "        text-align: right;\n",
       "    }\n",
       "</style>\n",
       "<table border=\"1\" class=\"dataframe\">\n",
       "  <thead>\n",
       "    <tr style=\"text-align: right;\">\n",
       "      <th></th>\n",
       "      <th>Soil1</th>\n",
       "      <th>Soil2</th>\n",
       "    </tr>\n",
       "  </thead>\n",
       "  <tbody>\n",
       "    <tr>\n",
       "      <th>0</th>\n",
       "      <td>1.442</td>\n",
       "      <td>1.364</td>\n",
       "    </tr>\n",
       "    <tr>\n",
       "      <th>1</th>\n",
       "      <td>1.943</td>\n",
       "      <td>1.878</td>\n",
       "    </tr>\n",
       "    <tr>\n",
       "      <th>2</th>\n",
       "      <td>1.110</td>\n",
       "      <td>1.337</td>\n",
       "    </tr>\n",
       "    <tr>\n",
       "      <th>3</th>\n",
       "      <td>1.912</td>\n",
       "      <td>1.828</td>\n",
       "    </tr>\n",
       "    <tr>\n",
       "      <th>4</th>\n",
       "      <td>1.553</td>\n",
       "      <td>1.371</td>\n",
       "    </tr>\n",
       "    <tr>\n",
       "      <th>5</th>\n",
       "      <td>1.641</td>\n",
       "      <td>1.428</td>\n",
       "    </tr>\n",
       "    <tr>\n",
       "      <th>6</th>\n",
       "      <td>1.499</td>\n",
       "      <td>1.119</td>\n",
       "    </tr>\n",
       "    <tr>\n",
       "      <th>7</th>\n",
       "      <td>1.347</td>\n",
       "      <td>1.373</td>\n",
       "    </tr>\n",
       "    <tr>\n",
       "      <th>8</th>\n",
       "      <td>1.685</td>\n",
       "      <td>1.589</td>\n",
       "    </tr>\n",
       "    <tr>\n",
       "      <th>9</th>\n",
       "      <td>1.578</td>\n",
       "      <td>1.714</td>\n",
       "    </tr>\n",
       "    <tr>\n",
       "      <th>10</th>\n",
       "      <td>1.866</td>\n",
       "      <td>1.260</td>\n",
       "    </tr>\n",
       "    <tr>\n",
       "      <th>11</th>\n",
       "      <td>1.653</td>\n",
       "      <td>1.492</td>\n",
       "    </tr>\n",
       "    <tr>\n",
       "      <th>12</th>\n",
       "      <td>1.665</td>\n",
       "      <td>1.395</td>\n",
       "    </tr>\n",
       "    <tr>\n",
       "      <th>13</th>\n",
       "      <td>1.640</td>\n",
       "      <td>1.778</td>\n",
       "    </tr>\n",
       "    <tr>\n",
       "      <th>14</th>\n",
       "      <td>1.976</td>\n",
       "      <td>1.611</td>\n",
       "    </tr>\n",
       "    <tr>\n",
       "      <th>15</th>\n",
       "      <td>1.754</td>\n",
       "      <td>1.202</td>\n",
       "    </tr>\n",
       "    <tr>\n",
       "      <th>16</th>\n",
       "      <td>1.589</td>\n",
       "      <td>1.542</td>\n",
       "    </tr>\n",
       "    <tr>\n",
       "      <th>17</th>\n",
       "      <td>1.976</td>\n",
       "      <td>1.094</td>\n",
       "    </tr>\n",
       "    <tr>\n",
       "      <th>18</th>\n",
       "      <td>1.863</td>\n",
       "      <td>1.557</td>\n",
       "    </tr>\n",
       "    <tr>\n",
       "      <th>19</th>\n",
       "      <td>1.932</td>\n",
       "      <td>1.053</td>\n",
       "    </tr>\n",
       "    <tr>\n",
       "      <th>20</th>\n",
       "      <td>1.570</td>\n",
       "      <td>1.183</td>\n",
       "    </tr>\n",
       "    <tr>\n",
       "      <th>21</th>\n",
       "      <td>1.613</td>\n",
       "      <td>1.367</td>\n",
       "    </tr>\n",
       "    <tr>\n",
       "      <th>22</th>\n",
       "      <td>2.054</td>\n",
       "      <td>1.144</td>\n",
       "    </tr>\n",
       "    <tr>\n",
       "      <th>23</th>\n",
       "      <td>1.550</td>\n",
       "      <td>1.151</td>\n",
       "    </tr>\n",
       "    <tr>\n",
       "      <th>24</th>\n",
       "      <td>1.714</td>\n",
       "      <td>1.561</td>\n",
       "    </tr>\n",
       "    <tr>\n",
       "      <th>25</th>\n",
       "      <td>1.896</td>\n",
       "      <td>1.192</td>\n",
       "    </tr>\n",
       "    <tr>\n",
       "      <th>26</th>\n",
       "      <td>1.737</td>\n",
       "      <td>1.489</td>\n",
       "    </tr>\n",
       "    <tr>\n",
       "      <th>27</th>\n",
       "      <td>1.740</td>\n",
       "      <td>1.379</td>\n",
       "    </tr>\n",
       "    <tr>\n",
       "      <th>28</th>\n",
       "      <td>1.708</td>\n",
       "      <td>1.501</td>\n",
       "    </tr>\n",
       "    <tr>\n",
       "      <th>29</th>\n",
       "      <td>1.548</td>\n",
       "      <td>1.277</td>\n",
       "    </tr>\n",
       "    <tr>\n",
       "      <th>30</th>\n",
       "      <td>NaN</td>\n",
       "      <td>1.593</td>\n",
       "    </tr>\n",
       "    <tr>\n",
       "      <th>31</th>\n",
       "      <td>NaN</td>\n",
       "      <td>1.172</td>\n",
       "    </tr>\n",
       "    <tr>\n",
       "      <th>32</th>\n",
       "      <td>NaN</td>\n",
       "      <td>1.510</td>\n",
       "    </tr>\n",
       "    <tr>\n",
       "      <th>33</th>\n",
       "      <td>NaN</td>\n",
       "      <td>1.740</td>\n",
       "    </tr>\n",
       "    <tr>\n",
       "      <th>34</th>\n",
       "      <td>NaN</td>\n",
       "      <td>1.355</td>\n",
       "    </tr>\n",
       "  </tbody>\n",
       "</table>\n",
       "</div>"
      ],
      "text/plain": [
       "    Soil1  Soil2\n",
       "0   1.442  1.364\n",
       "1   1.943  1.878\n",
       "2   1.110  1.337\n",
       "3   1.912  1.828\n",
       "4   1.553  1.371\n",
       "5   1.641  1.428\n",
       "6   1.499  1.119\n",
       "7   1.347  1.373\n",
       "8   1.685  1.589\n",
       "9   1.578  1.714\n",
       "10  1.866  1.260\n",
       "11  1.653  1.492\n",
       "12  1.665  1.395\n",
       "13  1.640  1.778\n",
       "14  1.976  1.611\n",
       "15  1.754  1.202\n",
       "16  1.589  1.542\n",
       "17  1.976  1.094\n",
       "18  1.863  1.557\n",
       "19  1.932  1.053\n",
       "20  1.570  1.183\n",
       "21  1.613  1.367\n",
       "22  2.054  1.144\n",
       "23  1.550  1.151\n",
       "24  1.714  1.561\n",
       "25  1.896  1.192\n",
       "26  1.737  1.489\n",
       "27  1.740  1.379\n",
       "28  1.708  1.501\n",
       "29  1.548  1.277\n",
       "30    NaN  1.593\n",
       "31    NaN  1.172\n",
       "32    NaN  1.510\n",
       "33    NaN  1.740\n",
       "34    NaN  1.355"
      ]
     },
     "execution_count": 22,
     "metadata": {},
     "output_type": "execute_result"
    }
   ],
   "source": [
    "soil_type = pd.read_csv(\"soil - Sheet1.csv\")\n",
    "soil_type"
   ]
  },
  {
   "cell_type": "markdown",
   "id": "dab4dd5b",
   "metadata": {
    "id": "1yJQ9KpKONHx"
   },
   "source": [
    "<span style=\"background-color: white; color: #5cb85c; font-weight: bold; padding: 5px;\">Independent Samples T Test</span>"
   ]
  },
  {
   "cell_type": "code",
   "execution_count": 23,
   "id": "2b9f6877",
   "metadata": {
    "executionInfo": {
     "elapsed": 3,
     "status": "ok",
     "timestamp": 1688389318152,
     "user": {
      "displayName": "Richard Thames",
      "userId": "00258987493291873022"
     },
     "user_tz": -180
    },
    "id": "JtLddmDzONHz"
   },
   "outputs": [],
   "source": [
    "#H0: mu1 = mu2\n",
    "#H1: mu1 != mu2"
   ]
  },
  {
   "cell_type": "code",
   "execution_count": 24,
   "id": "dfc5c274",
   "metadata": {
    "colab": {
     "base_uri": "https://localhost:8080/"
    },
    "executionInfo": {
     "elapsed": 3,
     "status": "ok",
     "timestamp": 1688389318658,
     "user": {
      "displayName": "Richard Thames",
      "userId": "00258987493291873022"
     },
     "user_tz": -180
    },
    "id": "osG8X_N3ONHz",
    "outputId": "6a207b5e-4e9c-4248-eab7-577984bad5b7"
   },
   "outputs": [
    {
     "data": {
      "text/plain": [
       "LeveneResult(statistic=0.2323198108973329, pvalue=0.631622932753579)"
      ]
     },
     "execution_count": 24,
     "metadata": {},
     "output_type": "execute_result"
    }
   ],
   "source": [
    "#Perform Levene test for equal variances\n",
    "#H0: The population variances are equal\n",
    "#H1: There is a difference between the variances in the population\n",
    "#The small p-value suggests that the populations do not have equal variances.(equal_var = False)\n",
    "#The large p-value suggests that the populations have equal variances.(equal_var = True)\n",
    "leveneTest = stats.levene(soil_type.Soil1[:30], soil_type.Soil2[:30])\n",
    "leveneTest"
   ]
  },
  {
   "cell_type": "code",
   "execution_count": 25,
   "id": "c6d5ba99",
   "metadata": {},
   "outputs": [
    {
     "data": {
      "text/plain": [
       "LeveneResult(statistic=0.31486292982090475, pvalue=0.5767018253541134)"
      ]
     },
     "execution_count": 25,
     "metadata": {},
     "output_type": "execute_result"
    }
   ],
   "source": [
    "# Removing the Soil1 group from NaN values\n",
    "cleaned_soil1 = soil_type.Soil1[~np.isnan(soil_type.Soil1)]\n",
    "\n",
    "# Removing the Soil2 group from NaN values\n",
    "cleaned_soil2 = soil_type.Soil2[~np.isnan(soil_type.Soil2)]\n",
    "\n",
    "# Performing the Levene test on purified groups\n",
    "leveneTest = stats.levene(cleaned_soil1, cleaned_soil2)\n",
    "leveneTest"
   ]
  },
  {
   "cell_type": "code",
   "execution_count": 26,
   "id": "1a686d04",
   "metadata": {},
   "outputs": [
    {
     "data": {
      "text/plain": [
       "1.6918000000000002"
      ]
     },
     "execution_count": 26,
     "metadata": {},
     "output_type": "execute_result"
    }
   ],
   "source": [
    "# average soil1\n",
    "np.mean(cleaned_soil1)"
   ]
  },
  {
   "cell_type": "code",
   "execution_count": 27,
   "id": "f9a9179a",
   "metadata": {},
   "outputs": [
    {
     "data": {
      "text/plain": [
       "1.4171142857142855"
      ]
     },
     "execution_count": 27,
     "metadata": {},
     "output_type": "execute_result"
    }
   ],
   "source": [
    "# average soil2\n",
    "np.mean(cleaned_soil2)"
   ]
  },
  {
   "cell_type": "markdown",
   "id": "ea20be07",
   "metadata": {
    "id": "GiciPQa_ONH0"
   },
   "source": [
    "\n",
    "<span style=\"background-color: white; color: #5cb85c; font-weight: bold; padding: 5px;\">Calculate the T-test for the means of two independent samples of scores.</span>"
   ]
  },
  {
   "cell_type": "code",
   "execution_count": 28,
   "id": "209423f0",
   "metadata": {},
   "outputs": [],
   "source": [
    "# Ho : mu1 = mu2\n",
    "# H1 : mu1 != mu2"
   ]
  },
  {
   "cell_type": "code",
   "execution_count": 29,
   "id": "9d7de829",
   "metadata": {},
   "outputs": [],
   "source": [
    "# help(stats.ttest_ind)"
   ]
  },
  {
   "cell_type": "code",
   "execution_count": 30,
   "id": "1affa0c3",
   "metadata": {},
   "outputs": [
    {
     "data": {
      "text/plain": [
       "Ttest_indResult(statistic=5.1681473319343345, pvalue=2.593228732352821e-06)"
      ]
     },
     "execution_count": 30,
     "metadata": {},
     "output_type": "execute_result"
    }
   ],
   "source": [
    "# Calculate test statistics using stats.ttest_ind()\n",
    "indTest = stats.ttest_ind(cleaned_soil1, cleaned_soil2, equal_var = True)\n",
    "indTest"
   ]
  },
  {
   "cell_type": "code",
   "execution_count": 31,
   "id": "f8105dc6",
   "metadata": {},
   "outputs": [
    {
     "data": {
      "text/plain": [
       "5.1681473319343345"
      ]
     },
     "execution_count": 31,
     "metadata": {},
     "output_type": "execute_result"
    }
   ],
   "source": [
    "indTest.statistic"
   ]
  },
  {
   "cell_type": "code",
   "execution_count": 32,
   "id": "4bb604cb",
   "metadata": {},
   "outputs": [
    {
     "data": {
      "text/plain": [
       "2.593228732352821e-06"
      ]
     },
     "execution_count": 32,
     "metadata": {},
     "output_type": "execute_result"
    }
   ],
   "source": [
    "indTest.pvalue"
   ]
  },
  {
   "cell_type": "code",
   "execution_count": 33,
   "id": "9a49c919",
   "metadata": {},
   "outputs": [
    {
     "name": "stdout",
     "output_type": "stream",
     "text": [
      "Reject the null. At the α=0.05, we have sufficient evidence to indicate that mean body temperatures differ for men and women. \n"
     ]
    }
   ],
   "source": [
    "# Decision\n",
    "alpha = 0.01\n",
    "\n",
    "if indTest.pvalue < alpha:\n",
    "    print(\"Reject the null. At the α=0.05, we have sufficient evidence to indicate that mean body temperatures differ for men and women. \")\n",
    "else:\n",
    "    print(\"Fail to reject the null.\")"
   ]
  },
  {
   "cell_type": "markdown",
   "id": "79fc401f",
   "metadata": {},
   "source": [
    "<a id=\"exercise5\"></a>\n",
    "<h3 class=\"list-group-item list-group-item-action\" data-toggle=\"list\" href=\"#exercise1\" role=\"tab\" aria-controls=\"profile\" style=\"background-color: blue; color: #fff; font-weight: bold; padding: 10px; border: 1px solid #ddd; border-radius: 5px;\">\n",
    "  <span style=\"font-weight: bold; font-style: italic; font-size: 16px;\">Exercise 5</span>\n",
    "</h3>"
   ]
  },
  {
   "cell_type": "markdown",
   "id": "1ff32e82",
   "metadata": {},
   "source": [
    "<a href=\"#toc\" class=\"btn btn-warning btn-lg active\" role=\"button\" aria-pressed=\"true\" style=\"background-color: black; color: white;\">Content</a>\n"
   ]
  },
  {
   "cell_type": "markdown",
   "id": "66b46caf",
   "metadata": {},
   "source": [
    "<span style=\"color:blue;font-weight:bold\">The following dataset</span> is based on data provided by the World Bank (<a href=\"https://datacatalog.worldbank.org/dataset/education-statistics\">World Bank Edstats</a>). World Bank Edstats. <a href=\"https://docs.google.com/spreadsheets/d/14rVnIUfEm3CuK9bSvS5253RHWzQhXOuNc0I-cCkgpR8/edit?usp=sharing\">2015 PISA Test Dataset</a>\n",
    "\n",
    "<span style=\"color:blue;font-weight:bold\">1. Get descriptive statistics</span> (the central tendency, dispersion and shape of a dataset’s distribution) for each continent group (AS, EU, AF, NA, SA, OC).\n",
    "\n",
    "<span style=\"color:blue;font-weight:bold\">2. Determine whether there is any difference</span> (on the average) for the math scores among European (EU) and Asian (AS) countries (assume normality and equal variances). Draw side-by-side box plots.\n",
    "\n",
    "<span style=\"color:green\">CHECK: statistic=0.870055317967983, pvalue=0.38826888111307345</span>"
   ]
  },
  {
   "cell_type": "code",
   "execution_count": 34,
   "id": "56c2a8f8",
   "metadata": {},
   "outputs": [
    {
     "data": {
      "text/html": [
       "<div>\n",
       "<style scoped>\n",
       "    .dataframe tbody tr th:only-of-type {\n",
       "        vertical-align: middle;\n",
       "    }\n",
       "\n",
       "    .dataframe tbody tr th {\n",
       "        vertical-align: top;\n",
       "    }\n",
       "\n",
       "    .dataframe thead th {\n",
       "        text-align: right;\n",
       "    }\n",
       "</style>\n",
       "<table border=\"1\" class=\"dataframe\">\n",
       "  <thead>\n",
       "    <tr style=\"text-align: right;\">\n",
       "      <th></th>\n",
       "      <th>Country Code</th>\n",
       "      <th>Continent_Code</th>\n",
       "      <th>internet_users_per_100</th>\n",
       "      <th>Math</th>\n",
       "      <th>Reading</th>\n",
       "      <th>Science</th>\n",
       "    </tr>\n",
       "  </thead>\n",
       "  <tbody>\n",
       "    <tr>\n",
       "      <th>0</th>\n",
       "      <td>ALB</td>\n",
       "      <td>EU</td>\n",
       "      <td>63.252933</td>\n",
       "      <td>413.1570</td>\n",
       "      <td>405.2588</td>\n",
       "      <td>427.2250</td>\n",
       "    </tr>\n",
       "    <tr>\n",
       "      <th>1</th>\n",
       "      <td>ARE</td>\n",
       "      <td>AS</td>\n",
       "      <td>90.500000</td>\n",
       "      <td>427.4827</td>\n",
       "      <td>433.5423</td>\n",
       "      <td>436.7311</td>\n",
       "    </tr>\n",
       "    <tr>\n",
       "      <th>2</th>\n",
       "      <td>ARG</td>\n",
       "      <td>SA</td>\n",
       "      <td>68.043064</td>\n",
       "      <td>409.0333</td>\n",
       "      <td>425.3031</td>\n",
       "      <td>432.2262</td>\n",
       "    </tr>\n",
       "    <tr>\n",
       "      <th>3</th>\n",
       "      <td>AUS</td>\n",
       "      <td>OC</td>\n",
       "      <td>84.560519</td>\n",
       "      <td>493.8962</td>\n",
       "      <td>502.9006</td>\n",
       "      <td>509.9939</td>\n",
       "    </tr>\n",
       "    <tr>\n",
       "      <th>4</th>\n",
       "      <td>AUT</td>\n",
       "      <td>EU</td>\n",
       "      <td>83.940142</td>\n",
       "      <td>496.7423</td>\n",
       "      <td>484.8656</td>\n",
       "      <td>495.0375</td>\n",
       "    </tr>\n",
       "    <tr>\n",
       "      <th>...</th>\n",
       "      <td>...</td>\n",
       "      <td>...</td>\n",
       "      <td>...</td>\n",
       "      <td>...</td>\n",
       "      <td>...</td>\n",
       "      <td>...</td>\n",
       "    </tr>\n",
       "    <tr>\n",
       "      <th>65</th>\n",
       "      <td>TUN</td>\n",
       "      <td>AF</td>\n",
       "      <td>48.519836</td>\n",
       "      <td>366.8180</td>\n",
       "      <td>361.0555</td>\n",
       "      <td>386.4034</td>\n",
       "    </tr>\n",
       "    <tr>\n",
       "      <th>66</th>\n",
       "      <td>TUR</td>\n",
       "      <td>EU</td>\n",
       "      <td>53.744979</td>\n",
       "      <td>420.4540</td>\n",
       "      <td>428.3351</td>\n",
       "      <td>425.4895</td>\n",
       "    </tr>\n",
       "    <tr>\n",
       "      <th>67</th>\n",
       "      <td>URY</td>\n",
       "      <td>SA</td>\n",
       "      <td>64.600000</td>\n",
       "      <td>417.9919</td>\n",
       "      <td>436.5721</td>\n",
       "      <td>435.3630</td>\n",
       "    </tr>\n",
       "    <tr>\n",
       "      <th>68</th>\n",
       "      <td>USA</td>\n",
       "      <td>NaN</td>\n",
       "      <td>74.554202</td>\n",
       "      <td>469.6285</td>\n",
       "      <td>496.9351</td>\n",
       "      <td>496.2424</td>\n",
       "    </tr>\n",
       "    <tr>\n",
       "      <th>69</th>\n",
       "      <td>VNM</td>\n",
       "      <td>AS</td>\n",
       "      <td>43.500000</td>\n",
       "      <td>494.5183</td>\n",
       "      <td>486.7738</td>\n",
       "      <td>524.6445</td>\n",
       "    </tr>\n",
       "  </tbody>\n",
       "</table>\n",
       "<p>70 rows × 6 columns</p>\n",
       "</div>"
      ],
      "text/plain": [
       "   Country Code Continent_Code  internet_users_per_100      Math   Reading  \\\n",
       "0           ALB             EU               63.252933  413.1570  405.2588   \n",
       "1           ARE             AS               90.500000  427.4827  433.5423   \n",
       "2           ARG             SA               68.043064  409.0333  425.3031   \n",
       "3           AUS             OC               84.560519  493.8962  502.9006   \n",
       "4           AUT             EU               83.940142  496.7423  484.8656   \n",
       "..          ...            ...                     ...       ...       ...   \n",
       "65          TUN             AF               48.519836  366.8180  361.0555   \n",
       "66          TUR             EU               53.744979  420.4540  428.3351   \n",
       "67          URY             SA               64.600000  417.9919  436.5721   \n",
       "68          USA            NaN               74.554202  469.6285  496.9351   \n",
       "69          VNM             AS               43.500000  494.5183  486.7738   \n",
       "\n",
       "     Science  \n",
       "0   427.2250  \n",
       "1   436.7311  \n",
       "2   432.2262  \n",
       "3   509.9939  \n",
       "4   495.0375  \n",
       "..       ...  \n",
       "65  386.4034  \n",
       "66  425.4895  \n",
       "67  435.3630  \n",
       "68  496.2424  \n",
       "69  524.6445  \n",
       "\n",
       "[70 rows x 6 columns]"
      ]
     },
     "execution_count": 34,
     "metadata": {},
     "output_type": "execute_result"
    }
   ],
   "source": [
    "pisa_test = pd.read_csv(\"pisa_test.csv\")\n",
    "pisa_test"
   ]
  },
  {
   "cell_type": "code",
   "execution_count": 35,
   "id": "481c1993",
   "metadata": {},
   "outputs": [
    {
     "data": {
      "text/plain": [
       "EU    37\n",
       "AS    17\n",
       "SA     7\n",
       "OC     2\n",
       "AF     2\n",
       "Name: Continent_Code, dtype: int64"
      ]
     },
     "execution_count": 35,
     "metadata": {},
     "output_type": "execute_result"
    }
   ],
   "source": [
    "pisa_test.Continent_Code.value_counts()"
   ]
  },
  {
   "cell_type": "code",
   "execution_count": 36,
   "id": "b170f7e7",
   "metadata": {},
   "outputs": [],
   "source": [
    "EU_scores = pisa_test[pisa_test[\"Continent_Code\"] == \"EU\"][\"Math\"]\n",
    "AS_scores = pisa_test[pisa_test[\"Continent_Code\"] == \"AS\"][\"Math\"]\n",
    "SA_scores = pisa_test[pisa_test[\"Continent_Code\"] == \"SA\"][\"Math\"]\n",
    "OC_scores = pisa_test[pisa_test[\"Continent_Code\"] == \"OC\"][\"Math\"]\n",
    "AF_scores = pisa_test[pisa_test[\"Continent_Code\"] == \"AF\"][\"Math\"]"
   ]
  },
  {
   "cell_type": "code",
   "execution_count": 37,
   "id": "d2177417",
   "metadata": {},
   "outputs": [
    {
     "data": {
      "text/html": [
       "<div>\n",
       "<style scoped>\n",
       "    .dataframe tbody tr th:only-of-type {\n",
       "        vertical-align: middle;\n",
       "    }\n",
       "\n",
       "    .dataframe tbody tr th {\n",
       "        vertical-align: top;\n",
       "    }\n",
       "\n",
       "    .dataframe thead th {\n",
       "        text-align: right;\n",
       "    }\n",
       "</style>\n",
       "<table border=\"1\" class=\"dataframe\">\n",
       "  <thead>\n",
       "    <tr style=\"text-align: right;\">\n",
       "      <th></th>\n",
       "      <th>EU</th>\n",
       "      <th>AS</th>\n",
       "      <th>SA</th>\n",
       "      <th>OC</th>\n",
       "      <th>AF</th>\n",
       "    </tr>\n",
       "  </thead>\n",
       "  <tbody>\n",
       "    <tr>\n",
       "      <th>count</th>\n",
       "      <td>37.000000</td>\n",
       "      <td>17.000000</td>\n",
       "      <td>7.000000</td>\n",
       "      <td>2.000000</td>\n",
       "      <td>2.000000</td>\n",
       "    </tr>\n",
       "    <tr>\n",
       "      <th>mean</th>\n",
       "      <td>477.981449</td>\n",
       "      <td>466.216647</td>\n",
       "      <td>402.887700</td>\n",
       "      <td>494.559750</td>\n",
       "      <td>363.212100</td>\n",
       "    </tr>\n",
       "    <tr>\n",
       "      <th>std</th>\n",
       "      <td>35.150403</td>\n",
       "      <td>64.356490</td>\n",
       "      <td>18.128894</td>\n",
       "      <td>0.938401</td>\n",
       "      <td>5.099513</td>\n",
       "    </tr>\n",
       "    <tr>\n",
       "      <th>min</th>\n",
       "      <td>371.311400</td>\n",
       "      <td>380.259000</td>\n",
       "      <td>377.069500</td>\n",
       "      <td>493.896200</td>\n",
       "      <td>359.606200</td>\n",
       "    </tr>\n",
       "    <tr>\n",
       "      <th>25%</th>\n",
       "      <td>464.040100</td>\n",
       "      <td>403.833200</td>\n",
       "      <td>388.102200</td>\n",
       "      <td>494.227975</td>\n",
       "      <td>361.409150</td>\n",
       "    </tr>\n",
       "    <tr>\n",
       "      <th>50%</th>\n",
       "      <td>489.728700</td>\n",
       "      <td>459.816000</td>\n",
       "      <td>409.033300</td>\n",
       "      <td>494.559750</td>\n",
       "      <td>363.212100</td>\n",
       "    </tr>\n",
       "    <tr>\n",
       "      <th>75%</th>\n",
       "      <td>503.722000</td>\n",
       "      <td>531.296100</td>\n",
       "      <td>417.617650</td>\n",
       "      <td>494.891525</td>\n",
       "      <td>365.015050</td>\n",
       "    </tr>\n",
       "    <tr>\n",
       "      <th>max</th>\n",
       "      <td>521.250600</td>\n",
       "      <td>564.189700</td>\n",
       "      <td>422.671400</td>\n",
       "      <td>495.223300</td>\n",
       "      <td>366.818000</td>\n",
       "    </tr>\n",
       "  </tbody>\n",
       "</table>\n",
       "</div>"
      ],
      "text/plain": [
       "               EU          AS          SA          OC          AF\n",
       "count   37.000000   17.000000    7.000000    2.000000    2.000000\n",
       "mean   477.981449  466.216647  402.887700  494.559750  363.212100\n",
       "std     35.150403   64.356490   18.128894    0.938401    5.099513\n",
       "min    371.311400  380.259000  377.069500  493.896200  359.606200\n",
       "25%    464.040100  403.833200  388.102200  494.227975  361.409150\n",
       "50%    489.728700  459.816000  409.033300  494.559750  363.212100\n",
       "75%    503.722000  531.296100  417.617650  494.891525  365.015050\n",
       "max    521.250600  564.189700  422.671400  495.223300  366.818000"
      ]
     },
     "execution_count": 37,
     "metadata": {},
     "output_type": "execute_result"
    }
   ],
   "source": [
    "data = {\n",
    "    'EU': EU_scores,\n",
    "    'AS': AS_scores,\n",
    "    'SA': SA_scores,\n",
    "    'OC': OC_scores,\n",
    "    'AF': AF_scores\n",
    "}\n",
    "\n",
    "score_df = pd.DataFrame(data)\n",
    "score_df.describe()\n"
   ]
  },
  {
   "cell_type": "markdown",
   "id": "1529d0b2",
   "metadata": {},
   "source": [
    "<a href=\"#toc\" class=\"btn btn-warning btn-lg active\" role=\"button\" aria-pressed=\"true\" style=\"background-color: black; color: white;\">Content</a>\n"
   ]
  },
  {
   "cell_type": "markdown",
   "id": "733907a1",
   "metadata": {},
   "source": [
    "<span style=\"background-color: white; color: #5cb85c; font-weight: bold; padding: 5px;\">Draw side-by-side box plots.</span>"
   ]
  },
  {
   "cell_type": "code",
   "execution_count": 38,
   "id": "58329cfd",
   "metadata": {
    "scrolled": false
   },
   "outputs": [
    {
     "data": {
      "image/png": "[encoded data removed]",
      "text/plain": [
       "<Figure size 800x600 with 1 Axes>"
      ]
     },
     "metadata": {},
     "output_type": "display_data"
    }
   ],
   "source": [
    "import numpy as np\n",
    "\n",
    "# Calculate means of the groups\n",
    "mean_EU = np.mean(EU_scores)\n",
    "mean_AS = np.mean(AS_scores)\n",
    "\n",
    "# Create custom boxplot colors\n",
    "box_colors = ['orange', 'yellow']\n",
    "\n",
    "# Draw side-by-side box plots with custom colors and display means as text\n",
    "plt.figure(figsize=(8, 6))\n",
    "bp = plt.boxplot([EU_scores, AS_scores], labels=['EU', 'AS'], patch_artist=True,\n",
    "                 medianprops={'color': 'black'})\n",
    "\n",
    "# Set boxplot colors\n",
    "for patch, color in zip(bp['boxes'], box_colors):\n",
    "    patch.set_facecolor(color)\n",
    "\n",
    "# Add markers for mean values\n",
    "plt.plot([1], [mean_EU], marker='o', markersize=8, color='black')\n",
    "plt.plot([2], [mean_AS], marker='o', markersize=8, color='black')\n",
    "\n",
    "# Add text for mean values\n",
    "plt.text(1.15, mean_EU, f\"Mean: {mean_EU:.2f}\", va='center', fontweight='bold')\n",
    "plt.text(2.15, mean_AS, f\"Mean: {mean_AS:.2f}\", va='center', fontweight='bold')\n",
    "\n",
    "# Set labels and title\n",
    "plt.xlabel('Continent Group')\n",
    "plt.ylabel('Math Scores')\n",
    "plt.title('Comparison of Math Scores between European (EU) and Asian (AS) Countries')\n",
    "\n",
    "plt.show()\n"
   ]
  },
  {
   "cell_type": "markdown",
   "id": "57af5bcd",
   "metadata": {
    "id": "GiciPQa_ONH0"
   },
   "source": [
    "\n",
    "<span style=\"background-color: white; color: #5cb85c; font-weight: bold; padding: 5px;\">Calculate the T-test for the means of two independent samples of scores.</span>"
   ]
  },
  {
   "cell_type": "code",
   "execution_count": 39,
   "id": "87358aa5",
   "metadata": {
    "executionInfo": {
     "elapsed": 258,
     "status": "ok",
     "timestamp": 1688389327258,
     "user": {
      "displayName": "Richard Thames",
      "userId": "00258987493291873022"
     },
     "user_tz": -180
    },
    "id": "LdQqc1azONH0"
   },
   "outputs": [],
   "source": [
    "# H0: mu1 = mu2\n",
    "# H1: mu1 != mu2"
   ]
  },
  {
   "cell_type": "code",
   "execution_count": 40,
   "id": "9fca5ffb",
   "metadata": {
    "id": "vlKDVRAFbGbw"
   },
   "outputs": [],
   "source": [
    "#help(stats.ttest_ind)"
   ]
  },
  {
   "cell_type": "markdown",
   "id": "a915ce55",
   "metadata": {
    "id": "1yJQ9KpKONHx"
   },
   "source": [
    "<span style=\"background-color: white; color: #5cb85c; font-weight: bold; padding: 5px;\">Independent Samples T Test</span>"
   ]
  },
  {
   "cell_type": "code",
   "execution_count": 41,
   "id": "a73de64a",
   "metadata": {},
   "outputs": [
    {
     "data": {
      "text/plain": [
       "Ttest_indResult(statistic=0.870055317967983, pvalue=0.38826888111307345)"
      ]
     },
     "execution_count": 41,
     "metadata": {},
     "output_type": "execute_result"
    }
   ],
   "source": [
    "indTest = stats.ttest_ind(EU_scores, AS_scores, equal_var = True)\n",
    "indTest"
   ]
  },
  {
   "cell_type": "code",
   "execution_count": 42,
   "id": "f1529e6e",
   "metadata": {},
   "outputs": [
    {
     "data": {
      "text/plain": [
       "0.870055317967983"
      ]
     },
     "execution_count": 42,
     "metadata": {},
     "output_type": "execute_result"
    }
   ],
   "source": [
    "indTest.statistic"
   ]
  },
  {
   "cell_type": "code",
   "execution_count": 43,
   "id": "d0033e1c",
   "metadata": {},
   "outputs": [
    {
     "data": {
      "text/plain": [
       "0.38826888111307345"
      ]
     },
     "execution_count": 43,
     "metadata": {},
     "output_type": "execute_result"
    }
   ],
   "source": [
    "indTest.pvalue"
   ]
  },
  {
   "cell_type": "code",
   "execution_count": 44,
   "id": "0cb7254c",
   "metadata": {},
   "outputs": [
    {
     "name": "stdout",
     "output_type": "stream",
     "text": [
      "Fail to reject the null.\n"
     ]
    }
   ],
   "source": [
    "# Decision\n",
    "alpha = 0.05\n",
    "\n",
    "if indTest.pvalue < alpha:\n",
    "    print(\"Reject the null. At the α=0.05, we have sufficient evidence to indicate that mean body temperatures differ for men and women. \")\n",
    "else:\n",
    "    print(\"Fail to reject the null.\")"
   ]
  },
  {
   "cell_type": "markdown",
   "id": "bebd6d93",
   "metadata": {},
   "source": [
    "<a href=\"#toc\" class=\"btn btn-warning btn-lg active\" role=\"button\" aria-pressed=\"true\" style=\"background-color: black; color: white;\">Content</a>\n"
   ]
  },
  {
   "cell_type": "markdown",
   "id": "2353301d",
   "metadata": {},
   "source": [
    "![statistics](https://images.theconversation.com/files/236859/original/file-20180918-158240-1jd9gm6.jpg?ixlib=rb-1.1.0&q=45&auto=format&w=926&fit=clip)\n",
    "[Image Credit: ](https://images.theconversation.com/files/236859/original/file-20180918-158240-1jd9gm6.jpg?ixlib=rb-1.1.0&q=45&auto=format&w=926&fit=clip)"
   ]
  },
  {
   "cell_type": "markdown",
   "id": "c48578e1",
   "metadata": {},
   "source": [
    "<ul class=\"nav flex-column\">\n",
    "<div style=\"background-image: linear-gradient(to right, red, green); padding: 10px; border-radius: 5px;\">\n",
    "    <p style=\"color: white;\"><b>Statistics ( CIs & Hypothesis )</b></p>\n",
    "</div>\n",
    "  <li class=\"nav-item\">\n",
    "    <a class=\"nav-link active\" style=\"background-color:; color:Blue\" href=\"https://github.com/huseyincenik/data_science/tree/main/assigment/Statistics%20Assigment%20-%202\" role=\"tab\"><b>Github Notebook Link</b></a>\n",
    "  </li>\n",
    "    <li class=\"nav-item\">\n",
    "    <a class=\"nav-link\" style=\"background-color:; color:orange\" href=\"https://www.kaggle.com/huseyincenik\"><b>My Kaggle Account</b></a>\n",
    "  </li>  \n",
    "  <li class=\"nav-item\">\n",
    "    <a class=\"nav-link\" style=\"background-color:; color:green\" href=\"https://www.linkedin.com/in/huseyincenik/\"><b>My Linkedin Account</b></a>\n",
    "  </li>\n",
    "</ul>\n"
   ]
  }
 ],
 "metadata": {
  "kernelspec": {
   "display_name": "Python 3 (ipykernel)",
   "language": "python",
   "name": "python3"
  },
  "language_info": {
   "codemirror_mode": {
    "name": "ipython",
    "version": 3
   },
   "file_extension": ".py",
   "mimetype": "text/x-python",
   "name": "python",
   "nbconvert_exporter": "python",
   "pygments_lexer": "ipython3",
   "version": "3.10.9"
  }
 },
 "nbformat": 4,
 "nbformat_minor": 5
}
