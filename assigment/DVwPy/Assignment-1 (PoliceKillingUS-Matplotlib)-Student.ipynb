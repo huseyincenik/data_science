{
 "cells": [
  {
   "cell_type": "markdown",
   "metadata": {
    "id": "xSwVOspA2Zin"
   },
   "source": [
    "___\n",
    "\n",
    "<a href=\"https://lms.clarusway.com/course/view.php?id=7435\"><img align=\"center\" src=\"https://i.ibb.co/6Z5pQxD/lmss.png\" alt=\"Open in Clarusway LMS\" width=\"70\" height=\"200\" title=\"Open Clarusway Learning Management Sytem\"></a>\n",
    "\n",
    "___\n",
    "\n",
    "<a href=\"https://clarusway.com/\"><img align=\"center\" src=\"https://docs.google.com/uc?id=1lY0Uj5R04yMY3-ZppPWxqCr5pvBLYPnV\" alt=\"CLRSWY\" width=\"450\" height=\"200\" title=\"Welcome to Place Where You can Reinvent Yourself\"></a><br/>\n",
    "\n",
    "## <p style=\"background-color:#FDFEFE; font-family:newtimeroman; color:#9d4f8c; font-size:120%; text-align:center; border-radius:10px 10px;\">Way to Reinvent Yourself</p>\n",
    "\n",
    "<p style=\"text-align: center;\"><img src=\"https://i.ibb.co/99DQ3TY/DS-Courses.png\" class=\"img-fluid\" \n",
    "alt=\"CLRSWY\"></p>\n",
    "\n",
    "\n",
    "\n",
    "## <p style=\"background-color:#9d4f8c; font-family:newtimeroman; color:#FFF9ED; font-size:150%; text-align:center; border-radius:10px 10px;\">POLICE KILLING US - PANDAS & MATPLOTLIB VISUALiZATION TASK</p>\n",
    "\n",
    "<img src=https://i.ibb.co/fr8t7vY/maxresdefault.jpg width=\"700\" height=\"200\">  \n",
    "\n",
    "[Photo Credit: Youtube](https://www.youtube.com/watch?v=y_c3IgZGOiQ)\n",
    "\n",
    "\n",
    "\n",
    "## <p style=\"background-color:#FDFEFE; font-family:newtimeroman; color:#060108; font-size:200%; text-align:center; border-radius:10px 10px;\">Data Visualization with Python</p>\n",
    "\n",
    "![Image_Assignment](https://i.ibb.co/cY9HhF7/bnote-assignment.gif)\n",
    "\n",
    "## <p style=\"background-color:#FDFEFE; font-family:newtimeroman; color:#4d77cf; font-size:150%; text-align:center; border-radius:10px 10px;\">Assignment 01 (PoliceKillingUS-Pandas & Matplotlib)</p>"
   ]
  },
  {
   "cell_type": "markdown",
   "metadata": {},
   "source": [
    "<a id=\"toc\"></a>\n",
    "\n",
    "## <p style=\"background-color:#9d4f8c; font-family:newtimeroman; color:#FFF9ED; font-size:150%; text-align:center; border-radius:10px 10px;\">CONTENT</p>\n",
    "\n",
    "* [ABOUT THE DATASET & CONTEXT](#0)\n",
    "* [ABOUT THE FEATURES](#00)\n",
    "* [IMPORTING LIBRARIES NEEDED IN THIS NOTEBOOK](#000)\n",
    "* [INSTRUCTIONS (Tasks in the Assignment)](#1)\n",
    "* [TASK-01 PLOT THE NUMBER OF PEOPLE BY GENDER](#2)\n",
    "* [TASK-02 PLOT THE TYPES OF THE MOST 7 COMMON WEAPONS USED TO KILL PEOPLE](#3)\n",
    "* [TASK-03 PLOT THE NUMBER OF AGE OF KILLED PEOPLE UNDER TWO GROUPS: UNDER 25 & ABOVE 25](#4)\n",
    "* [TASK-04 PLOT THE NUMBER OF KILLED PEOPLE BY RACE](#5) \n",
    "* [TASK-05 PLOT THE NUMBER OF KILLED PEOPLE BY RACE (PIE CHART)](#6)\n",
    "* [TASK-06 PLOT THE MOST COMMON 15 FIRST & LAST NAME OF KILLED PEOPLE](#7)\n",
    "* [THE END OF THE ASSIGNMENT-01](#8)"
   ]
  },
  {
   "cell_type": "markdown",
   "metadata": {},
   "source": [
    "<a id=\"toc\"></a>\n",
    "\n",
    "## <p style=\"background-color:#9d4f8c; font-family:newtimeroman; color:#FFF9ED; font-size:150%; text-align:center; border-radius:10px 10px;\">ABOUT THE DATASET & CONTEXT</p>\n",
    "\n",
    "\"In 2015, The Washington Post began to log [every fatal shooting](https://www.washingtonpost.com/graphics/national/police-shootings-year-end/) by an on-duty police officer in the United States. In that time there have been [more than 5,000 such shootings](https://www.washingtonpost.com/nation/2019/08/09/what-weve-learned-about-police-shootings-years-after-ferguson/?arc404=true) recorded by The Post. After [Michael Brown, an unarmed Black man, was killed](https://www.washingtonpost.com/policeshootings/) in 2014 by police in Ferguson, Mo., a Post investigation found that the [FBI undercounted fatal police shootings](https://www.washingtonpost.com/news/post-nation/wp/2014/09/08/how-many-police-shootings-a-year-no-one-knows/) by more than half. This is because reporting by police departments is voluntary and many departments fail to do so. The Washington Post’s data relies primarily on news accounts, social media postings and police reports. Analysis of more than five years of data reveals that the number and circumstances of fatal shootings and the overall demographics of the victims have remained relatively constant...\" [SOURCE ==> Washington Post Article](https://www.washingtonpost.com/graphics/investigations/police-shootings-database/)\n",
    "\n",
    "[For more information about this story](https://www.washingtonpost.com/graphics/investigations/police-shootings-database/)\n",
    "\n",
    "\n",
    "This dataset has been prepared by The Washington Post (they keep updating it on runtime) with every fatal shooting in the United States by a police officer in the line of duty since Jan. 1, 2015.\n",
    "\n",
    "[2016 PoliceKillingUS DATASET](https://www.washingtonpost.com/graphics/national/police-shootings-2016/)<br>\n",
    "[2017 PoliceKillingUS DATASET](https://www.washingtonpost.com/graphics/national/police-shootings-2017/)<br>\n",
    "[2018 PoliceKillingUS DATASET](https://www.washingtonpost.com/graphics/2018/national/police-shootings-2018/)<br>\n",
    "[2019 PoliceKillingUS DATASET](https://www.washingtonpost.com/graphics/2019/national/police-shootings-2019/)<br>\n",
    "[2020 PoliceKillingUS DATASET](https://www.washingtonpost.com/graphics/national/police-shootings-2017/)<br>\n",
    "\n",
    "\n",
    "**In this assignment, you are supposed to do the exercise yourself to see if you can solve it. While solving the tasks if you need to remember some subjects, please repeat inclass materails in the course and udemy course videos if provided to you.**"
   ]
  },
  {
   "cell_type": "markdown",
   "metadata": {},
   "source": [
    "## <p style=\"background-color:#9d4f8c; font-family:newtimeroman; color:#FFF9ED; font-size:150%; text-align:center; border-radius:10px 10px;\">ABOUT THE FEATURES</p>\n",
    "\n",
    "<a id=\"00\"></a>\n",
    "<a href=\"#toc\" class=\"btn btn-primary btn-sm\" role=\"button\" aria-pressed=\"true\" \n",
    "style=\"color:blue; background-color:#dfa8e4\" data-toggle=\"popover\">Content</a>\n",
    "\n",
    "The file fatal-police-shootings-data.csv contains data about each fatal shooting in CSV format. The file can be downloaded at this URL. Each row has the following variables:\n",
    "\n",
    "- **id:** a unique identifier for each victim\n",
    "- **name:** the name of the victim\n",
    "- **date:** the date of the fatal shooting in YYYY-MM-DD format\n",
    "- **manner_of_death:** shot, shot and Tasered\n",
    "- **armed:** indicates that the victim was armed with some sort of implement that a police officer believed could inflict harm\n",
    "    - undetermined: it is not known whether or not the victim had a weapon\n",
    "    - unknown: the victim was armed, but it is not known what the object was\n",
    "    - unarmed: the victim was not armed\n",
    "- **age:** the age of the victim\n",
    "- **gender:** the gender of the victim. The Post identifies victims by the gender they identify with if reports indicate that it differs from their biological sex.\n",
    "    - M: Male\n",
    "    - F: Female\n",
    "    - None: unknown\n",
    "- **race:**\n",
    "    - W: White, non-Hispanic\n",
    "    - B: Black, non-Hispanic\n",
    "    - A: Asian\n",
    "    - N: Native American\n",
    "    - H: Hispanic\n",
    "    - O: Other\n",
    "    - None: unknown\n",
    "- **city:** the municipality where the fatal shooting took place. Note that in some cases this field may contain a county name if a more specific municipality is unavailable or unknown.\n",
    "- **state:** two-letter postal code abbreviation\n",
    "- **signs of mental illness:** News reports have indicated the victim had a history of mental health issues, expressed suicidal intentions or was experiencing mental distress at the time of the shooting.\n",
    "- **threat_level:** The threat_level column was used to flag incidents for the story by Amy Brittain in October 2015. http://www.washingtonpost.com/sf/investigative/2015/10/24/on-duty-under-fire/ As described in the story, the general criteria for the attack label was that there was the most direct and immediate threat to life. That would include incidents where officers or others were shot at, threatened with a gun, attacked with other weapons or physical force, etc. The attack category is meant to flag the highest level of threat. The other and undetermined categories represent all remaining cases. Other includes many incidents where officers or others faced significant threats.\n",
    "- **flee:** News reports have indicated the victim was moving away from officers\n",
    "    - Foot\n",
    "    - Car\n",
    "    - Not fleeing\n",
    "\n",
    "The threat column and the fleeing column are not necessarily related. For example, there is an incident in which the suspect is fleeing and at the same time turns to fire at gun at the officer. Also, attacks represent a status immediately before fatal shots by police while fleeing could begin slightly earlier and involve a chase.\n",
    "- **body_camera:** News reports have indicated an officer was wearing a body camera and it may have recorded some portion of the incident.\n",
    "\n",
    "[SOURCE](https://github.com/washingtonpost/data-police-shootings)"
   ]
  },
  {
   "cell_type": "markdown",
   "metadata": {},
   "source": [
    "## <p style=\"background-color:#9d4f8c; font-family:newtimeroman; color:#FFF9ED; font-size:150%; text-align:center; border-radius:10px 10px;\">IMPORTING LIBRARIES NEEDED IN THIS NOTEBOOK</p>\n",
    "\n",
    "<a id=\"000\"></a>\n",
    "<a href=\"#toc\" class=\"btn btn-primary btn-sm\" role=\"button\" aria-pressed=\"true\" \n",
    "style=\"color:blue; background-color:#dfa8e4\" data-toggle=\"popover\">Content</a>"
   ]
  },
  {
   "cell_type": "code",
   "execution_count": 1,
   "metadata": {
    "_cell_guid": "5fdcd462-5466-40f5-9992-dc31a9a174f2",
    "_uuid": "dab5021d92c7210270cec270470e4ae179a1de01",
    "id": "22qiZVq32Zir"
   },
   "outputs": [],
   "source": [
    "import numpy as np \n",
    "import pandas as pd\n",
    "\n",
    "import seaborn as sns\n",
    "import matplotlib.pyplot as plt\n",
    "%matplotlib inline\n",
    "\n",
    "from collections import Counter\n",
    "\n",
    "import warnings\n",
    "warnings.filterwarnings('ignore') "
   ]
  },
  {
   "cell_type": "markdown",
   "metadata": {
    "id": "Rsu0y4Ha2Zit"
   },
   "source": [
    "## <p style=\"background-color:#9d4f8c; font-family:newtimeroman; color:#FFF9ED; font-size:150%; text-align:center; border-radius:10px 10px;\">INSTRUCTIONS (Tasks in the Assignment)</p>\n",
    "\n",
    "<a id=\"1\"></a>\n",
    "<a href=\"#toc\" class=\"btn btn-primary btn-sm\" role=\"button\" aria-pressed=\"true\" \n",
    "style=\"color:blue; background-color:#dfa8e4\" data-toggle=\"popover\">Content</a>\n",
    "\n",
    "**In this assignment you're required to handle with the following tasks:** \n",
    "\n",
    "- **Task 1.** Plotting the number of killed people by gender<br>\n",
    "- **Task 2.** Plotting the type of weapon used to kill people<br>\n",
    "- **Task 3.** Plotting the killed people by age<br>\n",
    "- **Task 4.** Plotting the killed people by race<br>\n",
    "- **Task 5.** Plotting the killed people by race (Pie Chart)<br>\n",
    "- **Task 6.** Plotting the most common 15 first or last name of killed people<br>\n",
    "\n",
    "Before diving into the tasks in the assignment, you have to read the dataset. If you have some obatacles while reading the dataset, we recommend you make a research on 🤔 \"how to read the dataset in Pandas\" and 🧐 play with the parameters inside the pandas.read_csv() method. You can use encoding=\"windows-1252\" parameter for reading this dataset.\n",
    "\n",
    "⚠️ In this assignment you are supposed to make some visualizations according to the following questions. So, unless otherwise stated, you do NOT need to follow any Exploratory Data Analysis steps, such as handling missing values & outliers, dropping duplicates, and etc., or apply any Pandas method for preparing the dataset to Machine Learning modelling ⚠️\n",
    "\n",
    "**Now Let us first try to load and read the PoliceKillingsUS dataset. [SOURCE](https://towardsdatascience.com/learn-how-to-read-data-into-a-pandas-dataframe-in-5-minutes-122af8e0b9db) for learning how to read data into a Pandas DataFrame in 5 minutes.** "
   ]
  },
  {
   "cell_type": "code",
   "execution_count": 2,
   "metadata": {},
   "outputs": [
    {
     "data": {
      "text/html": [
       "<div>\n",
       "<style scoped>\n",
       "    .dataframe tbody tr th:only-of-type {\n",
       "        vertical-align: middle;\n",
       "    }\n",
       "\n",
       "    .dataframe tbody tr th {\n",
       "        vertical-align: top;\n",
       "    }\n",
       "\n",
       "    .dataframe thead th {\n",
       "        text-align: right;\n",
       "    }\n",
       "</style>\n",
       "<table border=\"1\" class=\"dataframe\">\n",
       "  <thead>\n",
       "    <tr style=\"text-align: right;\">\n",
       "      <th></th>\n",
       "      <th>id</th>\n",
       "      <th>name</th>\n",
       "      <th>date</th>\n",
       "      <th>manner_of_death</th>\n",
       "      <th>armed</th>\n",
       "      <th>age</th>\n",
       "      <th>gender</th>\n",
       "      <th>race</th>\n",
       "      <th>city</th>\n",
       "      <th>state</th>\n",
       "      <th>signs_of_mental_illness</th>\n",
       "      <th>threat_level</th>\n",
       "      <th>flee</th>\n",
       "      <th>body_camera</th>\n",
       "    </tr>\n",
       "  </thead>\n",
       "  <tbody>\n",
       "    <tr>\n",
       "      <th>2247</th>\n",
       "      <td>2505</td>\n",
       "      <td>TK TK</td>\n",
       "      <td>14/04/17</td>\n",
       "      <td>shot</td>\n",
       "      <td>gun</td>\n",
       "      <td>NaN</td>\n",
       "      <td>M</td>\n",
       "      <td>NaN</td>\n",
       "      <td>Paterson</td>\n",
       "      <td>NJ</td>\n",
       "      <td>True</td>\n",
       "      <td>attack</td>\n",
       "      <td>Not fleeing</td>\n",
       "      <td>False</td>\n",
       "    </tr>\n",
       "  </tbody>\n",
       "</table>\n",
       "</div>"
      ],
      "text/plain": [
       "        id   name      date manner_of_death armed  age gender race      city  \\\n",
       "2247  2505  TK TK  14/04/17            shot   gun  NaN      M  NaN  Paterson   \n",
       "\n",
       "     state  signs_of_mental_illness threat_level         flee  body_camera  \n",
       "2247    NJ                     True       attack  Not fleeing        False  "
      ]
     },
     "execution_count": 2,
     "metadata": {},
     "output_type": "execute_result"
    }
   ],
   "source": [
    "# Reading and assigning the data to an object named \"kill\"\n",
    "\n",
    "# YOUR CODE IS HERE\n",
    "\n",
    "# !pip install patool\n",
    "# import patoolib\n",
    "# patoolib.extract_archive(\"PoliceKillingsUS.rar\")\n",
    "df = pd.read_csv(\"PoliceKillingsUS.csv\" , encoding =\"windows-1252\")\n",
    "kill = df.copy()\n",
    "kill.sample(1)"
   ]
  },
  {
   "cell_type": "code",
   "execution_count": 3,
   "metadata": {},
   "outputs": [
    {
     "name": "stdout",
     "output_type": "stream",
     "text": [
      "<class 'pandas.core.frame.DataFrame'>\n",
      "RangeIndex: 2535 entries, 0 to 2534\n",
      "Data columns (total 14 columns):\n",
      " #   Column                   Non-Null Count  Dtype  \n",
      "---  ------                   --------------  -----  \n",
      " 0   id                       2535 non-null   int64  \n",
      " 1   name                     2535 non-null   object \n",
      " 2   date                     2535 non-null   object \n",
      " 3   manner_of_death          2535 non-null   object \n",
      " 4   armed                    2526 non-null   object \n",
      " 5   age                      2458 non-null   float64\n",
      " 6   gender                   2535 non-null   object \n",
      " 7   race                     2340 non-null   object \n",
      " 8   city                     2535 non-null   object \n",
      " 9   state                    2535 non-null   object \n",
      " 10  signs_of_mental_illness  2535 non-null   bool   \n",
      " 11  threat_level             2535 non-null   object \n",
      " 12  flee                     2470 non-null   object \n",
      " 13  body_camera              2535 non-null   bool   \n",
      "dtypes: bool(2), float64(1), int64(1), object(10)\n",
      "memory usage: 242.7+ KB\n"
     ]
    }
   ],
   "source": [
    "kill.info()"
   ]
  },
  {
   "cell_type": "markdown",
   "metadata": {
    "id": "wMFloMjW2Zi8"
   },
   "source": [
    "## <p style=\"background-color:#9d4f8c; font-family:newtimeroman; color:#FFF9ED; font-size:150%; text-align:center; border-radius:10px 10px;\">Task-01: Plot the number of people by gender</p>\n",
    "\n",
    "<a id=\"2\"></a>\n",
    "<a href=\"#toc\" class=\"btn btn-primary btn-sm\" role=\"button\" aria-pressed=\"true\" \n",
    "style=\"color:blue; background-color:#dfa8e4\" data-toggle=\"popover\">Content</a>"
   ]
  },
  {
   "cell_type": "code",
   "execution_count": 4,
   "metadata": {},
   "outputs": [
    {
     "data": {
      "text/html": [
       "<div>\n",
       "<style scoped>\n",
       "    .dataframe tbody tr th:only-of-type {\n",
       "        vertical-align: middle;\n",
       "    }\n",
       "\n",
       "    .dataframe tbody tr th {\n",
       "        vertical-align: top;\n",
       "    }\n",
       "\n",
       "    .dataframe thead th {\n",
       "        text-align: right;\n",
       "    }\n",
       "</style>\n",
       "<table border=\"1\" class=\"dataframe\">\n",
       "  <thead>\n",
       "    <tr style=\"text-align: right;\">\n",
       "      <th></th>\n",
       "      <th>id</th>\n",
       "      <th>name</th>\n",
       "      <th>date</th>\n",
       "      <th>manner_of_death</th>\n",
       "      <th>armed</th>\n",
       "      <th>age</th>\n",
       "      <th>gender</th>\n",
       "      <th>race</th>\n",
       "      <th>city</th>\n",
       "      <th>state</th>\n",
       "      <th>signs_of_mental_illness</th>\n",
       "      <th>threat_level</th>\n",
       "      <th>flee</th>\n",
       "      <th>body_camera</th>\n",
       "    </tr>\n",
       "  </thead>\n",
       "  <tbody>\n",
       "    <tr>\n",
       "      <th>0</th>\n",
       "      <td>3</td>\n",
       "      <td>Tim Elliot</td>\n",
       "      <td>02/01/15</td>\n",
       "      <td>shot</td>\n",
       "      <td>gun</td>\n",
       "      <td>53.0</td>\n",
       "      <td>M</td>\n",
       "      <td>A</td>\n",
       "      <td>Shelton</td>\n",
       "      <td>WA</td>\n",
       "      <td>True</td>\n",
       "      <td>attack</td>\n",
       "      <td>Not fleeing</td>\n",
       "      <td>False</td>\n",
       "    </tr>\n",
       "    <tr>\n",
       "      <th>1</th>\n",
       "      <td>4</td>\n",
       "      <td>Lewis Lee Lembke</td>\n",
       "      <td>02/01/15</td>\n",
       "      <td>shot</td>\n",
       "      <td>gun</td>\n",
       "      <td>47.0</td>\n",
       "      <td>M</td>\n",
       "      <td>W</td>\n",
       "      <td>Aloha</td>\n",
       "      <td>OR</td>\n",
       "      <td>False</td>\n",
       "      <td>attack</td>\n",
       "      <td>Not fleeing</td>\n",
       "      <td>False</td>\n",
       "    </tr>\n",
       "    <tr>\n",
       "      <th>2</th>\n",
       "      <td>5</td>\n",
       "      <td>John Paul Quintero</td>\n",
       "      <td>03/01/15</td>\n",
       "      <td>shot and Tasered</td>\n",
       "      <td>unarmed</td>\n",
       "      <td>23.0</td>\n",
       "      <td>M</td>\n",
       "      <td>H</td>\n",
       "      <td>Wichita</td>\n",
       "      <td>KS</td>\n",
       "      <td>False</td>\n",
       "      <td>other</td>\n",
       "      <td>Not fleeing</td>\n",
       "      <td>False</td>\n",
       "    </tr>\n",
       "    <tr>\n",
       "      <th>3</th>\n",
       "      <td>8</td>\n",
       "      <td>Matthew Hoffman</td>\n",
       "      <td>04/01/15</td>\n",
       "      <td>shot</td>\n",
       "      <td>toy weapon</td>\n",
       "      <td>32.0</td>\n",
       "      <td>M</td>\n",
       "      <td>W</td>\n",
       "      <td>San Francisco</td>\n",
       "      <td>CA</td>\n",
       "      <td>True</td>\n",
       "      <td>attack</td>\n",
       "      <td>Not fleeing</td>\n",
       "      <td>False</td>\n",
       "    </tr>\n",
       "    <tr>\n",
       "      <th>4</th>\n",
       "      <td>9</td>\n",
       "      <td>Michael Rodriguez</td>\n",
       "      <td>04/01/15</td>\n",
       "      <td>shot</td>\n",
       "      <td>nail gun</td>\n",
       "      <td>39.0</td>\n",
       "      <td>M</td>\n",
       "      <td>H</td>\n",
       "      <td>Evans</td>\n",
       "      <td>CO</td>\n",
       "      <td>False</td>\n",
       "      <td>attack</td>\n",
       "      <td>Not fleeing</td>\n",
       "      <td>False</td>\n",
       "    </tr>\n",
       "  </tbody>\n",
       "</table>\n",
       "</div>"
      ],
      "text/plain": [
       "   id                name      date   manner_of_death       armed   age  \\\n",
       "0   3          Tim Elliot  02/01/15              shot         gun  53.0   \n",
       "1   4    Lewis Lee Lembke  02/01/15              shot         gun  47.0   \n",
       "2   5  John Paul Quintero  03/01/15  shot and Tasered     unarmed  23.0   \n",
       "3   8     Matthew Hoffman  04/01/15              shot  toy weapon  32.0   \n",
       "4   9   Michael Rodriguez  04/01/15              shot    nail gun  39.0   \n",
       "\n",
       "  gender race           city state  signs_of_mental_illness threat_level  \\\n",
       "0      M    A        Shelton    WA                     True       attack   \n",
       "1      M    W          Aloha    OR                    False       attack   \n",
       "2      M    H        Wichita    KS                    False        other   \n",
       "3      M    W  San Francisco    CA                     True       attack   \n",
       "4      M    H          Evans    CO                    False       attack   \n",
       "\n",
       "          flee  body_camera  \n",
       "0  Not fleeing        False  \n",
       "1  Not fleeing        False  \n",
       "2  Not fleeing        False  \n",
       "3  Not fleeing        False  \n",
       "4  Not fleeing        False  "
      ]
     },
     "execution_count": 4,
     "metadata": {},
     "output_type": "execute_result"
    }
   ],
   "source": [
    "# YOUR CODE IS HERE\n",
    "\n",
    "kill.head()"
   ]
  },
  {
   "cell_type": "markdown",
   "metadata": {},
   "source": [
    "Desired Output:\n",
    "\n",
    "<img src=https://i.ibb.co/bF8hKvn/DV1-1a.png width=\"800\" height=\"200\">  "
   ]
  },
  {
   "cell_type": "code",
   "execution_count": 5,
   "metadata": {},
   "outputs": [
    {
     "data": {
      "text/plain": [
       "Index(['M', 'F'], dtype='object')"
      ]
     },
     "execution_count": 5,
     "metadata": {},
     "output_type": "execute_result"
    }
   ],
   "source": [
    "kill[\"gender\"].value_counts().index\n"
   ]
  },
  {
   "cell_type": "code",
   "execution_count": 6,
   "metadata": {},
   "outputs": [
    {
     "data": {
      "image/png": "[encoded data removed]",
      "text/plain": [
       "<Figure size 640x480 with 1 Axes>"
      ]
     },
     "metadata": {},
     "output_type": "display_data"
    }
   ],
   "source": [
    "# With Matplolib\n",
    "\n",
    "# YOUR CODE IS HERE\n",
    "\n",
    "gender_dis = kill[\"gender\"].value_counts()\n",
    "\n",
    "fig, ax = plt.subplots() # I can write figsize = (11, 6)\n",
    "\n",
    "ax.bar(gender_dis.index, gender_dis)\n",
    "\n",
    "ax.set_title(\"Gender Distribution\")\n",
    "\n",
    "ax.set_xticklabels(gender_dis.index, rotation = 90)\n",
    "\n",
    "for i in ax.containers:\n",
    "    ax.bar_label(i)"
   ]
  },
  {
   "cell_type": "code",
   "execution_count": 7,
   "metadata": {},
   "outputs": [],
   "source": [
    "# gender_dis = kill[\"gender\"].value_counts()\n",
    "\n",
    "# plt.bar(gender_dis.index, gender_dis)\n",
    "\n",
    "# plt.title(\"Gender Distribution\")\n",
    "\n",
    "# plt.xticks(gender_dis.index, rotation = 90)\n",
    "\n",
    "# for i, count in enumerate(gender_dis):\n",
    "#     plt.text(i, count, str(count), ha = \"center\", va = \"bottom\")"
   ]
  },
  {
   "cell_type": "markdown",
   "metadata": {},
   "source": [
    "Desired Output:\n",
    "\n",
    "<img src=https://i.ibb.co/WpwcpnR/DV1-1.png width=\"400\" height=\"200\">  "
   ]
  },
  {
   "cell_type": "code",
   "execution_count": 8,
   "metadata": {},
   "outputs": [
    {
     "data": {
      "image/png": "[encoded data removed]",
      "text/plain": [
       "<Figure size 640x480 with 1 Axes>"
      ]
     },
     "metadata": {},
     "output_type": "display_data"
    }
   ],
   "source": [
    "# With Pandas\n",
    "\n",
    "# YOUR CODE IS HERE\n",
    "\n",
    "ax = kill[\"gender\"].value_counts().plot.bar()\n",
    "\n",
    "ax.set_title(\"Gender Distrubition\")\n",
    "\n",
    "for i in ax.containers:\n",
    "    ax.bar_label(i)"
   ]
  },
  {
   "cell_type": "markdown",
   "metadata": {},
   "source": [
    "Desired Output:\n",
    "\n",
    "<img src=https://i.ibb.co/WpwcpnR/DV1-1.png width=\"400\" height=\"200\">  "
   ]
  },
  {
   "cell_type": "markdown",
   "metadata": {},
   "source": [
    "## <p style=\"background-color:#9d4f8c; font-family:newtimeroman; color:#FFF9ED; font-size:150%; text-align:center; border-radius:10px 10px;\">Task-02: Plot the types of the most 7 common weapons used to kill people</p>\n",
    "\n",
    "<a id=\"3\"></a>\n",
    "<a href=\"#toc\" class=\"btn btn-primary btn-sm\" role=\"button\" aria-pressed=\"true\" \n",
    "style=\"color:blue; background-color:#dfa8e4\" data-toggle=\"popover\">Content</a>"
   ]
  },
  {
   "cell_type": "code",
   "execution_count": 9,
   "metadata": {},
   "outputs": [
    {
     "data": {
      "text/plain": [
       "gun             1398\n",
       "knife            373\n",
       "vehicle          177\n",
       "unarmed          171\n",
       "undetermined     117\n",
       "toy weapon       104\n",
       "machete           18\n",
       "Name: armed, dtype: int64"
      ]
     },
     "execution_count": 9,
     "metadata": {},
     "output_type": "execute_result"
    }
   ],
   "source": [
    "kill.armed.value_counts().head(7)"
   ]
  },
  {
   "cell_type": "raw",
   "metadata": {},
   "source": [
    "Desired Output:\n",
    "\n",
    "gun             1398\n",
    "knife            373\n",
    "vehicle          177\n",
    "unarmed          171\n",
    "undetermined     117\n",
    "toy weapon       104\n",
    "machete           18\n",
    "Name: armed, dtype: int64 "
   ]
  },
  {
   "cell_type": "code",
   "execution_count": 10,
   "metadata": {},
   "outputs": [
    {
     "data": {
      "image/png": "[encoded data removed]",
      "text/plain": [
       "<Figure size 640x480 with 1 Axes>"
      ]
     },
     "metadata": {},
     "output_type": "display_data"
    }
   ],
   "source": [
    "# With Matplolib\n",
    "\n",
    "# YOUR CODE IS HERE\n",
    "\n",
    "#OOM\n",
    "\n",
    "common_weapons = kill.armed.value_counts().head(7)\n",
    "\n",
    "fig, ax = plt.subplots()\n",
    "\n",
    "ax.bar(common_weapons.index, common_weapons)\n",
    "\n",
    "ax.set_xticklabels(common_weapons.index, rotation = 45)\n",
    "\n",
    "for i in ax.containers:\n",
    "    ax.bar_label(i)"
   ]
  },
  {
   "cell_type": "code",
   "execution_count": 11,
   "metadata": {},
   "outputs": [],
   "source": [
    "# common_weapons = kill.armed.value_counts().head(7)\n",
    "\n",
    "# ax = plt.bar(common_weapons.index, common_weapons)\n",
    "\n",
    "# plt.xticks(common_weapons.index, rotation = 45);\n",
    "\n",
    "# for i, count in enumerate(common_weapons):\n",
    "#     plt.text(i, count, str(count), ha = \"center\", va = \"bottom\")\n",
    "    \n",
    "# list(enumerate(common_weapons))"
   ]
  },
  {
   "cell_type": "markdown",
   "metadata": {},
   "source": [
    "Desired Output:\n",
    "\n",
    "<img src=https://i.ibb.co/vHb5L1Q/DV1-2.png width=\"400\" height=\"200\">  "
   ]
  },
  {
   "cell_type": "code",
   "execution_count": 12,
   "metadata": {},
   "outputs": [
    {
     "data": {
      "image/png": "[encoded data removed]",
      "text/plain": [
       "<Figure size 640x480 with 1 Axes>"
      ]
     },
     "metadata": {},
     "output_type": "display_data"
    }
   ],
   "source": [
    "# With Pandas\n",
    "\n",
    "# YOUR CODE IS HERE\n",
    "\n",
    "\n",
    "ax = kill.armed.value_counts().head(7).plot.bar(rot = 45)\n",
    "\n",
    "ax.bar_label(ax.containers[0]);\n",
    "\n",
    "\n",
    "# for i in ax.containers:\n",
    "#     ax.bar_label(i)"
   ]
  },
  {
   "cell_type": "markdown",
   "metadata": {},
   "source": [
    "Desired Output:\n",
    "\n",
    "<img src=https://i.ibb.co/yFC1yhH/DV1-2a.png width=\"400\" height=\"200\">  "
   ]
  },
  {
   "cell_type": "markdown",
   "metadata": {},
   "source": [
    "## <p style=\"background-color:#9d4f8c; font-family:newtimeroman; color:#FFF9ED; font-size:150%; text-align:center; border-radius:10px 10px;\">Task-03: Plot the number of age of killed people under two groups: Under 25 and Above 25</p>\n",
    "\n",
    "<a id=\"4\"></a>\n",
    "<a href=\"#toc\" class=\"btn btn-primary btn-sm\" role=\"button\" aria-pressed=\"true\" \n",
    "style=\"color:blue; background-color:#dfa8e4\" data-toggle=\"popover\">Content</a>"
   ]
  },
  {
   "cell_type": "code",
   "execution_count": 13,
   "metadata": {},
   "outputs": [
    {
     "data": {
      "text/html": [
       "<div>\n",
       "<style scoped>\n",
       "    .dataframe tbody tr th:only-of-type {\n",
       "        vertical-align: middle;\n",
       "    }\n",
       "\n",
       "    .dataframe tbody tr th {\n",
       "        vertical-align: top;\n",
       "    }\n",
       "\n",
       "    .dataframe thead th {\n",
       "        text-align: right;\n",
       "    }\n",
       "</style>\n",
       "<table border=\"1\" class=\"dataframe\">\n",
       "  <thead>\n",
       "    <tr style=\"text-align: right;\">\n",
       "      <th></th>\n",
       "      <th>id</th>\n",
       "      <th>name</th>\n",
       "      <th>date</th>\n",
       "      <th>manner_of_death</th>\n",
       "      <th>armed</th>\n",
       "      <th>age</th>\n",
       "      <th>gender</th>\n",
       "      <th>race</th>\n",
       "      <th>city</th>\n",
       "      <th>state</th>\n",
       "      <th>signs_of_mental_illness</th>\n",
       "      <th>threat_level</th>\n",
       "      <th>flee</th>\n",
       "      <th>body_camera</th>\n",
       "    </tr>\n",
       "  </thead>\n",
       "  <tbody>\n",
       "    <tr>\n",
       "      <th>0</th>\n",
       "      <td>3</td>\n",
       "      <td>Tim Elliot</td>\n",
       "      <td>02/01/15</td>\n",
       "      <td>shot</td>\n",
       "      <td>gun</td>\n",
       "      <td>53.0</td>\n",
       "      <td>M</td>\n",
       "      <td>A</td>\n",
       "      <td>Shelton</td>\n",
       "      <td>WA</td>\n",
       "      <td>True</td>\n",
       "      <td>attack</td>\n",
       "      <td>Not fleeing</td>\n",
       "      <td>False</td>\n",
       "    </tr>\n",
       "    <tr>\n",
       "      <th>1</th>\n",
       "      <td>4</td>\n",
       "      <td>Lewis Lee Lembke</td>\n",
       "      <td>02/01/15</td>\n",
       "      <td>shot</td>\n",
       "      <td>gun</td>\n",
       "      <td>47.0</td>\n",
       "      <td>M</td>\n",
       "      <td>W</td>\n",
       "      <td>Aloha</td>\n",
       "      <td>OR</td>\n",
       "      <td>False</td>\n",
       "      <td>attack</td>\n",
       "      <td>Not fleeing</td>\n",
       "      <td>False</td>\n",
       "    </tr>\n",
       "    <tr>\n",
       "      <th>2</th>\n",
       "      <td>5</td>\n",
       "      <td>John Paul Quintero</td>\n",
       "      <td>03/01/15</td>\n",
       "      <td>shot and Tasered</td>\n",
       "      <td>unarmed</td>\n",
       "      <td>23.0</td>\n",
       "      <td>M</td>\n",
       "      <td>H</td>\n",
       "      <td>Wichita</td>\n",
       "      <td>KS</td>\n",
       "      <td>False</td>\n",
       "      <td>other</td>\n",
       "      <td>Not fleeing</td>\n",
       "      <td>False</td>\n",
       "    </tr>\n",
       "    <tr>\n",
       "      <th>3</th>\n",
       "      <td>8</td>\n",
       "      <td>Matthew Hoffman</td>\n",
       "      <td>04/01/15</td>\n",
       "      <td>shot</td>\n",
       "      <td>toy weapon</td>\n",
       "      <td>32.0</td>\n",
       "      <td>M</td>\n",
       "      <td>W</td>\n",
       "      <td>San Francisco</td>\n",
       "      <td>CA</td>\n",
       "      <td>True</td>\n",
       "      <td>attack</td>\n",
       "      <td>Not fleeing</td>\n",
       "      <td>False</td>\n",
       "    </tr>\n",
       "    <tr>\n",
       "      <th>4</th>\n",
       "      <td>9</td>\n",
       "      <td>Michael Rodriguez</td>\n",
       "      <td>04/01/15</td>\n",
       "      <td>shot</td>\n",
       "      <td>nail gun</td>\n",
       "      <td>39.0</td>\n",
       "      <td>M</td>\n",
       "      <td>H</td>\n",
       "      <td>Evans</td>\n",
       "      <td>CO</td>\n",
       "      <td>False</td>\n",
       "      <td>attack</td>\n",
       "      <td>Not fleeing</td>\n",
       "      <td>False</td>\n",
       "    </tr>\n",
       "  </tbody>\n",
       "</table>\n",
       "</div>"
      ],
      "text/plain": [
       "   id                name      date   manner_of_death       armed   age  \\\n",
       "0   3          Tim Elliot  02/01/15              shot         gun  53.0   \n",
       "1   4    Lewis Lee Lembke  02/01/15              shot         gun  47.0   \n",
       "2   5  John Paul Quintero  03/01/15  shot and Tasered     unarmed  23.0   \n",
       "3   8     Matthew Hoffman  04/01/15              shot  toy weapon  32.0   \n",
       "4   9   Michael Rodriguez  04/01/15              shot    nail gun  39.0   \n",
       "\n",
       "  gender race           city state  signs_of_mental_illness threat_level  \\\n",
       "0      M    A        Shelton    WA                     True       attack   \n",
       "1      M    W          Aloha    OR                    False       attack   \n",
       "2      M    H        Wichita    KS                    False        other   \n",
       "3      M    W  San Francisco    CA                     True       attack   \n",
       "4      M    H          Evans    CO                    False       attack   \n",
       "\n",
       "          flee  body_camera  \n",
       "0  Not fleeing        False  \n",
       "1  Not fleeing        False  \n",
       "2  Not fleeing        False  \n",
       "3  Not fleeing        False  \n",
       "4  Not fleeing        False  "
      ]
     },
     "execution_count": 13,
     "metadata": {},
     "output_type": "execute_result"
    }
   ],
   "source": [
    "# YOUR CODE IS HERE\n",
    "\n",
    "kill.head()"
   ]
  },
  {
   "cell_type": "markdown",
   "metadata": {},
   "source": [
    "Desired Output:\n",
    "\n",
    "<img src=https://i.ibb.co/bF8hKvn/DV1-1a.png width=\"800\" height=\"200\">  "
   ]
  },
  {
   "cell_type": "code",
   "execution_count": 14,
   "metadata": {},
   "outputs": [
    {
     "data": {
      "text/html": [
       "<div>\n",
       "<style scoped>\n",
       "    .dataframe tbody tr th:only-of-type {\n",
       "        vertical-align: middle;\n",
       "    }\n",
       "\n",
       "    .dataframe tbody tr th {\n",
       "        vertical-align: top;\n",
       "    }\n",
       "\n",
       "    .dataframe thead th {\n",
       "        text-align: right;\n",
       "    }\n",
       "</style>\n",
       "<table border=\"1\" class=\"dataframe\">\n",
       "  <thead>\n",
       "    <tr style=\"text-align: right;\">\n",
       "      <th></th>\n",
       "      <th>id</th>\n",
       "      <th>name</th>\n",
       "      <th>date</th>\n",
       "      <th>manner_of_death</th>\n",
       "      <th>armed</th>\n",
       "      <th>age</th>\n",
       "      <th>gender</th>\n",
       "      <th>race</th>\n",
       "      <th>city</th>\n",
       "      <th>state</th>\n",
       "      <th>signs_of_mental_illness</th>\n",
       "      <th>threat_level</th>\n",
       "      <th>flee</th>\n",
       "      <th>body_camera</th>\n",
       "      <th>age_cat</th>\n",
       "    </tr>\n",
       "  </thead>\n",
       "  <tbody>\n",
       "    <tr>\n",
       "      <th>0</th>\n",
       "      <td>3</td>\n",
       "      <td>Tim Elliot</td>\n",
       "      <td>02/01/15</td>\n",
       "      <td>shot</td>\n",
       "      <td>gun</td>\n",
       "      <td>53.0</td>\n",
       "      <td>M</td>\n",
       "      <td>A</td>\n",
       "      <td>Shelton</td>\n",
       "      <td>WA</td>\n",
       "      <td>True</td>\n",
       "      <td>attack</td>\n",
       "      <td>Not fleeing</td>\n",
       "      <td>False</td>\n",
       "      <td>above25</td>\n",
       "    </tr>\n",
       "    <tr>\n",
       "      <th>1</th>\n",
       "      <td>4</td>\n",
       "      <td>Lewis Lee Lembke</td>\n",
       "      <td>02/01/15</td>\n",
       "      <td>shot</td>\n",
       "      <td>gun</td>\n",
       "      <td>47.0</td>\n",
       "      <td>M</td>\n",
       "      <td>W</td>\n",
       "      <td>Aloha</td>\n",
       "      <td>OR</td>\n",
       "      <td>False</td>\n",
       "      <td>attack</td>\n",
       "      <td>Not fleeing</td>\n",
       "      <td>False</td>\n",
       "      <td>above25</td>\n",
       "    </tr>\n",
       "    <tr>\n",
       "      <th>2</th>\n",
       "      <td>5</td>\n",
       "      <td>John Paul Quintero</td>\n",
       "      <td>03/01/15</td>\n",
       "      <td>shot and Tasered</td>\n",
       "      <td>unarmed</td>\n",
       "      <td>23.0</td>\n",
       "      <td>M</td>\n",
       "      <td>H</td>\n",
       "      <td>Wichita</td>\n",
       "      <td>KS</td>\n",
       "      <td>False</td>\n",
       "      <td>other</td>\n",
       "      <td>Not fleeing</td>\n",
       "      <td>False</td>\n",
       "      <td>below25</td>\n",
       "    </tr>\n",
       "    <tr>\n",
       "      <th>3</th>\n",
       "      <td>8</td>\n",
       "      <td>Matthew Hoffman</td>\n",
       "      <td>04/01/15</td>\n",
       "      <td>shot</td>\n",
       "      <td>toy weapon</td>\n",
       "      <td>32.0</td>\n",
       "      <td>M</td>\n",
       "      <td>W</td>\n",
       "      <td>San Francisco</td>\n",
       "      <td>CA</td>\n",
       "      <td>True</td>\n",
       "      <td>attack</td>\n",
       "      <td>Not fleeing</td>\n",
       "      <td>False</td>\n",
       "      <td>above25</td>\n",
       "    </tr>\n",
       "    <tr>\n",
       "      <th>4</th>\n",
       "      <td>9</td>\n",
       "      <td>Michael Rodriguez</td>\n",
       "      <td>04/01/15</td>\n",
       "      <td>shot</td>\n",
       "      <td>nail gun</td>\n",
       "      <td>39.0</td>\n",
       "      <td>M</td>\n",
       "      <td>H</td>\n",
       "      <td>Evans</td>\n",
       "      <td>CO</td>\n",
       "      <td>False</td>\n",
       "      <td>attack</td>\n",
       "      <td>Not fleeing</td>\n",
       "      <td>False</td>\n",
       "      <td>above25</td>\n",
       "    </tr>\n",
       "  </tbody>\n",
       "</table>\n",
       "</div>"
      ],
      "text/plain": [
       "   id                name      date   manner_of_death       armed   age  \\\n",
       "0   3          Tim Elliot  02/01/15              shot         gun  53.0   \n",
       "1   4    Lewis Lee Lembke  02/01/15              shot         gun  47.0   \n",
       "2   5  John Paul Quintero  03/01/15  shot and Tasered     unarmed  23.0   \n",
       "3   8     Matthew Hoffman  04/01/15              shot  toy weapon  32.0   \n",
       "4   9   Michael Rodriguez  04/01/15              shot    nail gun  39.0   \n",
       "\n",
       "  gender race           city state  signs_of_mental_illness threat_level  \\\n",
       "0      M    A        Shelton    WA                     True       attack   \n",
       "1      M    W          Aloha    OR                    False       attack   \n",
       "2      M    H        Wichita    KS                    False        other   \n",
       "3      M    W  San Francisco    CA                     True       attack   \n",
       "4      M    H          Evans    CO                    False       attack   \n",
       "\n",
       "          flee  body_camera  age_cat  \n",
       "0  Not fleeing        False  above25  \n",
       "1  Not fleeing        False  above25  \n",
       "2  Not fleeing        False  below25  \n",
       "3  Not fleeing        False  above25  \n",
       "4  Not fleeing        False  above25  "
      ]
     },
     "execution_count": 14,
     "metadata": {},
     "output_type": "execute_result"
    }
   ],
   "source": [
    "# YOUR CODE IS HERE\n",
    "\n",
    "# kill.age.dtype\n",
    "\n",
    "kill[\"age_cat\"] = kill[\"age\"].transform(lambda x : \"above25\" if x >= 25 else \"below25\" if x < 25 else \"others\")\n",
    "kill.head()"
   ]
  },
  {
   "cell_type": "markdown",
   "metadata": {},
   "source": [
    "Desired Output:\n",
    "\n",
    "<img src=https://i.ibb.co/7G2kq8x/DV1-3a.png width=\"800\" height=\"200\">  "
   ]
  },
  {
   "cell_type": "code",
   "execution_count": 15,
   "metadata": {},
   "outputs": [
    {
     "data": {
      "text/plain": [
       "above25    2008\n",
       "below25     450\n",
       "others       77\n",
       "Name: age_cat, dtype: int64"
      ]
     },
     "execution_count": 15,
     "metadata": {},
     "output_type": "execute_result"
    }
   ],
   "source": [
    "# YOUR CODE IS HERE\n",
    "\n",
    "# kill[kill[\"age_cat\"] == \"others\"]\n",
    "kill[\"age_cat\"].value_counts()"
   ]
  },
  {
   "cell_type": "raw",
   "metadata": {},
   "source": [
    "Desired Output:\n",
    "\n",
    "above25    2008\n",
    "below25     450\n",
    "others       77\n",
    "Name: age_cat, dtype: int64"
   ]
  },
  {
   "cell_type": "code",
   "execution_count": 16,
   "metadata": {},
   "outputs": [
    {
     "data": {
      "image/png": "[encoded data removed]",
      "text/plain": [
       "<Figure size 640x480 with 1 Axes>"
      ]
     },
     "metadata": {},
     "output_type": "display_data"
    }
   ],
   "source": [
    "# With Matplolib\n",
    "\n",
    "# YOUR CODE IS HERE\n",
    "\n",
    "# OOM\n",
    "\n",
    "fig, ax = plt.subplots()\n",
    "\n",
    "age_cat = kill[\"age_cat\"].value_counts()\n",
    "\n",
    "ax.bar(age_cat.index, age_cat)\n",
    "\n",
    "# ax.set_xticklabels(age_cat.index, rotation = 90)\n",
    "\n",
    "# for i in ax.containers:\n",
    "#     ax.bar_label(i)\n",
    "\n",
    "ax.bar_label(ax.containers[0]);\n"
   ]
  },
  {
   "cell_type": "code",
   "execution_count": 17,
   "metadata": {},
   "outputs": [],
   "source": [
    "# FUNCTIONAL\n",
    "\n",
    "# plt.figure(figsize = (10, 6))\n",
    "\n",
    "# age_cat = kill[\"age_cat\"].value_counts()\n",
    "\n",
    "# plt.bar(age_cat.index, age_cat)\n",
    "\n",
    "# # plt.xticks(age_cat.index, rotation = 90)\n",
    "\n",
    "# for i, count in enumerate(age_cat):\n",
    "#     plt.text(i , count, str(count), ha = \"center\", va = \"bottom\")"
   ]
  },
  {
   "cell_type": "markdown",
   "metadata": {},
   "source": [
    "Desired Output:\n",
    "\n",
    "<img src=https://i.ibb.co/8N5dYDC/DV1-3b.png width=\"400\" height=\"200\">  "
   ]
  },
  {
   "cell_type": "code",
   "execution_count": 18,
   "metadata": {},
   "outputs": [
    {
     "data": {
      "image/png": "[encoded data removed]",
      "text/plain": [
       "<Figure size 640x480 with 1 Axes>"
      ]
     },
     "metadata": {},
     "output_type": "display_data"
    }
   ],
   "source": [
    "# With Pandas\n",
    "\n",
    "# YOUR CODE IS HERE\n",
    "\n",
    "age_cat = kill[\"age_cat\"].value_counts()\n",
    "\n",
    "ax = age_cat.plot.bar()\n",
    "\n",
    "ax.bar_label(ax.containers[0]);\n",
    "\n",
    "# for i in ax.containers:\n",
    "#     ax.bar_label(i)"
   ]
  },
  {
   "cell_type": "markdown",
   "metadata": {},
   "source": [
    "Desired Output:\n",
    "\n",
    "<img src=https://i.ibb.co/94b7Hy4/DV1-3c.png width=\"400\" height=\"200\">  "
   ]
  },
  {
   "cell_type": "markdown",
   "metadata": {},
   "source": [
    "## <p style=\"background-color:#9d4f8c; font-family:newtimeroman; color:#FFF9ED; font-size:150%; text-align:center; border-radius:10px 10px;\">Task-04: Plot the number of killed people by race</p>\n",
    "\n",
    "<a id=\"5\"></a>\n",
    "<a href=\"#toc\" class=\"btn btn-primary btn-sm\" role=\"button\" aria-pressed=\"true\" \n",
    "style=\"color:blue; background-color:#dfa8e4\" data-toggle=\"popover\">Content</a>"
   ]
  },
  {
   "cell_type": "code",
   "execution_count": 19,
   "metadata": {},
   "outputs": [
    {
     "data": {
      "text/plain": [
       "W    1201\n",
       "B     618\n",
       "H     423\n",
       "A      39\n",
       "N      31\n",
       "O      28\n",
       "Name: race, dtype: int64"
      ]
     },
     "execution_count": 19,
     "metadata": {},
     "output_type": "execute_result"
    }
   ],
   "source": [
    "# YOUR CODE IS HERE\n",
    "\n",
    "kill[\"race\"].value_counts()"
   ]
  },
  {
   "cell_type": "raw",
   "metadata": {},
   "source": [
    "Desired Output:\n",
    "\n",
    "W    1201\n",
    "B     618\n",
    "H     423\n",
    "A      39\n",
    "N      31\n",
    "O      28\n",
    "Name: race, dtype: int64"
   ]
  },
  {
   "cell_type": "code",
   "execution_count": 20,
   "metadata": {},
   "outputs": [
    {
     "data": {
      "image/png": "[encoded data removed]",
      "text/plain": [
       "<Figure size 640x480 with 1 Axes>"
      ]
     },
     "metadata": {},
     "output_type": "display_data"
    }
   ],
   "source": [
    "# With Matplolib\n",
    "\n",
    "# YOUR CODE IS HERE\n",
    "\n",
    "# OOM\n",
    "\n",
    "fig, ax = plt.subplots()\n",
    "\n",
    "race_people = kill[\"race\"].value_counts()\n",
    "\n",
    "ax.bar(race_people.index, race_people)\n",
    "\n",
    "ax.set_title(\"Race of killed people\" , c = \"b\")\n",
    "\n",
    "# ax.bar_label(ax.containers[0])\n",
    "\n",
    "for i in ax.containers:\n",
    "    ax.bar_label(i)"
   ]
  },
  {
   "cell_type": "code",
   "execution_count": 21,
   "metadata": {},
   "outputs": [],
   "source": [
    "# # plt.figure(figsize = (11, 8))\n",
    "\n",
    "## Functional\n",
    "\n",
    "# race_people = kill[\"race\"].value_counts()\n",
    "\n",
    "# plt.bar(race_people.index, race_people)\n",
    "\n",
    "# plt.title(\"Race of killed people\" , c = \"b\")\n",
    "\n",
    "# # ax.bar_label(ax.containers[0])\n",
    "\n",
    "# for i, count in enumerate(race_people):\n",
    "#     plt.text(i ,count, str(count), ha = \"center\", va = \"bottom\")\n",
    "    \n",
    "# list(enumerate(race_people))"
   ]
  },
  {
   "cell_type": "markdown",
   "metadata": {},
   "source": [
    "Desired Output:\n",
    "\n",
    "<img src=https://i.ibb.co/CWdWQkG/DV1-4.png width=\"400\" height=\"200\">  "
   ]
  },
  {
   "cell_type": "code",
   "execution_count": 22,
   "metadata": {},
   "outputs": [
    {
     "data": {
      "image/png": "[encoded data removed]",
      "text/plain": [
       "<Figure size 640x480 with 1 Axes>"
      ]
     },
     "metadata": {},
     "output_type": "display_data"
    }
   ],
   "source": [
    "# With Pandas\n",
    "\n",
    "# YOUR CODE IS HERE\n",
    "\n",
    "race_people = kill[\"race\"].value_counts()\n",
    "\n",
    "ax = race_people.plot.bar()\n",
    "\n",
    "ax.set_title(\"Race of killed people\" , c = \"b\")\n",
    "\n",
    "# ax.bar_label(ax.containers[0])\n",
    "\n",
    "for i in ax.containers:\n",
    "    ax.bar_label(i)\n",
    "    \n",
    "# label rotates 90 degrees while in pandas"
   ]
  },
  {
   "cell_type": "markdown",
   "metadata": {},
   "source": [
    "Desired Output:\n",
    "\n",
    "<img src=https://i.ibb.co/hBb91Gk/DV1-4a.png width=\"400\" height=\"200\">  "
   ]
  },
  {
   "cell_type": "markdown",
   "metadata": {},
   "source": [
    "## <p style=\"background-color:#9d4f8c; font-family:newtimeroman; color:#FFF9ED; font-size:150%; text-align:center; border-radius:10px 10px;\">Task-05: Plot the number of killed people by race (Pie Chart)</p>\n",
    "\n",
    "<a id=\"6\"></a>\n",
    "<a href=\"#toc\" class=\"btn btn-primary btn-sm\" role=\"button\" aria-pressed=\"true\" \n",
    "style=\"color:blue; background-color:#dfa8e4\" data-toggle=\"popover\">Content</a>"
   ]
  },
  {
   "cell_type": "code",
   "execution_count": 23,
   "metadata": {
    "code_folding": [
     0
    ]
   },
   "outputs": [
    {
     "data": {
      "text/html": [
       "<div>\n",
       "<style scoped>\n",
       "    .dataframe tbody tr th:only-of-type {\n",
       "        vertical-align: middle;\n",
       "    }\n",
       "\n",
       "    .dataframe tbody tr th {\n",
       "        vertical-align: top;\n",
       "    }\n",
       "\n",
       "    .dataframe thead th {\n",
       "        text-align: right;\n",
       "    }\n",
       "</style>\n",
       "<table border=\"1\" class=\"dataframe\">\n",
       "  <thead>\n",
       "    <tr style=\"text-align: right;\">\n",
       "      <th></th>\n",
       "      <th>id</th>\n",
       "      <th>name</th>\n",
       "      <th>date</th>\n",
       "      <th>manner_of_death</th>\n",
       "      <th>armed</th>\n",
       "      <th>age</th>\n",
       "      <th>gender</th>\n",
       "      <th>race</th>\n",
       "      <th>city</th>\n",
       "      <th>state</th>\n",
       "      <th>signs_of_mental_illness</th>\n",
       "      <th>threat_level</th>\n",
       "      <th>flee</th>\n",
       "      <th>body_camera</th>\n",
       "      <th>age_cat</th>\n",
       "    </tr>\n",
       "  </thead>\n",
       "  <tbody>\n",
       "    <tr>\n",
       "      <th>0</th>\n",
       "      <td>3</td>\n",
       "      <td>Tim Elliot</td>\n",
       "      <td>02/01/15</td>\n",
       "      <td>shot</td>\n",
       "      <td>gun</td>\n",
       "      <td>53.0</td>\n",
       "      <td>M</td>\n",
       "      <td>A</td>\n",
       "      <td>Shelton</td>\n",
       "      <td>WA</td>\n",
       "      <td>True</td>\n",
       "      <td>attack</td>\n",
       "      <td>Not fleeing</td>\n",
       "      <td>False</td>\n",
       "      <td>above25</td>\n",
       "    </tr>\n",
       "    <tr>\n",
       "      <th>1</th>\n",
       "      <td>4</td>\n",
       "      <td>Lewis Lee Lembke</td>\n",
       "      <td>02/01/15</td>\n",
       "      <td>shot</td>\n",
       "      <td>gun</td>\n",
       "      <td>47.0</td>\n",
       "      <td>M</td>\n",
       "      <td>W</td>\n",
       "      <td>Aloha</td>\n",
       "      <td>OR</td>\n",
       "      <td>False</td>\n",
       "      <td>attack</td>\n",
       "      <td>Not fleeing</td>\n",
       "      <td>False</td>\n",
       "      <td>above25</td>\n",
       "    </tr>\n",
       "    <tr>\n",
       "      <th>2</th>\n",
       "      <td>5</td>\n",
       "      <td>John Paul Quintero</td>\n",
       "      <td>03/01/15</td>\n",
       "      <td>shot and Tasered</td>\n",
       "      <td>unarmed</td>\n",
       "      <td>23.0</td>\n",
       "      <td>M</td>\n",
       "      <td>H</td>\n",
       "      <td>Wichita</td>\n",
       "      <td>KS</td>\n",
       "      <td>False</td>\n",
       "      <td>other</td>\n",
       "      <td>Not fleeing</td>\n",
       "      <td>False</td>\n",
       "      <td>below25</td>\n",
       "    </tr>\n",
       "    <tr>\n",
       "      <th>3</th>\n",
       "      <td>8</td>\n",
       "      <td>Matthew Hoffman</td>\n",
       "      <td>04/01/15</td>\n",
       "      <td>shot</td>\n",
       "      <td>toy weapon</td>\n",
       "      <td>32.0</td>\n",
       "      <td>M</td>\n",
       "      <td>W</td>\n",
       "      <td>San Francisco</td>\n",
       "      <td>CA</td>\n",
       "      <td>True</td>\n",
       "      <td>attack</td>\n",
       "      <td>Not fleeing</td>\n",
       "      <td>False</td>\n",
       "      <td>above25</td>\n",
       "    </tr>\n",
       "    <tr>\n",
       "      <th>4</th>\n",
       "      <td>9</td>\n",
       "      <td>Michael Rodriguez</td>\n",
       "      <td>04/01/15</td>\n",
       "      <td>shot</td>\n",
       "      <td>nail gun</td>\n",
       "      <td>39.0</td>\n",
       "      <td>M</td>\n",
       "      <td>H</td>\n",
       "      <td>Evans</td>\n",
       "      <td>CO</td>\n",
       "      <td>False</td>\n",
       "      <td>attack</td>\n",
       "      <td>Not fleeing</td>\n",
       "      <td>False</td>\n",
       "      <td>above25</td>\n",
       "    </tr>\n",
       "  </tbody>\n",
       "</table>\n",
       "</div>"
      ],
      "text/plain": [
       "   id                name      date   manner_of_death       armed   age  \\\n",
       "0   3          Tim Elliot  02/01/15              shot         gun  53.0   \n",
       "1   4    Lewis Lee Lembke  02/01/15              shot         gun  47.0   \n",
       "2   5  John Paul Quintero  03/01/15  shot and Tasered     unarmed  23.0   \n",
       "3   8     Matthew Hoffman  04/01/15              shot  toy weapon  32.0   \n",
       "4   9   Michael Rodriguez  04/01/15              shot    nail gun  39.0   \n",
       "\n",
       "  gender race           city state  signs_of_mental_illness threat_level  \\\n",
       "0      M    A        Shelton    WA                     True       attack   \n",
       "1      M    W          Aloha    OR                    False       attack   \n",
       "2      M    H        Wichita    KS                    False        other   \n",
       "3      M    W  San Francisco    CA                     True       attack   \n",
       "4      M    H          Evans    CO                    False       attack   \n",
       "\n",
       "          flee  body_camera  age_cat  \n",
       "0  Not fleeing        False  above25  \n",
       "1  Not fleeing        False  above25  \n",
       "2  Not fleeing        False  below25  \n",
       "3  Not fleeing        False  above25  \n",
       "4  Not fleeing        False  above25  "
      ]
     },
     "execution_count": 23,
     "metadata": {},
     "output_type": "execute_result"
    }
   ],
   "source": [
    "# Let's remember our DataFrame\n",
    "\n",
    "# YOUR CODE IS HERE\n",
    "\n",
    "kill.head()"
   ]
  },
  {
   "cell_type": "markdown",
   "metadata": {},
   "source": [
    "Desired Output:\n",
    "\n",
    "<img src=https://i.ibb.co/7G2kq8x/DV1-3a.png width=\"800\" height=\"200\">  "
   ]
  },
  {
   "cell_type": "code",
   "execution_count": 24,
   "metadata": {},
   "outputs": [
    {
     "data": {
      "text/plain": [
       "array(['A', 'W', 'H', 'B', 'O', nan, 'N'], dtype=object)"
      ]
     },
     "execution_count": 24,
     "metadata": {},
     "output_type": "execute_result"
    }
   ],
   "source": [
    "# YOUR CODE IS HERE\n",
    "\n",
    "kill[\"race\"].unique()"
   ]
  },
  {
   "cell_type": "raw",
   "metadata": {},
   "source": [
    "Desired Output:\n",
    "\n",
    "array(['A', 'W', 'H', 'B', 'O', nan, 'N'], dtype=object)"
   ]
  },
  {
   "cell_type": "code",
   "execution_count": 25,
   "metadata": {},
   "outputs": [
    {
     "data": {
      "text/plain": [
       "W      1201\n",
       "B       618\n",
       "H       423\n",
       "NaN     195\n",
       "A        39\n",
       "N        31\n",
       "O        28\n",
       "Name: race, dtype: int64"
      ]
     },
     "execution_count": 25,
     "metadata": {},
     "output_type": "execute_result"
    }
   ],
   "source": [
    "# YOUR CODE IS HERE\n",
    "\n",
    "kill[\"race\"].value_counts(dropna = False)"
   ]
  },
  {
   "cell_type": "raw",
   "metadata": {},
   "source": [
    "Desired Output:\n",
    "\n",
    "W      1201\n",
    "B       618\n",
    "H       423\n",
    "NaN     195\n",
    "A        39\n",
    "N        31\n",
    "O        28\n",
    "Name: race, dtype: int64"
   ]
  },
  {
   "cell_type": "markdown",
   "metadata": {},
   "source": [
    "Problem: missing value on race column."
   ]
  },
  {
   "cell_type": "markdown",
   "metadata": {},
   "source": [
    "**INSTRUCTION-1: Drop all rows that contain missing value (dropna)**"
   ]
  },
  {
   "cell_type": "code",
   "execution_count": 26,
   "metadata": {},
   "outputs": [],
   "source": [
    "# Let's drop all rows that contain missing value \n",
    "\n",
    "# YOUR CODE IS HERE\n",
    "\n",
    "kill.dropna(inplace = True)"
   ]
  },
  {
   "cell_type": "code",
   "execution_count": 27,
   "metadata": {},
   "outputs": [
    {
     "data": {
      "text/plain": [
       "(2254, 15)"
      ]
     },
     "execution_count": 27,
     "metadata": {},
     "output_type": "execute_result"
    }
   ],
   "source": [
    "# YOUR CODE IS HERE\n",
    "\n",
    "kill.shape"
   ]
  },
  {
   "cell_type": "raw",
   "metadata": {},
   "source": [
    "Desired Output:\n",
    "\n",
    "(2254, 15)"
   ]
  },
  {
   "cell_type": "markdown",
   "metadata": {},
   "source": [
    "**INSTRUCTION-2: Demonstrate Race Ratio of Killed People by a Pie Chart (You can use Matplotlib)**"
   ]
  },
  {
   "cell_type": "code",
   "execution_count": 28,
   "metadata": {},
   "outputs": [
    {
     "data": {
      "text/plain": [
       "W    1168\n",
       "B     592\n",
       "H     401\n",
       "A      36\n",
       "N      29\n",
       "O      28\n",
       "Name: race, dtype: int64"
      ]
     },
     "execution_count": 28,
     "metadata": {},
     "output_type": "execute_result"
    }
   ],
   "source": [
    "kill[\"race\"].value_counts()"
   ]
  },
  {
   "cell_type": "raw",
   "metadata": {},
   "source": [
    "Desired Output:\n",
    "\n",
    "W    1168\n",
    "B     592\n",
    "H     401\n",
    "A      36\n",
    "N      29\n",
    "O      28\n",
    "Name: race, dtype: int64"
   ]
  },
  {
   "cell_type": "code",
   "execution_count": 29,
   "metadata": {},
   "outputs": [
    {
     "data": {
      "text/plain": [
       "Index(['W', 'B', 'H', 'A', 'N', 'O'], dtype='object')"
      ]
     },
     "execution_count": 29,
     "metadata": {},
     "output_type": "execute_result"
    }
   ],
   "source": [
    "# YOUR CODE IS HERE\n",
    "\n",
    "kill[\"race\"].value_counts().index"
   ]
  },
  {
   "cell_type": "raw",
   "metadata": {},
   "source": [
    "Desired Output:\n",
    "\n",
    "Index(['W', 'B', 'H', 'A', 'N', 'O'], dtype='object')"
   ]
  },
  {
   "cell_type": "code",
   "execution_count": 30,
   "metadata": {},
   "outputs": [
    {
     "data": {
      "text/plain": [
       "array([1168,  592,  401,   36,   29,   28], dtype=int64)"
      ]
     },
     "execution_count": 30,
     "metadata": {},
     "output_type": "execute_result"
    }
   ],
   "source": [
    "# YOUR CODE IS HERE\n",
    "\n",
    "kill[\"race\"].value_counts().values"
   ]
  },
  {
   "cell_type": "raw",
   "metadata": {},
   "source": [
    "Desired Output:\n",
    "\n",
    "array([1168,  592,  401,   36,   29,   28])"
   ]
  },
  {
   "cell_type": "code",
   "execution_count": 31,
   "metadata": {},
   "outputs": [
    {
     "data": {
      "image/png": "[encoded data removed]",
      "text/plain": [
       "<Figure size 1100x800 with 1 Axes>"
      ]
     },
     "metadata": {},
     "output_type": "display_data"
    }
   ],
   "source": [
    "# With Matplolib\n",
    "\n",
    "# YOUR CODE IS HERE\n",
    "\n",
    "# OOM\n",
    "\n",
    "fig, ax = plt.subplots(figsize = (11, 8))\n",
    "\n",
    "race_counts = kill[\"race\"].value_counts()\n",
    "\n",
    "ax.pie( race_counts , \n",
    "       labels = race_counts.index, \n",
    "       autopct = '%1.1f', \n",
    "       labeldistance = 0.8,  \n",
    "       textprops={'fontsize': 6, 'color' : \"white\"},\n",
    "       explode = [0, 0, 0.1, 0, 0, 0]\n",
    "      );"
   ]
  },
  {
   "cell_type": "code",
   "execution_count": 32,
   "metadata": {},
   "outputs": [],
   "source": [
    "# # functional\n",
    "\n",
    "# plt.figure(figsize = (11, 8))\n",
    "\n",
    "# race_counts = kill[\"race\"].value_counts()\n",
    "\n",
    "# plt.pie( race_counts , \n",
    "#        labels = race_counts.index, \n",
    "#        autopct = '%1.1f', \n",
    "#        labeldistance = 0.8,  \n",
    "#        textprops={'fontsize': 6, 'color' : \"white\"},\n",
    "#        explode = [0, 0, 0.1, 0, 0, 0]\n",
    "#       );"
   ]
  },
  {
   "cell_type": "markdown",
   "metadata": {},
   "source": [
    "Desired Output:\n",
    "\n",
    "<img src=https://i.ibb.co/F0vJJ9p/DV1-5.png width=\"400\" height=\"200\">  "
   ]
  },
  {
   "cell_type": "markdown",
   "metadata": {
    "id": "tRAjYkN_MqkZ"
   },
   "source": [
    "<a id=\"8\"></a>\n",
    "<a href=\"#toc\" class=\"btn btn-primary btn-sm\" role=\"button\" aria-pressed=\"true\" \n",
    "style=\"color:blue; background-color:#dfa8e4\" data-toggle=\"popover\">Content</a>\n",
    "\n",
    "## <p style=\"background-color:#9d4f8c; font-family:newtimeroman; color:#FFF9ED; font-size:150%; text-align:center; border-radius:10px 10px;\">THE END OF THE ASSIGNMENT-01</p>\n",
    "\n",
    "# Now. it's time to relax! Take your time and sip your coffee\n",
    "\n",
    "<img src=https://i.ibb.co/jZD3Mqb/relaxing.jpg width=\"800\" height=\"200\">  \n",
    "\n",
    "\n",
    "<p style=\"text-align: center;\"><img src=\"https://i.ibb.co/99DQ3TY/DS-Courses.png\" class=\"img-fluid\" \n",
    "alt=\"CLRSWY\"></p>\n",
    "\n",
    "<a href=\"https://clarusway.com/\"><img align=\"center\" src=\"https://docs.google.com/uc?id=1lY0Uj5R04yMY3-ZppPWxqCr5pvBLYPnV\" alt=\"CLRSWY\" title=\"Way to Reinvent Yourself\"></a><br/>\n",
    "\n",
    "\n",
    "## <p style=\"background-color:#FDFEFE; font-family:newtimeroman; color:#9d4f8c; font-size:120%; text-align:center; border-radius:10px 10px;\">Way to Reinvent Yourself</p>\n",
    "___"
   ]
  }
 ],
 "metadata": {
  "colab": {
   "collapsed_sections": [],
   "name": "Assignment-1 student.ipynb",
   "provenance": [],
   "toc_visible": true
  },
  "kernelspec": {
   "display_name": "Python 3 (ipykernel)",
   "language": "python",
   "name": "python3"
  },
  "language_info": {
   "codemirror_mode": {
    "name": "ipython",
    "version": 3
   },
   "file_extension": ".py",
   "mimetype": "text/x-python",
   "name": "python",
   "nbconvert_exporter": "python",
   "pygments_lexer": "ipython3",
   "version": "3.10.9"
  },
  "toc": {
   "base_numbering": 1,
   "nav_menu": {},
   "number_sections": false,
   "sideBar": true,
   "skip_h1_title": false,
   "title_cell": "Table of Contents",
   "title_sidebar": "Contents",
   "toc_cell": false,
   "toc_position": {
    "height": "calc(100% - 180px)",
    "left": "10px",
    "top": "150px",
    "width": "304.475px"
   },
   "toc_section_display": true,
   "toc_window_display": true
  }
 },
 "nbformat": 4,
 "nbformat_minor": 1
}
